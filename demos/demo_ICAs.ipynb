{
 "cells": [
  {
   "cell_type": "markdown",
   "metadata": {},
   "source": [
    "# Demo notebook: Independent Component Analysis to remove stripes from the calcium imaging recordings"
   ]
  },
  {
   "cell_type": "code",
   "execution_count": null,
   "metadata": {},
   "outputs": [],
   "source": [
    "import os\n",
    "import sys\n",
    "\n",
    "sys.path.append('/Users/annateruel/phd_code/')\n",
    "from ca2img.icas import VideoPCA\n",
    "from ca2img.minian_dca1 import start_cluster"
   ]
  },
  {
   "cell_type": "code",
   "execution_count": null,
   "metadata": {},
   "outputs": [],
   "source": [
    "start_cluster(n_workers=8, memory_limit=\"6GB\")"
   ]
  },
  {
   "cell_type": "code",
   "execution_count": null,
   "metadata": {},
   "outputs": [],
   "source": [
    "dir = '/Volumes/ANNA_HD/ANALYSIS/Ca2+Img/23-03-ST-anna/AD22-265/annateruel/srt_trial/AD22-265/minian/2023_04_13/16_50_31/My_V4_Miniscope'\n",
    "avi_files = [os.path.join(dir, f) for f in os.listdir(dir) if f.endswith('.avi') and not f.startswith('p_')]\n",
    "avi_files.sort()\n",
    "avi_files"
   ]
  },
  {
   "cell_type": "code",
   "execution_count": null,
   "metadata": {},
   "outputs": [],
   "source": [
    "video_pca = VideoPCA(avi_files)\n",
    "video_pca.collect_frames()"
   ]
  },
  {
   "cell_type": "code",
   "execution_count": null,
   "metadata": {},
   "outputs": [],
   "source": [
    "video_pca.pca_videos()"
   ]
  },
  {
   "cell_type": "code",
   "execution_count": null,
   "metadata": {},
   "outputs": [],
   "source": [
    "video_pca.plot_cumulative_variance()"
   ]
  },
  {
   "cell_type": "markdown",
   "metadata": {},
   "source": [
    "Typically the number of ICA can be based on the number of principal components that explain a significant amount of variance in my data. For instance, we should chose the number of components that explain at least 90% of the variance. "
   ]
  },
  {
   "cell_type": "markdown",
   "metadata": {},
   "source": [
    "# TRIAL\n"
   ]
  },
  {
   "cell_type": "code",
   "execution_count": 2,
   "metadata": {},
   "outputs": [
    {
     "name": "stdout",
     "output_type": "stream",
     "text": [
      "Frame shape: (606, 542)\n",
      "Cleaned data shape: (1000, 328452)\n",
      "Saved reconstructed video to /Users/annateruel/Desktop/My_V4_Miniscope/reconstructed_video.avi\n"
     ]
    },
    {
     "name": "stderr",
     "output_type": "stream",
     "text": [
      "ffmpeg version 7.0 Copyright (c) 2000-2024 the FFmpeg developers\n",
      "  built with Apple clang version 15.0.0 (clang-1500.3.9.4)\n",
      "  configuration: --prefix=/opt/homebrew/Cellar/ffmpeg/7.0 --enable-shared --enable-pthreads --enable-version3 --cc=clang --host-cflags= --host-ldflags='-Wl,-ld_classic' --enable-ffplay --enable-gnutls --enable-gpl --enable-libaom --enable-libaribb24 --enable-libbluray --enable-libdav1d --enable-libharfbuzz --enable-libjxl --enable-libmp3lame --enable-libopus --enable-librav1e --enable-librist --enable-librubberband --enable-libsnappy --enable-libsrt --enable-libssh --enable-libsvtav1 --enable-libtesseract --enable-libtheora --enable-libvidstab --enable-libvmaf --enable-libvorbis --enable-libvpx --enable-libwebp --enable-libx264 --enable-libx265 --enable-libxml2 --enable-libxvid --enable-lzma --enable-libfontconfig --enable-libfreetype --enable-frei0r --enable-libass --enable-libopencore-amrnb --enable-libopencore-amrwb --enable-libopenjpeg --enable-libopenvino --enable-libspeex --enable-libsoxr --enable-libzmq --enable-libzimg --disable-libjack --disable-indev=jack --enable-videotoolbox --enable-audiotoolbox --enable-neon\n",
      "  libavutil      59.  8.100 / 59.  8.100\n",
      "  libavcodec     61.  3.100 / 61.  3.100\n",
      "  libavformat    61.  1.100 / 61.  1.100\n",
      "  libavdevice    61.  1.100 / 61.  1.100\n",
      "  libavfilter    10.  1.100 / 10.  1.100\n",
      "  libswscale      8.  1.100 /  8.  1.100\n",
      "  libswresample   5.  1.100 /  5.  1.100\n",
      "  libpostproc    58.  1.100 / 58.  1.100\n",
      "Input #0, avi, from '/Users/annateruel/Desktop/My_V4_Miniscope/reconstructed_video.avi':\n",
      "  Metadata:\n",
      "    software        : Lavf58.29.100\n",
      "  Duration: 00:00:16.67, start: 0.000000, bitrate: 40017 kb/s\n",
      "  Stream #0:0: Video: mpeg4 (Simple Profile) (XVID / 0x44495658), yuv420p, 542x606 [SAR 1:1 DAR 271:303], 40042 kb/s, 60 fps, 60 tbr, 60 tbn\n",
      "Stream mapping:\n",
      "  Stream #0:0 -> #0:0 (mpeg4 (native) -> h264 (libx264))\n",
      "Press [q] to stop, [?] for help\n",
      "[libx264 @ 0x120604a90] using SAR=1/1\n",
      "[libx264 @ 0x120604a90] using cpu capabilities: ARMv8 NEON\n",
      "[libx264 @ 0x120604a90] profile High, level 3.1, 4:2:0, 8-bit\n",
      "[libx264 @ 0x120604a90] 264 - core 164 r3108 31e19f9 - H.264/MPEG-4 AVC codec - Copyleft 2003-2023 - http://www.videolan.org/x264.html - options: cabac=1 ref=5 deblock=1:0:0 analyse=0x3:0x113 me=hex subme=8 psy=1 psy_rd=1.00:0.00 mixed_ref=1 me_range=16 chroma_me=1 trellis=2 8x8dct=1 cqm=0 deadzone=21,11 fast_pskip=1 chroma_qp_offset=-2 threads=12 lookahead_threads=2 sliced_threads=0 nr=0 decimate=1 interlaced=0 bluray_compat=0 constrained_intra=0 bframes=3 b_pyramid=2 b_adapt=1 b_bias=0 direct=3 weightb=1 open_gop=0 weightp=2 keyint=250 keyint_min=25 scenecut=40 intra_refresh=0 rc_lookahead=50 rc=crf mbtree=1 crf=22.0 qcomp=0.60 qpmin=0 qpmax=69 qpstep=4 ip_ratio=1.40 aq=1:1.00\n",
      "Output #0, mp4, to '/Users/annateruel/Desktop/My_V4_Miniscope/reconstructed_video_converted.mp4':\n",
      "  Metadata:\n",
      "    software        : Lavf58.29.100\n",
      "    encoder         : Lavf61.1.100\n",
      "  Stream #0:0: Video: h264 (avc1 / 0x31637661), yuv420p(progressive), 542x606 [SAR 1:1 DAR 271:303], q=2-31, 60 fps, 15360 tbn\n",
      "      Metadata:\n",
      "        encoder         : Lavc61.3.100 libx264\n",
      "      Side data:\n",
      "        cpb: bitrate max/min/avg: 0/0/0 buffer size: 0 vbv_delay: N/A\n",
      "frame=  985 fps= 23 q=28.0 size=   61952KiB time=00:00:16.38 bitrate=30977.3kbits/s speed=0.382x    \r"
     ]
    },
    {
     "name": "stdout",
     "output_type": "stream",
     "text": [
      "Converted video saved to /Users/annateruel/Desktop/My_V4_Miniscope/reconstructed_video_converted.mp4\n"
     ]
    },
    {
     "name": "stderr",
     "output_type": "stream",
     "text": [
      "[out#0/mp4 @ 0x121035c40] video:63264KiB audio:0KiB subtitle:0KiB other streams:0KiB global headers:0KiB muxing overhead: 0.011194%\n",
      "frame= 1000 fps= 23 q=-1.0 Lsize=   63271KiB time=00:00:16.63 bitrate=31161.1kbits/s speed=0.383x    \n",
      "[libx264 @ 0x120604a90] frame I:267   Avg QP:28.95  size: 86580\n",
      "[libx264 @ 0x120604a90] frame P:648   Avg QP:32.26  size: 58902\n",
      "[libx264 @ 0x120604a90] frame B:85    Avg QP:32.36  size: 41124\n",
      "[libx264 @ 0x120604a90] consecutive B-frames: 85.5%  8.2%  3.9%  2.4%\n",
      "[libx264 @ 0x120604a90] mb I  I16..4:  0.0% 92.1%  7.9%\n",
      "[libx264 @ 0x120604a90] mb P  I16..4:  0.0% 54.6%  0.2%  P16..4: 27.9%  8.0%  7.6%  0.0%  0.0%    skip: 1.7%\n",
      "[libx264 @ 0x120604a90] mb B  I16..4:  0.0%  4.9%  0.0%  B16..8: 30.1%  6.1%  5.8%  direct:47.2%  skip: 6.0%  L0:59.6% L1:16.1% BI:24.4%\n",
      "[libx264 @ 0x120604a90] 8x8 transform intra:96.4% inter:95.3%\n",
      "[libx264 @ 0x120604a90] direct mvs  spatial:92.9% temporal:7.1%\n",
      "[libx264 @ 0x120604a90] coded y,uvDC,uvAC intra: 100.0% 0.6% 0.0% inter: 93.8% 1.1% 0.0%\n",
      "[libx264 @ 0x120604a90] i16 v,h,dc,p:  0% 24% 50% 26%\n",
      "[libx264 @ 0x120604a90] i8 v,h,dc,ddl,ddr,vr,hd,vl,hu:  2% 19% 54%  4%  3%  3%  4%  3%  6%\n",
      "[libx264 @ 0x120604a90] i4 v,h,dc,ddl,ddr,vr,hd,vl,hu:  3% 10% 17% 10% 11%  9% 13% 10% 18%\n",
      "[libx264 @ 0x120604a90] i8c dc,h,v,p: 97%  2%  1%  0%\n",
      "[libx264 @ 0x120604a90] Weighted P-Frames: Y:67.3% UV:18.1%\n",
      "[libx264 @ 0x120604a90] ref P L0: 63.1% 19.1%  9.5%  2.6%  2.4%  2.6%  0.6%\n",
      "[libx264 @ 0x120604a90] ref B L0: 93.2%  2.5%  3.1%  1.2%\n",
      "[libx264 @ 0x120604a90] ref B L1: 99.9%  0.1%\n",
      "[libx264 @ 0x120604a90] kb/s:31094.98\n"
     ]
    }
   ],
   "source": [
    "import numpy as np\n",
    "import cv2\n",
    "import os\n",
    "import subprocess\n",
    "import json\n",
    "\n",
    "def get_video_properties(video_path):\n",
    "    command = [\n",
    "        'ffprobe', '-v', 'error', '-select_streams', 'v:0', '-show_entries',\n",
    "        'stream=width,height,r_frame_rate', '-of', 'json', video_path\n",
    "    ]\n",
    "    result = subprocess.run(command, stdout=subprocess.PIPE, stderr=subprocess.PIPE, text=True)\n",
    "    if result.returncode != 0:\n",
    "        raise ValueError(f\"Failed to get video properties: {result.stderr}\")\n",
    "    \n",
    "    properties = json.loads(result.stdout)\n",
    "    width = properties['streams'][0]['width']\n",
    "    height = properties['streams'][0]['height']\n",
    "    fps = eval(properties['streams'][0]['r_frame_rate'])  # Evaluate to get FPS as a float\n",
    "    return width, height, fps\n",
    "\n",
    "class ICAProcessor:\n",
    "    def __init__(self, sources, components, frame_shape, fps):\n",
    "        self.sources = sources  # Temporal components\n",
    "        self.components = components  # Spatial components\n",
    "        self.frame_shape = frame_shape\n",
    "        self.fps = fps\n",
    "    \n",
    "    def reconstruct_from_selected_components(self, selected_components):\n",
    "        \"\"\"Reconstruct data from selected components.\"\"\"\n",
    "        if self.sources is None or self.components is None:\n",
    "            raise ValueError(\"ICA not performed. Please provide the sources and components.\")\n",
    "        \n",
    "        selected_sources = self.sources[:, selected_components]\n",
    "        selected_components = self.components[selected_components, :]\n",
    "        \n",
    "        # Multiply the temporal and spatial components and sum them\n",
    "        reconstructed_data = np.dot(selected_sources, selected_components)\n",
    "        \n",
    "        return reconstructed_data\n",
    "\n",
    "    def save_reconstructed_video(self, cleaned_data, output_file):\n",
    "        \"\"\"Save the reconstructed data as a video using OpenCV.\"\"\"\n",
    "        height, width = self.frame_shape\n",
    "        \n",
    "        print(f\"Frame shape: {self.frame_shape}\")  # Debug statement\n",
    "        print(f\"Cleaned data shape: {cleaned_data.shape}\")  # Debug statement\n",
    "        \n",
    "        # Verify the cleaned_data shape matches the expected number of frames and frame size\n",
    "        num_frames, data_size = cleaned_data.shape\n",
    "        expected_data_size = height * width\n",
    "        if data_size != expected_data_size:\n",
    "            raise ValueError(f\"Data size mismatch: expected {expected_data_size}, got {data_size}\")\n",
    "        \n",
    "        # Define the codec and create VideoWriter object for AVI\n",
    "        fourcc = cv2.VideoWriter_fourcc(*'XVID')\n",
    "        out = cv2.VideoWriter(output_file, fourcc, self.fps, (width, height), isColor=True)\n",
    "        \n",
    "        for i, frame in enumerate(cleaned_data):\n",
    "            try:\n",
    "                frame_data = frame.reshape(self.frame_shape)\n",
    "                frame_data = cv2.normalize(frame_data, None, 0, 255, cv2.NORM_MINMAX).astype(np.uint8)\n",
    "                frame_data = cv2.cvtColor(frame_data, cv2.COLOR_GRAY2BGR)  # Convert to 3 channels\n",
    "                out.write(frame_data)\n",
    "            except Exception as e:\n",
    "                print(f\"Error processing frame {i}: {e}\")\n",
    "        \n",
    "        out.release()\n",
    "        print(f\"Saved reconstructed video to {output_file}\")\n",
    "\n",
    "    def convert_video_format(self, input_file, output_file):\n",
    "        \"\"\"Convert video to a different format using ffmpeg.\"\"\"\n",
    "        command = [\n",
    "            'ffmpeg',\n",
    "            '-i', input_file,\n",
    "            '-pix_fmt', 'yuv420p',  # Specify pixel format\n",
    "            '-c:v', 'libx264',\n",
    "            '-preset', 'slow',\n",
    "            '-crf', '22',\n",
    "            output_file\n",
    "        ]\n",
    "        try:\n",
    "            subprocess.run(command, check=True)\n",
    "            print(f\"Converted video saved to {output_file}\")\n",
    "        except subprocess.CalledProcessError as e:\n",
    "            print(f\"Error converting video: {e}\")\n",
    "\n",
    "# Example usage\n",
    "if __name__ == \"__main__\":\n",
    "    frame_shape = (606, 542)\n",
    "\n",
    "    # Load the necessary data\n",
    "    ica_sources = np.load('/Users/annateruel/output_plots/ica_sources.npy')\n",
    "    ica_components = np.load('/Users/annateruel/output_plots/ica_components.npy')\n",
    "    # Mean is not loaded as it won't be used\n",
    "\n",
    "    # Initialize the ICAProcessor\n",
    "    processor = ICAProcessor(sources=ica_sources, components=ica_components, frame_shape=frame_shape, fps=60)\n",
    "\n",
    "    # List of discarded component indices (0-based)\n",
    "    discarded_components = [3, 6, 15, 23, 32, 35, 38, 42, 43, 44, 45, 51, 58, 61]  # Converted to 0-based indices\n",
    "\n",
    "    # Reconstruct the data excluding discarded components\n",
    "    cleaned_data = processor.reconstruct_from_selected_components(discarded_components)\n",
    "\n",
    "    # Save the reconstructed video\n",
    "    output_dir =  '/Users/annateruel/Desktop/My_V4_Miniscope/'\n",
    "    os.makedirs(output_dir, exist_ok=True)\n",
    "    output_file = os.path.join(output_dir, 'reconstructed_video.avi')\n",
    "    processor.save_reconstructed_video(cleaned_data, output_file)\n",
    "\n",
    "    # Convert the video format for compatibility if needed\n",
    "    converted_output_file = os.path.join(output_dir, 'reconstructed_video_converted.mp4')\n",
    "    processor.convert_video_format(output_file, converted_output_file)\n",
    "\n",
    "\n"
   ]
  }
 ],
 "metadata": {
  "kernelspec": {
   "display_name": "CaImAn",
   "language": "python",
   "name": "python3"
  },
  "language_info": {
   "codemirror_mode": {
    "name": "ipython",
    "version": 3
   },
   "file_extension": ".py",
   "mimetype": "text/x-python",
   "name": "python",
   "nbconvert_exporter": "python",
   "pygments_lexer": "ipython3",
   "version": "3.8.5"
  }
 },
 "nbformat": 4,
 "nbformat_minor": 2
}
