{
 "cells": [
  {
   "cell_type": "markdown",
   "metadata": {},
   "source": [
    "# Demo notebook: Independent Component Analysis to remove stripes from the calcium imaging recordings"
   ]
  },
  {
   "cell_type": "code",
   "execution_count": null,
   "metadata": {},
   "outputs": [],
   "source": [
    "import os\n",
    "import sys\n",
    "\n",
    "sys.path.append('/Users/annateruel/phd_code/')\n",
    "from ca2img.icas import VideoPCA\n",
    "from ca2img.minian_dca1 import start_cluster"
   ]
  },
  {
   "cell_type": "code",
   "execution_count": null,
   "metadata": {},
   "outputs": [],
   "source": [
    "start_cluster(n_workers=8, memory_limit=\"6GB\")"
   ]
  },
  {
   "cell_type": "code",
   "execution_count": null,
   "metadata": {},
   "outputs": [],
   "source": [
    "dir = '/Volumes/ANNA_HD/ANALYSIS/Ca2+Img/23-03-ST-anna/AD22-265/annateruel/srt_trial/AD22-265/minian/2023_04_13/16_50_31/My_V4_Miniscope'\n",
    "avi_files = [os.path.join(dir, f) for f in os.listdir(dir) if f.endswith('.avi') and not f.startswith('p_')]\n",
    "avi_files.sort()\n",
    "avi_files"
   ]
  },
  {
   "cell_type": "code",
   "execution_count": null,
   "metadata": {},
   "outputs": [],
   "source": [
    "video_pca = VideoPCA(avi_files)\n",
    "video_pca.collect_frames()"
   ]
  },
  {
   "cell_type": "code",
   "execution_count": null,
   "metadata": {},
   "outputs": [],
   "source": [
    "video_pca.pca_videos()"
   ]
  },
  {
   "cell_type": "code",
   "execution_count": null,
   "metadata": {},
   "outputs": [],
   "source": [
    "video_pca.plot_cumulative_variance()"
   ]
  },
  {
   "cell_type": "markdown",
   "metadata": {},
   "source": [
    "Typically the number of ICA can be based on the number of principal components that explain a significant amount of variance in my data. For instance, we should chose the number of components that explain at least 90% of the variance. "
   ]
  },
  {
   "cell_type": "markdown",
   "metadata": {},
   "source": [
    "# TRIAL\n"
   ]
  },
  {
   "cell_type": "code",
   "execution_count": 21,
   "metadata": {},
   "outputs": [
    {
     "name": "stdout",
     "output_type": "stream",
     "text": [
      "Frame shape: (484, 548)\n",
      "Cleaned data shape: (1000, 265232)\n",
      "Saved reconstructed video to /Users/annateruel/Desktop/My_V4_Miniscope/reconstructed_video.avi\n"
     ]
    },
    {
     "name": "stderr",
     "output_type": "stream",
     "text": [
      "ffmpeg version 7.0 Copyright (c) 2000-2024 the FFmpeg developers\n",
      "  built with Apple clang version 15.0.0 (clang-1500.3.9.4)\n",
      "  configuration: --prefix=/opt/homebrew/Cellar/ffmpeg/7.0 --enable-shared --enable-pthreads --enable-version3 --cc=clang --host-cflags= --host-ldflags='-Wl,-ld_classic' --enable-ffplay --enable-gnutls --enable-gpl --enable-libaom --enable-libaribb24 --enable-libbluray --enable-libdav1d --enable-libharfbuzz --enable-libjxl --enable-libmp3lame --enable-libopus --enable-librav1e --enable-librist --enable-librubberband --enable-libsnappy --enable-libsrt --enable-libssh --enable-libsvtav1 --enable-libtesseract --enable-libtheora --enable-libvidstab --enable-libvmaf --enable-libvorbis --enable-libvpx --enable-libwebp --enable-libx264 --enable-libx265 --enable-libxml2 --enable-libxvid --enable-lzma --enable-libfontconfig --enable-libfreetype --enable-frei0r --enable-libass --enable-libopencore-amrnb --enable-libopencore-amrwb --enable-libopenjpeg --enable-libopenvino --enable-libspeex --enable-libsoxr --enable-libzmq --enable-libzimg --disable-libjack --disable-indev=jack --enable-videotoolbox --enable-audiotoolbox --enable-neon\n",
      "  libavutil      59.  8.100 / 59.  8.100\n",
      "  libavcodec     61.  3.100 / 61.  3.100\n",
      "  libavformat    61.  1.100 / 61.  1.100\n",
      "  libavdevice    61.  1.100 / 61.  1.100\n",
      "  libavfilter    10.  1.100 / 10.  1.100\n",
      "  libswscale      8.  1.100 /  8.  1.100\n",
      "  libswresample   5.  1.100 /  5.  1.100\n",
      "  libpostproc    58.  1.100 / 58.  1.100\n",
      "[avi @ 0x1236343b0] Could not find codec parameters for stream 0 (Video: mpeg4 (XVID / 0x44495658), none, 548x484): unspecified pixel format\n",
      "Consider increasing the value for the 'analyzeduration' (0) and 'probesize' (5000000) options\n",
      "Input #0, avi, from '/Users/annateruel/Desktop/My_V4_Miniscope/reconstructed_video.avi':\n",
      "  Metadata:\n",
      "    software        : Lavf58.29.100\n",
      "  Duration: N/A, start: 0.000000, bitrate: N/A\n",
      "  Stream #0:0: Video: mpeg4 (XVID / 0x44495658), none, 548x484, 60 fps, 60 tbr, 60 tbn\n",
      "Stream mapping:\n",
      "  Stream #0:0 -> #0:0 (mpeg4 (native) -> h264 (libx264))\n",
      "Press [q] to stop, [?] for help\n",
      "Cannot determine format of input 0:0 after EOF\n",
      "[vf#0:0 @ 0x123706740] Task finished with error code: -1094995529 (Invalid data found when processing input)\n",
      "[vf#0:0 @ 0x123706740] Terminating thread with return code -1094995529 (Invalid data found when processing input)\n",
      "[vost#0:0/libx264 @ 0x123705b30] Could not open encoder before EOF\n",
      "[vost#0:0/libx264 @ 0x123705b30] Task finished with error code: -22 (Invalid argument)\n",
      "[vost#0:0/libx264 @ 0x123705b30] Terminating thread with return code -22 (Invalid argument)\n"
     ]
    },
    {
     "name": "stdout",
     "output_type": "stream",
     "text": [
      "Error converting video: Command '['ffmpeg', '-i', '/Users/annateruel/Desktop/My_V4_Miniscope/reconstructed_video.avi', '-c:v', 'libx264', '-preset', 'slow', '-crf', '22', '/Users/annateruel/Desktop/My_V4_Miniscope/reconstructed_video_converted.mp4']' returned non-zero exit status 183.\n"
     ]
    },
    {
     "name": "stderr",
     "output_type": "stream",
     "text": [
      "[out#0/mp4 @ 0x123638420] Nothing was written into output file, because at least one of its streams received no packets.\n",
      "frame=    0 fps=0.0 q=0.0 Lsize=       0KiB time=N/A bitrate=N/A speed=N/A    \n",
      "Conversion failed!\n"
     ]
    }
   ],
   "source": [
    "import numpy as np\n",
    "import cv2\n",
    "import os\n",
    "import subprocess\n",
    "import json\n",
    "\n",
    "def get_video_properties(video_path):\n",
    "    command = [\n",
    "        'ffprobe', '-v', 'error', '-select_streams', 'v:0', '-show_entries',\n",
    "        'stream=width,height,r_frame_rate', '-of', 'json', video_path\n",
    "    ]\n",
    "    result = subprocess.run(command, stdout=subprocess.PIPE, stderr=subprocess.PIPE, text=True)\n",
    "    if result.returncode != 0:\n",
    "        raise ValueError(f\"Failed to get video properties: {result.stderr}\")\n",
    "    \n",
    "    properties = json.loads(result.stdout)\n",
    "    width = properties['streams'][0]['width']\n",
    "    height = properties['streams'][0]['height']\n",
    "    fps = eval(properties['streams'][0]['r_frame_rate'])  # Evaluate to get FPS as a float\n",
    "    return width, height, fps\n",
    "\n",
    "class ICAProcessor:\n",
    "    def __init__(self, sources, components, frame_shape, fps):\n",
    "        self.sources = sources  # Temporal components\n",
    "        self.components = components  # Spatial components\n",
    "        self.frame_shape = frame_shape\n",
    "        self.fps = fps\n",
    "    \n",
    "    def reconstruct_from_discarded_components(self, discarded_components):\n",
    "        \"\"\"Reconstruct data excluding discarded components.\"\"\"\n",
    "        if self.sources is None or self.components is None:\n",
    "            raise ValueError(\"ICA not performed. Please provide the sources and components.\")\n",
    "        \n",
    "        # Identify non-discarded components\n",
    "        all_components = np.arange(self.components.shape[0])\n",
    "        selected_components = np.setdiff1d(all_components, discarded_components)\n",
    "        \n",
    "        selected_sources = self.sources[:, selected_components]\n",
    "        selected_components = self.components[selected_components, :]\n",
    "        \n",
    "        # Multiply the temporal and spatial components and sum them\n",
    "        reconstructed_data = np.dot(selected_sources, selected_components)\n",
    "        \n",
    "        return reconstructed_data\n",
    "\n",
    "    def save_reconstructed_video(self, cleaned_data, output_file):\n",
    "        \"\"\"Save the reconstructed data as a video using OpenCV.\"\"\"\n",
    "        height, width = self.frame_shape\n",
    "        \n",
    "        print(f\"Frame shape: {self.frame_shape}\")  # Debug statement\n",
    "        print(f\"Cleaned data shape: {cleaned_data.shape}\")  # Debug statement\n",
    "        \n",
    "        # Verify the cleaned_data shape matches the expected number of frames and frame size\n",
    "        num_frames, data_size = cleaned_data.shape\n",
    "        expected_data_size = height * width\n",
    "        if data_size != expected_data_size:\n",
    "            raise ValueError(f\"Data size mismatch: expected {expected_data_size}, got {data_size}\")\n",
    "        \n",
    "        # Define the codec and create VideoWriter object for AVI\n",
    "        fourcc = cv2.VideoWriter_fourcc(*'XVID')\n",
    "        out = cv2.VideoWriter(output_file, fourcc, self.fps, (width, height), isColor=False)\n",
    "        \n",
    "        for i, frame in enumerate(cleaned_data):\n",
    "            try:\n",
    "                frame_data = frame.reshape(self.frame_shape)\n",
    "                frame_data = cv2.normalize(frame_data, None, 0, 255, cv2.NORM_MINMAX).astype(np.uint8)\n",
    "                frame_data = cv2.cvtColor(frame_data, cv2.COLOR_GRAY2BGR)  # Convert to 3 channels\n",
    "                out.write(frame_data)\n",
    "            except Exception as e:\n",
    "                print(f\"Error processing frame {i}: {e}\")\n",
    "        \n",
    "        out.release()\n",
    "        print(f\"Saved reconstructed video to {output_file}\")\n",
    "\n",
    "    def convert_video_format(self, input_file, output_file):\n",
    "        \"\"\"Convert video to a different format using ffmpeg.\"\"\"\n",
    "        command = [\n",
    "            'ffmpeg',\n",
    "            '-i', input_file,\n",
    "            '-c:v', 'libx264',\n",
    "            '-preset', 'slow',\n",
    "            '-crf', '22',\n",
    "            output_file\n",
    "        ]\n",
    "        try:\n",
    "            subprocess.run(command, check=True)\n",
    "            print(f\"Converted video saved to {output_file}\")\n",
    "        except subprocess.CalledProcessError as e:\n",
    "            print(f\"Error converting video: {e}\")\n",
    "\n",
    "# Example usage\n",
    "if __name__ == \"__main__\":\n",
    "    frame_shape = (484, 548)\n",
    "\n",
    "    # Load the necessary data\n",
    "    ica_sources = np.load('/Users/annateruel/output_plots/ica_sources.npy')\n",
    "    ica_components = np.load('/Users/annateruel/output_plots/ica_components.npy')\n",
    "    # Mean is not loaded as it won't be used\n",
    "\n",
    "    # Initialize the ICAProcessor\n",
    "    processor = ICAProcessor(sources=ica_sources, components=ica_components, frame_shape=frame_shape, fps=60)\n",
    "\n",
    "    # List of discarded component indices (0-based)\n",
    "    discarded_components = [0, 1, 3, 4, 6, 7, 10, 11, 13, 16, 18, 27, 28, 30, 32, 33, 34, 35, 36, 38, 39, 41, 45, 48, 46, 58, 61, 63, 68, 78, 86, 96, 98, 101, 104, 105, 107, 111, 113, 117, 118, 121, 122, 123, 124, 125, 130, 138, 140, 143, 144, 148, 154, 157, 160, 165, 173, 172, 175, 178, 182, 181, 175, 178, 181, 182, 183, 185, 192]\n",
    "\n",
    "    # Reconstruct the data excluding discarded components\n",
    "    cleaned_data = processor.reconstruct_from_discarded_components(discarded_components)\n",
    "\n",
    "    # Save the reconstructed video\n",
    "    output_dir =  '/Users/annateruel/Desktop/My_V4_Miniscope/'\n",
    "    os.makedirs(output_dir, exist_ok=True)\n",
    "    output_file = os.path.join(output_dir, 'reconstructed_video.avi')\n",
    "    processor.save_reconstructed_video(cleaned_data, output_file)\n",
    "\n",
    "    # Convert the video format for compatibility if needed\n",
    "    converted_output_file = os.path.join(output_dir, 'reconstructed_video_converted.mp4')\n",
    "    processor.convert_video_format(output_file, converted_output_file)\n"
   ]
  }
 ],
 "metadata": {
  "kernelspec": {
   "display_name": "CaImAn",
   "language": "python",
   "name": "python3"
  },
  "language_info": {
   "codemirror_mode": {
    "name": "ipython",
    "version": 3
   },
   "file_extension": ".py",
   "mimetype": "text/x-python",
   "name": "python",
   "nbconvert_exporter": "python",
   "pygments_lexer": "ipython3",
   "version": "3.8.18"
  }
 },
 "nbformat": 4,
 "nbformat_minor": 2
}
