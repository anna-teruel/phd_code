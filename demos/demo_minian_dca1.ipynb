{
 "cells": [
  {
   "cell_type": "code",
   "execution_count": null,
   "metadata": {},
   "outputs": [],
   "source": [
    "import os\n",
    "import numpy as np\n",
    "import sys\n",
    "import holoviews as hv\n",
    "\n",
    "sys.path.append('/Users/annateruel/phd_code/')\n",
    "from ca2img.minian_dca1 import (preprocessing,  \n",
    "                                start_cluster,\n",
    "                                motion_correction,\n",
    "                                initialize, \n",
    "                                \n",
    "                                run_cnmf)\n",
    "\n",
    "from minian.utilities import (open_minian,\n",
    "                              get_optimal_chk,\n",
    "                              save_minian)\n",
    "from minian.motion_correction import apply_transform, estimate_motion\n",
    "from minian.visualization import visualize_motion"
   ]
  },
  {
   "cell_type": "code",
   "execution_count": null,
   "metadata": {},
   "outputs": [],
   "source": [
    "video_dir = '/Volumes/ANNA_HD/ANALYSIS/Ca2+Img/24-02-ST-anna/AD23-098/annateruel/social-discrimination-test/AD23-098/customEntValHere/2024_02_20/11_57_46/My_V4_Miniscope'\n",
    "int_dir =  '/Volumes/ANNA_HD/ANALYSIS/Ca2+Img/24-02-ST-anna/AD23-098/annateruel/social-discrimination-test/AD23-098/customEntValHere/2024_02_20/11_57_46/My_V4_Miniscope'"
   ]
  },
  {
   "cell_type": "code",
   "execution_count": null,
   "metadata": {},
   "outputs": [],
   "source": [
    "hv.notebook_extension(\"bokeh\", width=100)"
   ]
  },
  {
   "cell_type": "markdown",
   "metadata": {},
   "source": [
    "# Minian Analysis in dCA1\n",
    "\n",
    "The parameters used here for minian pipeline are the ones we chose for our videos from dCA1 recordings"
   ]
  },
  {
   "cell_type": "code",
   "execution_count": null,
   "metadata": {},
   "outputs": [],
   "source": [
    "start_cluster(n_workers=8, memory_limit=\"6GB\")"
   ]
  },
  {
   "cell_type": "markdown",
   "metadata": {},
   "source": [
    "## Preprocessing"
   ]
  },
  {
   "cell_type": "code",
   "execution_count": null,
   "metadata": {},
   "outputs": [],
   "source": [
    "int_dir = '/Volumes/ANNA_HD/ANALYSIS/Ca2+Img/23-01-ST-anna/AD22-118/annateruel/srt_trial/AD22-118/minian/2023_01_24/12_41_16/My_V4_Miniscope/'\n",
    "video_dir = '/Volumes/ANNA_HD/ANALYSIS/Ca2+Img/23-01-ST-anna/AD22-118/annateruel/srt_trial/AD22-118/minian/2023_01_24/12_41_16/My_V4_Miniscope/'\n",
    "preprocessing(intpath=int_dir, dpath=video_dir, \n",
    "                          param_load_videos={\"pattern\": \"^[0-9]+\\.avi$\", \n",
    "                          param_load_videos={\"pattern\": \"^[0-9]+\\.avi$\", \n",
    "                                             \"dtype\": np.uint8, \n",
    "                                             \"downsample\": dict(frame=1, height=1, width=1), \n",
    "                                             \"downsample_strategy\": \"subset\"}, \n",
    "                          param_denoise={\"method\": \"median\", \"ksize\": 7}, \n",
    "                          param_background_removal={\"method\": \"tophat\", \"wnd\": 15})"
   ]
  },
  {
   "cell_type": "code",
   "execution_count": null,
   "metadata": {},
   "outputs": [],
   "source": [
    "dirs = ['/Volumes/ANNA_HD/ANALYSIS/Ca2+Img/24-02-ST-anna/AD23-113']\n",
    "\n",
    "for dir in dirs:\n",
    "    for root, _, _ in os.walk(dir):\n",
    "        if root.endswith(\"My_V4_Miniscope\"):\n",
    "            preprocessing(intpath=root, dpath=root, \n",
    "                          param_load_videos={\"pattern\": \"^[0-9]+\\.avi$\", \n",
    "                                             \"dtype\": np.uint8, \n",
    "                                             \"downsample\": dict(frame=1, height=1, width=1), \n",
    "                                             \"downsample_strategy\": \"subset\"}, \n",
    "                          param_denoise={\"method\": \"median\", \"ksize\": 5}, \n",
    "                          param_background_removal={\"method\": \"tophat\", \"wnd\": 5})"
   ]
  },
  {
   "cell_type": "markdown",
   "metadata": {},
   "source": [
    "## Motion correction"
   ]
  },
  {
   "cell_type": "code",
   "execution_count": null,
   "metadata": {},
   "outputs": [],
   "source": [
    "param_estimate_motion = {\"dim\": \"frame\"}\n",
    "\n",
    "param_save_minian = {\n",
    "    \"dpath\": video_dir,  \n",
    "    \"meta_dict\": dict(session=-1, animal=-2),\n",
    "    \"overwrite\": True}\n",
    "\n",
    "minian_ds = open_minian(int_dir)\n",
    "varr_ref = minian_ds['varr_ref']\n",
    "chk, _ = get_optimal_chk(varr_ref, dtype=float)\n",
    "motion_correction(int_dir, varr_ref, param_estimate_motion, param_save_minian, chk)"
   ]
  },
  {
   "cell_type": "code",
   "execution_count": null,
   "metadata": {},
   "outputs": [],
   "source": [
    "root_dir =  '/Volumes/ANNA_HD/ANALYSIS/Ca2+Img/24-02-ST-anna/AD23-113'\n",
    "\n",
    "param_estimate_motion = {\"dim\": \"frame\"}\n",
    "\n",
    "for dirpath, dirnames, filenames in os.walk(root_dir):\n",
    "    if 'My_V4_Miniscope' in dirnames:\n",
    "        int_dir = os.path.join(dirpath, 'My_V4_Miniscope')\n",
    "        minian_ds = open_minian(int_dir)\n",
    "        varr_ref = minian_ds['varr_ref']\n",
    "        chk, _ = get_optimal_chk(varr_ref, dtype=float)\n",
    "\n",
    "        param_save_minian = {\n",
    "            \"dpath\": int_dir,  \n",
    "            \"meta_dict\": dict(session=-1, animal=-2),\n",
    "            \"overwrite\": True}\n",
    "\n",
    "        %time \n",
    "        motion_correction(int_dir, varr_ref, param_estimate_motion, param_save_minian, chk)"
   ]
  },
  {

   "cell_type": "code",
   "execution_count": null,
   "metadata": {},
   "outputs": [],
   "source": [
    "visualize_motion(motion)"
   ]
  },
  {

   "metadata": {},
   "source": [
    "## Initialization"
   ]
  },
  {
   "cell_type": "code",
   "execution_count": null,
   "metadata": {},
   "outputs": [],
   "source": [
    "int_dir =  '/Volumes/ANNA_HD/ANALYSIS/Ca2+Img/24-02-ST-anna/AD23-098/annateruel/social-discrimination-test/AD23-098/customEntValHere/2024_02_20/11_57_46/My_V4_Miniscope'\n",
    "os.environ[\"MINIAN_INTERMEDIATE\"] = int_dir\n",
    "\n",
    "param_save_minian = {\n",
    "    \"dpath\": int_dir,\n",
    "    \"meta_dict\": dict(session=-1, animal=-2),\n",
    "    \"overwrite\": True}\n",
    "param_seeds_init = {\n",
    "    \"wnd_size\": 1000,\n",
    "    \"method\": \"rolling\",\n",
    "    \"stp_size\": 500,\n",
    "    \"max_wnd\": 15,\n",
    "    \"diff_thres\": 3}\n",
    "param_pnr_refine = {\"noise_freq\": 0.06, \"thres\": 1}\n",
    "param_ks_refine = {\"sig\": 0.05}\n",
    "param_seeds_merge = {\"thres_dist\": 10, \"thres_corr\": 0.8, \"noise_freq\": 0.06}\n",
    "param_initialize = {\"thres_corr\": 0.8, \"wnd\": 10, \"noise_freq\": 0.06}\n",
    "param_init_merge = {\"thres_corr\": 0.8} \n",
    "\n",
    "varr_ref = open_minian(int_dir)['varr_ref']\n",
    "chk = get_optimal_chk(varr_ref, dtype=float)\n",
    "\n",
    "Y_fm_chk = open_minian(int_dir)['Y_fm_chk']\n",
    "Y_hw_chk = open_minian(int_dir)['Y_hw_chk']\n",
    "\n",
    "initialize(Y_fm_chk, \n",
    "           Y_hw_chk, \n",
    "           param_save_minian, \n",
    "           param_seeds_init, \n",
    "           param_pnr_refine, \n",
    "           param_ks_refine, \n",
    "           param_seeds_merge, \n",
    "           param_initialize, \n",
    "           param_init_merge, \n",
    "           int_dir, \n",
    "           chk)"
   ]
  },
  {
   "cell_type": "code",
   "execution_count": null,
   "metadata": {},
   "outputs": [],
   "source": [
    "print(\"A data sample:\", A.isel(unit_id=0).values)\n",
    "print(\"C data sample:\", C.isel(unit_id=0).values)"
   ]
  },
  {
   "cell_type": "code",
   "execution_count": null,
   "metadata": {},
   "outputs": [],
   "source": [
    "print(\"Y_fm_chk data sample:\", Y_fm_chk.isel(frame=0, height=0, width=0).values)\n",
    "print(\"C_chk data sample:\", C_chk.isel(frame=0, unit_id=0).values)"
   ]
  },
  {
   "cell_type": "code",
   "execution_count": null,
   "metadata": {},
   "outputs": [],
   "source": [
    "from holoviews.operation.datashader import regrid\n",
    "from holoviews.operation.datashader import regrid, datashade\n",
    "from holoviews.operation.datashader import regrid, datashade\n",
    "\n",
    "output_size = 100\n",
    "hv.output(size=int(output_size * 0.55))\n",
    "im_opts = dict(\n",
    "    frame_width=500,\n",
    "    aspect=A.sizes[\"width\"] / A.sizes[\"height\"],\n",
    "    cmap=\"Viridis\",\n",
    "    colorbar=True,\n",
    ")\n",
    "cr_opts = dict(frame_width=750, aspect=1.5 * A.sizes[\"width\"] / A.sizes[\"height\"])\n",
    "(\n",
    "    regrid(\n",
    "        hv.Image(\n",
    "            A.max(\"unit_id\").rename(\"A\").compute().astype(np.float32),\n",
    "            kdims=[\"width\", \"height\"],\n",
    "        ).opts(**im_opts)\n",
    "    ).relabel(\"Initial Spatial Footprints\")\n",
    "    + regrid(\n",
    "        hv.Image(\n",
    "            C.rename(\"C\").compute().astype(np.float32), kdims=[\"frame\", \"unit_id\"]\n",
    "        ).opts(cmap=\"viridis\", colorbar=True, **cr_opts)\n",
    "    ).relabel(\"Initial Temporal Components\")\n",
    ").cols(2)"
   ]
  },
  {
   "cell_type": "code",
   "execution_count": null,
   "metadata": {},
   "outputs": [],
   "source": [
    "root_dir = '/Volumes/ANNA_HD/ANALYSIS/Ca2+Img/24-02-ST-anna/AD23-115'\n",
    "\n",
    "param_seeds_init = {\n",
    "    \"wnd_size\": 1000,\n",
    "    \"method\": \"rolling\",\n",
    "    \"stp_size\": 500,\n",
    "    \"max_wnd\": 15,\n",
    "    \"diff_thres\": 3}\n",
    "param_pnr_refine = {\"noise_freq\": 0.06, \"thres\": 1}\n",
    "param_ks_refine = {\"sig\": 0.05}\n",
    "param_seeds_merge = {\"thres_dist\": 10, \"thres_corr\": 0.8, \"noise_freq\": 0.06}\n",
    "param_initialize = {\"thres_corr\": 0.8, \"wnd\": 10, \"noise_freq\": 0.06}\n",
    "param_init_merge = {\"thres_corr\": 0.8}\n",
    "\n",
    "for dirpath, dirnames, filenames in os.walk(root_dir):\n",
    "    if 'My_V4_Miniscope' in dirnames:\n",
    "        int_dir = os.path.join(dirpath, 'My_V4_Miniscope')\n",
    "        os.environ[\"MINIAN_INTERMEDIATE\"] = int_dir\n",
    "\n",
    "        param_save_minian = {\n",
    "            \"dpath\": int_dir,\n",
    "            \"meta_dict\": dict(session=-1, animal=-2),\n",
    "            \"overwrite\": True}\n",
    "\n",
    "        varr_ref = open_minian(int_dir)['varr_ref']\n",
    "        chk = get_optimal_chk(varr_ref, dtype=float)\n",
    "\n",
    "        Y_fm_chk = open_minian(int_dir)['Y_fm_chk']\n",
    "        Y_hw_chk = open_minian(int_dir)['Y_hw_chk']\n",
    "\n",
    "        initialize(Y_fm_chk, \n",
    "                   Y_hw_chk, \n",
    "                   param_save_minian, \n",
    "                   param_seeds_init, \n",
    "                   param_pnr_refine, \n",
    "                   param_ks_refine, \n",
    "                   param_seeds_merge, \n",
    "                   param_initialize, \n",
    "                   param_init_merge, \n",
    "                   int_dir, \n",
    "                   chk)"
   ]
  },
  {
   "cell_type": "code",
   "execution_count": null,
   "metadata": {},
   "outputs": [],
   "source": [
    "print(\"A data sample:\", A.isel(unit_id=0).values)\n",
    "print(\"C data sample:\", C.isel(unit_id=0).values)"
   ]
  },
  {
   "cell_type": "code",
   "execution_count": null,
   "metadata": {},
   "outputs": [],
   "source": [
    "print(\"Y_fm_chk data sample:\", Y_fm_chk.isel(frame=0, height=0, width=0).values)\n",
    "print(\"C_chk data sample:\", C_chk.isel(frame=0, unit_id=0).values)"
   ]
  },
  {
   "cell_type": "code",
   "execution_count": null,
   "metadata": {},
   "outputs": [],
   "source": [
    "from holoviews.operation.datashader import regrid\n",
    "from holoviews.operation.datashader import regrid, datashade\n",
    "from holoviews.operation.datashader import regrid, datashade\n",
    "\n",
    "output_size = 100\n",
    "hv.output(size=int(output_size * 0.55))\n",
    "im_opts = dict(\n",
    "    frame_width=500,\n",
    "    aspect=A.sizes[\"width\"] / A.sizes[\"height\"],\n",
    "    cmap=\"Viridis\",\n",
    "    colorbar=True,\n",
    ")\n",
    "cr_opts = dict(frame_width=750, aspect=1.5 * A.sizes[\"width\"] / A.sizes[\"height\"])\n",
    "(\n",
    "    regrid(\n",
    "        hv.Image(\n",
    "            A.max(\"unit_id\").rename(\"A\").compute().astype(np.float32),\n",
    "            kdims=[\"width\", \"height\"],\n",
    "        ).opts(**im_opts)\n",
    "    ).relabel(\"Initial Spatial Footprints\")\n",
    "    + regrid(\n",
    "        hv.Image(\n",
    "            C.rename(\"C\").compute().astype(np.float32), kdims=[\"frame\", \"unit_id\"]\n",
    "        ).opts(cmap=\"viridis\", colorbar=True, **cr_opts)\n",
    "    ).relabel(\"Initial Temporal Components\")\n",
    ").cols(2)"
   ]
  },
  {
   "cell_type": "code",
   "execution_count": 5,
   "metadata": {},
   "outputs": [],
   "source": [
    "root_dir = '/Volumes/ANNA_HD/ANALYSIS/Ca2+Img/24-02-ST-anna/AD23-120/annateruel/social-discrimination-test/AD23-120/customEntValHere/2024_03_01/15_42_34'\n",
    "param_seeds_init = {\n",
    "    \"wnd_size\": 1000,\n",
    "    \"method\": \"rolling\",\n",
    "    \"stp_size\": 500,\n",
    "    \"max_wnd\": 15,\n",
    "    \"diff_thres\": 3}\n",
    "param_pnr_refine = {\"noise_freq\": 0.02, \"thres\": 1}\n",
    "param_ks_refine = {\"sig\": 0.05}\n",
    "param_seeds_merge = {\"thres_dist\": 5, \"thres_corr\": 0.8, \"noise_freq\": 0.02}\n",
    "param_initialize = {\"thres_corr\": 0.8, \"wnd\": 10, \"noise_freq\": 0.02}\n",
    "param_init_merge = {\"thres_corr\": 0.8}\n",
    "\n",
    "for dirpath, dirnames, filenames in os.walk(root_dir):\n",
    "    if 'My_V4_Miniscope' in dirnames:\n",
    "        int_dir = os.path.join(dirpath, 'My_V4_Miniscope')\n",
    "        os.environ[\"MINIAN_INTERMEDIATE\"] = int_dir\n",
    "\n",
    "        param_save_minian = {\n",
    "            \"dpath\": int_dir,\n",
    "            \"meta_dict\": dict(session=-1, animal=-2),\n",
    "            \"overwrite\": True}\n",
    "\n",
    "        varr_ref = open_minian(int_dir)['varr_ref']\n",
    "        chk = get_optimal_chk(varr_ref, dtype=float)\n",
    "\n",
    "        Y_fm_chk = open_minian(int_dir)['Y_fm_chk']\n",
    "        Y_hw_chk = open_minian(int_dir)['Y_hw_chk']\n",
    "\n",
    "        initialize(Y_fm_chk, \n",
    "                   Y_hw_chk, \n",
    "                   param_save_minian, \n",
    "                   param_seeds_init, \n",
    "                   param_pnr_refine, \n",
    "                   param_ks_refine, \n",
    "                   param_seeds_merge, \n",
    "                   param_initialize, \n",
    "                   param_init_merge, \n",
    "                   int_dir, \n",
    "                   chk)"
   ]
  },
  {
   "cell_type": "code",
   "execution_count": null,
   "metadata": {},
   "outputs": [],
   "source": [
    "int_dir = '/Volumes/ANNA_HD/ANALYSIS/Ca2+Img/24-02-ST-anna/AD23-098/annateruel/social-discrimination-test/AD23-098/customEntValHere/2024_02_16/15_53_12/My_V4_Miniscope/'\n",
    "\n",
    "minian_ds = open_minian(int_dir)\n",
    "A = minian_ds['A']\n",
    "A_init = minian_ds['A_init']\n"
   ]
  },
  {
   "cell_type": "code",
   "execution_count": null,
   "metadata": {},
   "outputs": [],
   "source": [
    "has_nans = np.isnan(A_init).any().compute()\n",
    "all_zeros = np.all(A_init == 0).compute()\n",
    "\n",
    "print(f\"Array A has NaNs: {has_nans}\")\n",
    "print(f\"All values in array A are zeros: {all_zeros}\")"
   ]
  },
  {
   "cell_type": "code",
   "execution_count": null,
   "metadata": {},
   "outputs": [],
   "source": [
    "\n",
    "for dirpath, dirnames, filenames in os.walk(root_dir):\n",
    "    if 'My_V4_Miniscope' in dirnames:\n",
    "        int_dir = os.path.join(dirpath, 'My_V4_Miniscope')\n",
    "        os.environ[\"MINIAN_INTERMEDIATE\"] = int_dir\n",
    "\n",
    "        minian_ds = open_minian(int_dir)\n",
    "        for var_name in ['A', 'C']:\n",
    "            var = minian_ds[var_name]\n",
    "            has_nans = np.isnan(var).any().compute()\n",
    "            all_zeros = np.all(var == 0).compute()\n",
    "\n",
    "            print(f\"Array {var_name} has NaNs: {has_nans}\")\n",
    "            print(f\"All values in array {var_name} are zeros: {all_zeros}\")"
   ]
  },
  {
   "cell_type": "markdown",
   "metadata": {},
   "source": [
    "## CNMF\n",
    "\n",
    "Let's briefly explain the parameters we have defined in the following cell, in order to set them properly\n",
    "\n",
    "1. `param_get_noise = {\"noise_range\": (0.06, 0.5)}` specifies the range of frequencies to be considered as noise. Lower frequencies generally correspond to signal, while higher frequencies correspond to noise. \n",
    "\n",
    "2. `param_first_spatial = {\"dl_wnd\": 10,\"sparse_penal\": 0.01,\"size_thres\": (25, None)}`: \n",
    "-  `dl_wnd` is the size of the window used to smooth the data spatially\n",
    "- `sparse_penal` is sparsity penalty for spatial component, promoting a more sparse representation, if you decrease the sparsity penalty you will allow for denser spatial component\n",
    "- `size_threshold` is the size of the spatial components to be considered\n",
    "\n",
    "3. `param_first_temporal = {\"noise_freq\": 0.06,\"sparse_penal\": 1,\"p\": 1,\"add_lag\": 20,\"jac_thres\": 0.2}`\n",
    "- `noise_freq` frequency  below which the signal is considered noise. If you lower the noise frequency you will include more signal components. \n",
    "- `sparse_penal` sparsity penalty for temporal component. If you decrese the spartisy penalty you will allow more temporal fluctuations\n",
    "- `add_lag` is the number of additional lags to consider in the temporal model\n",
    "- `jac_thres` threshold for the jacobian determinant, used to filter out low-quality components. If you decrease the filter you will retain more components. \n",
    "\n",
    "These are the main parameters to consider\n"
   ]
  },
  {
   "cell_type": "code",
   "execution_count": null,
   "metadata": {},
   "outputs": [],
   "source": [
    "root_dir = '/Volumes/ANNA_HD/ANALYSIS/Ca2+Img/23-01-ST-anna/AD22-118/annateruel/srt_trial/AD22-118/customEntValHere/'\n",
    "\n",
    "param_get_noise = {\"noise_range\": (0.06, 0.5)}\n",
    "param_first_spatial = {\n",
    "    \"dl_wnd\": 10,\n",
    "    \"sparse_penal\": 0.01,\n",
    "    \"size_thres\": (5, None)}\n",
    "param_first_temporal = {\n",
    "    \"noise_freq\": 0.06,\n",
    "    \"sparse_penal\": 1.5,\n",
    "    \"p\": 1,\n",
    "    \"add_lag\": 20,\n",
    "    \"jac_thres\": 0.2}\n",
    "param_first_merge = {\"thres_corr\": 0.8}\n",
    "param_second_spatial = {\n",
    "    \"dl_wnd\": 10,\n",
    "    \"sparse_penal\": 0.007,\n",
    "    \"size_thres\": (25, None)}\n",
    "param_second_temporal = {\n",
    "    \"noise_freq\": 0.06,\n",
    "    \"sparse_penal\": 1,\n",
    "    \"p\": 1,\n",
    "    \"add_lag\": 20,\n",
    "    \"jac_thres\": 0.4}\n",
    "\n",
    "for dirpath, dirnames, filenames in os.walk(root_dir):\n",
    "    if 'My_V4_Miniscope' in dirnames:\n",
    "        int_dir = os.path.join(dirpath, 'My_V4_Miniscope')\n",
    "        os.environ[\"MINIAN_INTERMEDIATE\"] = int_dir\n",
    "\n",
    "        param_save_minian = {\n",
    "            \"dpath\": int_dir,\n",
    "            \"meta_dict\": dict(session=-1, animal=-2),\n",
    "            \"overwrite\": True}\n",
    "\n",
    "        minian_ds = open_minian(int_dir)\n",
    "        Y_fm_chk = minian_ds['Y_fm_chk']\n",
    "        Y_hw_chk = minian_ds['Y_hw_chk']\n",
    "        A = minian_ds['A']\n",
    "        C = minian_ds['C']\n",
    "        C_chk = minian_ds['C_chk']\n",
    "        varr_ref = minian_ds['varr_ref']\n",
    "        chk, _ = get_optimal_chk(varr_ref, dtype=float)\n",
    "\n",
    "        A, C, C_chk, b, f, S, b0, c0 = run_cnmf(Y_hw_chk, \n",
    "                                         Y_fm_chk, \n",
    "                                         A, \n",
    "                                         C, \n",
    "                                         C_chk, \n",
    "                                         param_get_noise, \n",
    "                                         param_first_spatial, \n",
    "                                         param_first_temporal, \n",
    "                                         param_first_merge, \n",
    "                                         param_second_spatial, \n",
    "                                         param_second_temporal, \n",
    "                                         int_dir, \n",
    "                                         chk)\n",
    "        \n",
    "        A_path = os.path.join(int_dir, \"A.csv\")\n",
    "        C_path = os.path.join(int_dir, \"C.csv\")\n",
    "        S_path = os.path.join(int_dir, \"S.csv\")\n",
    "        A.to_dataframe().reset_index().to_csv(A_path)\n",
    "        C.to_dataframe().reset_index().to_csv(C_path)\n",
    "        S.to_dataframe().reset_index().to_csv(S_path)\n",
    "\n",
    "        A_path = os.path.join(int_dir, \"A.h5\")\n",
    "        C_path = os.path.join(int_dir, \"C.h5\")\n",
    "        S_path = os.path.join(int_dir, \"S.h5\")\n",
    "        A.to_dataframe().reset_index().to_hdf(A_path, 'A')\n",
    "        C.to_dataframe().reset_index().to_hdf(C_path, 'C')\n",
    "        S.to_dataframe().reset_index().to_hdf(S_path, 'S')"
   ]
  },
  {
   "cell_type": "code",
   "execution_count": null,
   "metadata": {},
   "outputs": [],
   "source": [
    "import pandas as pd\n",
    "\n",
    "# Load the C.csv file\n",
    "c_file_path = '/Volumes/ANNA_HD/ANALYSIS/Ca2+Img/24-02-ST-anna/AD23-120/annateruel/social-discrimination-test/AD23-120/customEntValHere/2024_03_01/15_50_30/My_V4_Miniscope/C.csv'\n",
    "c_data = pd.read_csv(c_file_path)\n",
    "\n",
    "unique_unit_ids = c_data['unit_id'].unique()\n",
    "num_unique_unit_ids = len(unique_unit_ids)\n",
    "num_unique_unit_ids\n"
   ]
  }
 ],
 "metadata": {
  "kernelspec": {
   "display_name": "Python 3",
   "language": "python",
   "name": "python3"
  },
  "language_info": {
   "codemirror_mode": {
    "name": "ipython",
    "version": 3
   },
   "file_extension": ".py",
   "mimetype": "text/x-python",
   "name": "python",
   "nbconvert_exporter": "python",
   "pygments_lexer": "ipython3",
   "version": "3.8.18"
  }
 },
 "nbformat": 4,
 "nbformat_minor": 2
}
