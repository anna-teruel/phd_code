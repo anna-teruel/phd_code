{
 "cells": [
  {
   "cell_type": "code",
   "execution_count": null,
   "metadata": {},
   "outputs": [],
   "source": [
    "import os\n",
    "import numpy as np\n",
    "import sys\n",
    "import holoviews as hv\n",
    "\n",
    "sys.path.append('/Users/annateruel/phd_code/')\n",
    "from ca2img.minian_dca1 import (preprocessing,  \n",
    "                                start_cluster,\n",
    "                                motion_correction,\n",
    "                                initialize)\n",
    "\n",
    "from minian.utilities import (open_minian,\n",
    "                              get_optimal_chk,\n",
    "                              save_minian)\n",
    "from minian.motion_correction import apply_transform, estimate_motion\n",
    "from minian.visualization import visualize_motion"
   ]
  },
  {
   "cell_type": "code",
   "execution_count": null,
   "metadata": {},
   "outputs": [],
   "source": [
    "video_dir = '/Users/annateruel/Desktop/videos'\n",
    "int_dir = '/Users/annateruel/Desktop/videos'"
   ]
  },
  {
   "cell_type": "code",
   "execution_count": null,
   "metadata": {},
   "outputs": [],
   "source": [
    "hv.notebook_extension(\"bokeh\", width=100)"
   ]
  },
  {
   "cell_type": "markdown",
   "metadata": {},
   "source": [
    "# Minian Analysis in dCA1\n"
   ]
  },
  {
   "cell_type": "code",
   "execution_count": null,
   "metadata": {},
   "outputs": [],
   "source": [
    "start_cluster(n_workers=8, memory_limit=\"5GB\")"
   ]
  },
  {
   "cell_type": "markdown",
   "metadata": {},
   "source": [
    "### Preprocessing"
   ]
  },
  {
   "cell_type": "code",
   "execution_count": null,
   "metadata": {},
   "outputs": [],
   "source": [
    "preprocessing(intpath=int_dir, dpath=video_dir, \n",
    "                          param_load_videos={\"pattern\": \"[0-9]+\\.avi$\", \n",
    "                                             \"dtype\": np.uint8, \n",
    "                                             \"downsample\": dict(frame=1, height=1, width=1), \n",
    "                                             \"downsample_strategy\": \"subset\"}, \n",
    "                          param_denoise={\"method\": \"median\", \"ksize\": 7}, \n",
    "                          param_background_removal={\"method\": \"tophat\", \"wnd\": 15})"
   ]
  },
  {
   "cell_type": "code",
   "execution_count": null,
   "metadata": {},
   "outputs": [],
   "source": [
    "dirs = ['/Volumes/ANNA_HD/ANALYSIS/Ca2+Img/24-02-ST-anna/']\n",
    "\n",
    "for dir in dirs:\n",
    "    for root, _, _ in os.walk(dir):\n",
    "        if root.endswith(\"My_V4_Miniscope\"):\n",
    "            preprocessing(intpath=root, dpath=root, \n",
    "                          param_load_videos={\"pattern\": \"^[0-9]+\\.avi$\", \n",
    "                                             \"dtype\": np.uint8, \n",
    "                                             \"downsample\": dict(frame=1, height=1, width=1), \n",
    "                                             \"downsample_strategy\": \"subset\"}, \n",
    "                          param_denoise={\"method\": \"median\", \"ksize\": 7}, \n",
    "                          param_background_removal={\"method\": \"tophat\", \"wnd\": 15})"
   ]
  },
  {
   "cell_type": "markdown",
   "metadata": {},
   "source": [
    "### Motion correction"
   ]
  },
  {
   "cell_type": "code",
   "execution_count": null,
   "metadata": {},
   "outputs": [],
   "source": [
    "param_estimate_motion = {\"dim\": \"frame\"}\n",
    "\n",
    "param_save_minian = {\n",
    "    \"dpath\": video_dir,  \n",
    "    \"meta_dict\": dict(session=-1, animal=-2),\n",
    "    \"overwrite\": True}\n",
    "\n",
    "minian_ds = open_minian(int_dir)\n",
    "varr_ref = minian_ds['varr_ref']\n",
    "chk, _ = get_optimal_chk(varr_ref, dtype=float)\n",
    "motion_correction(int_dir, varr_ref, param_estimate_motion, param_save_minian, chk)"
   ]
  },
  {
   "cell_type": "code",
   "execution_count": null,
   "metadata": {},
   "outputs": [],
   "source": [
    "root_dir =  '/Volumes/ANNA_HD/ANALYSIS/Ca2+Img/23-03-ST-anna/AD22-266'\n",
    "\n",
    "param_estimate_motion = {\"dim\": \"frame\"}\n",
    "\n",
    "for dirpath, dirnames, filenames in os.walk(root_dir):\n",
    "    if 'My_V4_Miniscope' in dirnames:\n",
    "        int_dir = os.path.join(dirpath, 'My_V4_Miniscope')\n",
    "        minian_ds = open_minian(int_dir)\n",
    "        varr_ref = minian_ds['varr_ref']\n",
    "        chk, _ = get_optimal_chk(varr_ref, dtype=float)\n",
    "\n",
    "        param_save_minian = {\n",
    "            \"dpath\": int_dir,  \n",
    "            \"meta_dict\": dict(session=-1, animal=-2),\n",
    "            \"overwrite\": True}\n",
    "\n",
    "        %time \n",
    "        motion_correction(int_dir, varr_ref, param_estimate_motion, param_save_minian, chk)"
   ]
  },
  {
   "cell_type": "code",
   "execution_count": null,
   "metadata": {},
   "outputs": [],
   "source": [
    "visualize_motion(motion)"
   ]
  },
  {
   "cell_type": "markdown",
   "metadata": {},
   "source": [
    "### Initialization"
   ]
  },
  {
   "cell_type": "code",
   "execution_count": null,
   "metadata": {},
   "outputs": [],
   "source": [
    "int_dir = '/Users/annateruel/Desktop/videos'\n",
    "os.environ[\"MINIAN_INTERMEDIATE\"] = int_dir\n",
    "\n",
    "param_save_minian = {\n",
    "    \"dpath\": int_dir,\n",
    "    \"meta_dict\": dict(session=-1, animal=-2),\n",
    "    \"overwrite\": True}\n",
    "param_seeds_init = {\n",
    "    \"wnd_size\": 1000,\n",
    "    \"method\": \"rolling\",\n",
    "    \"stp_size\": 500,\n",
    "    \"max_wnd\": 15,\n",
    "    \"diff_thres\": 3}\n",
    "param_pnr_refine = {\"noise_freq\": 0.06, \"thres\": 1}\n",
    "param_ks_refine = {\"sig\": 0.05}\n",
    "param_seeds_merge = {\"thres_dist\": 10, \"thres_corr\": 0.8, \"noise_freq\": 0.06}\n",
    "param_initialize = {\"thres_corr\": 0.8, \"wnd\": 10, \"noise_freq\": 0.06}\n",
    "param_init_merge = {\"thres_corr\": 0.8} \n",
    "\n",
    "varr_ref = open_minian(int_dir)['varr_ref']\n",
    "chk = get_optimal_chk(varr_ref, dtype=float)\n",
    "\n",
    "Y_fm_chk = open_minian(int_dir)['Y_fm_chk']\n",
    "Y_hw_chk = open_minian(int_dir)['Y_hw_chk']\n",
    "\n",
    "initialize(Y_fm_chk, \n",
    "           Y_hw_chk, \n",
    "           param_save_minian, \n",
    "           param_seeds_init, \n",
    "           param_pnr_refine, \n",
    "           param_ks_refine, \n",
    "           param_seeds_merge, \n",
    "           param_initialize, \n",
    "           param_init_merge, \n",
    "           int_dir, \n",
    "           chk)"
   ]
  }
 ],
 "metadata": {
  "kernelspec": {
   "display_name": "Python 3",
   "language": "python",
   "name": "python3"
  },
  "language_info": {
   "codemirror_mode": {
    "name": "ipython",
    "version": 3
   },
   "file_extension": ".py",
   "mimetype": "text/x-python",
   "name": "python",
   "nbconvert_exporter": "python",
   "pygments_lexer": "ipython3",
   "version": "3.8.5"
  }
 },
 "nbformat": 4,
 "nbformat_minor": 2
}
