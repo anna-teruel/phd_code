{
 "cells": [
  {
   "cell_type": "markdown",
   "metadata": {},
   "source": [
    "## Calcium imaging videos preprocessing\n",
    "\n",
    "This demonstration notebook showcases our preprocessing methodology for calcium imaging videos. The preprocessing algorithm generates a minimum intensity projection, which is then subtracted from each individual frame. This technique enhances contrast, making fluctuations in fluorescence more discernible."
   ]
  },
  {
   "cell_type": "markdown",
   "metadata": {},
   "source": [
    "#### Importing necessary libraries\n",
    "\n",
    "In this section, we import the necessary libraries that will be used throughout the notebook."
   ]
  },
  {
   "cell_type": "code",
   "execution_count": null,
   "metadata": {},
   "outputs": [],
   "source": [
    "import sys\n",
    "sys.path.append('/Users/annateruel/phd_code/')\n",
    "import ca2img.preprocessing as preprocessing\n",
    "import os\n",
    "import glob"
   ]
  },
  {
   "cell_type": "markdown",
   "metadata": {},
   "source": [
    "#### Preprocessing the Data\n",
    "\n",
    "In this section, we specify the directory containing the calcium imaging videos to be preprocessed. The `process_directory` function from our `preprocessing` module is then called with the directory path as an argument. This function applies our preprocessing methodology to all videos within the specified directory."
   ]
  },
  {
   "cell_type": "code",
   "execution_count": null,
   "metadata": {},
   "outputs": [],
   "source": [
    "input_dir = '/Volumes/ANNA_HD/ANALYSIS/Ca2+Img/23-03-ST-anna/'\n",
    "preprocessing.process_directory(root_dir=input_dir)"
   ]
  },
  {
   "cell_type": "markdown",
   "metadata": {},
   "source": [
    "#### Converting the Video Format\n",
    "\n",
    "After preprocessing, we may need to convert the video format for compatibility with subsequent analysis tools. Here, we specify the path of the preprocessed video (`processed_0.avi`) and the desired output path (`output.avi`). The `convert_to_mjpeg` function from our `preprocessing` module is then used to convert the video to MJPEG format. This is specially useful for macos users, since avi format is deprecated and usually leads to visualization issues. "
   ]
  },
  {
   "cell_type": "code",
   "execution_count": null,
   "metadata": {},
   "outputs": [],
   "source": [
    "#convert video\n",
    "input_video = '/Users/annateruel/Desktop/reconstructed_video.avi'\n",
    "output_video = '/Users/annateruel/Desktop/reconstructed_video.mp4'\n",
    "preprocessing.convert_to_mjpeg(input_video, output_video)"
   ]
  },
  {
   "cell_type": "code",
   "execution_count": null,
   "metadata": {},
   "outputs": [],
   "source": [
    "root_dir = '/Users/annateruel/Desktop/'\n",
    "\n",
    "for dirpath, dirnames, filenames in os.walk(root_dir):\n",
    "    if 'My_V4_Miniscope' in dirnames:\n",
    "        dirpath = os.path.join(dirpath, 'My_V4_Miniscope')\n",
    "        filenames = os.listdir(dirpath)\n",
    "        \n",
    "        video_files = [f for f in filenames if f.endswith('.avi') and not f.startswith('p_')]\n",
    "        \n",
    "        for input_video in video_files:\n",
    "            input_video = os.path.join(dirpath, input_video)\n",
    "            output_video = os.path.splitext(input_video)[0] + '.mp4'\n",
    "            preprocessing.convert_to_mjpeg(input_video, output_video)"
   ]
  }
 ],
 "metadata": {
  "kernelspec": {
   "display_name": "Python 3",
   "language": "python",
   "name": "python3"
  },
  "language_info": {
   "codemirror_mode": {
    "name": "ipython",
    "version": 3
   },
   "file_extension": ".py",
   "mimetype": "text/x-python",
   "name": "python",
   "nbconvert_exporter": "python",
   "pygments_lexer": "ipython3",
   "version": "3.8.18"
  }
 },
 "nbformat": 4,
 "nbformat_minor": 2
}
