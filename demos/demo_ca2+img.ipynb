{
 "cells": [
  {
   "cell_type": "code",
   "execution_count": 1,
   "metadata": {},
   "outputs": [],
   "source": [
    "import sys\n",
    "sys.path.append('/Users/annateruel/phd_code/')\n",
    "\n",
    "import ca2img.preprocessing as preprocessing"
   ]
  },
  {
   "cell_type": "code",
   "execution_count": null,
   "metadata": {},
   "outputs": [],
   "source": [
    "video_path = '/Users/annateruel/Desktop/0.avi'\n",
    "output_directory = '/Users/annateruel/Desktop/'"
   ]
  },
  {
   "cell_type": "code",
   "execution_count": null,
   "metadata": {},
   "outputs": [],
   "source": [
    "preprocessing.process_video(input_video=video_path, output_dir=output_directory)"
   ]
  },
  {
   "cell_type": "code",
   "execution_count": 2,
   "metadata": {},
   "outputs": [
    {
     "name": "stdout",
     "output_type": "stream",
     "text": [
      "Processed video saved as /Users/annateruel/Desktop/demo/srt_trial/AD22-118/customEntValHere/2023_01_24/My_V4_Miniscope/p_1.avi/p_1.avi\n",
      "Processed video saved as /Users/annateruel/Desktop/demo/srt_trial/AD22-118/customEntValHere/2023_01_24/My_V4_Miniscope/p_0.avi/p_0.avi\n",
      "Processed video saved as /Users/annateruel/Desktop/demo/srt_trial/AD22-118/customEntValHere/2023_01_24/My_V4_Miniscope/p_2.avi/p_2.avi\n",
      "Processed video saved as /Users/annateruel/Desktop/demo/srt_trial/AD22-118/customEntValHere/2023_01_24/My_V4_Miniscope/p_3.avi/p_3.avi\n"
     ]
    }
   ],
   "source": [
    "input_dir = '/Users/annateruel/Desktop/demo/'\n",
    "preprocessing.process_directory(root_dir=input_dir)"
   ]
  },
  {
   "cell_type": "code",
   "execution_count": null,
   "metadata": {},
   "outputs": [],
   "source": [
    "#convert video\n",
    "input_video = '/Users/annateruel/Desktop/processed_0.avi'\n",
    "output_video = '/Users/annateruel/Desktop/output.avi'\n",
    "preprocessing.convert_to_mjpeg(input_video, output_video)"
   ]
  }
 ],
 "metadata": {
  "kernelspec": {
   "display_name": "Python 3",
   "language": "python",
   "name": "python3"
  },
  "language_info": {
   "codemirror_mode": {
    "name": "ipython",
    "version": 3
   },
   "file_extension": ".py",
   "mimetype": "text/x-python",
   "name": "python",
   "nbconvert_exporter": "python",
   "pygments_lexer": "ipython3",
   "version": "3.8.18"
  }
 },
 "nbformat": 4,
 "nbformat_minor": 2
}
