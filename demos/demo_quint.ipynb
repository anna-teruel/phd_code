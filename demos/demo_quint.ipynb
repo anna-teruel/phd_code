{
 "cells": [
  {
   "cell_type": "code",
   "execution_count": 1,
   "metadata": {},
   "outputs": [],
   "source": [
    "import sys\n",
    "sys.path.append('/Users/annateruel/phd_code/')\n",
    "from quint.pixel_classifiaction import batch_probabilities"
   ]
  },
  {
   "cell_type": "code",
   "execution_count": 3,
   "metadata": {},
   "outputs": [
    {
     "name": "stdout",
     "output_type": "stream",
     "text": [
      "Probabilities saved to /Volumes/ANNA_HD/ANALYSIS/QUINT/abeta-Tau/data/data_3xtgADMAS/new/AD22022-3/AD22022-3_s000_Probabilities.h5\n",
      "Probabilities saved to /Volumes/ANNA_HD/ANALYSIS/QUINT/abeta-Tau/data/data_3xtgADMAS/new/AD22022-3/AD22022-3_s001_Probabilities.h5\n",
      "Probabilities saved to /Volumes/ANNA_HD/ANALYSIS/QUINT/abeta-Tau/data/data_3xtgADMAS/new/AD22022-3/AD22022-3_s002_Probabilities.h5\n",
      "Probabilities saved to /Volumes/ANNA_HD/ANALYSIS/QUINT/abeta-Tau/data/data_3xtgADMAS/new/AD22022-3/AD22022-3_s003_Probabilities.h5\n",
      "Probabilities saved to /Volumes/ANNA_HD/ANALYSIS/QUINT/abeta-Tau/data/data_3xtgADMAS/new/AD22022-3/AD22022-3_s004_Probabilities.h5\n",
      "Probabilities saved to /Volumes/ANNA_HD/ANALYSIS/QUINT/abeta-Tau/data/data_3xtgADMAS/new/AD22022-3/AD22022-3_s005_Probabilities.h5\n",
      "Probabilities saved to /Volumes/ANNA_HD/ANALYSIS/QUINT/abeta-Tau/data/data_3xtgADMAS/new/AD22028/AD22028_s000_Probabilities.h5\n",
      "Probabilities saved to /Volumes/ANNA_HD/ANALYSIS/QUINT/abeta-Tau/data/data_3xtgADMAS/new/AD22028/AD22028_s001_Probabilities.h5\n",
      "Probabilities saved to /Volumes/ANNA_HD/ANALYSIS/QUINT/abeta-Tau/data/data_3xtgADMAS/new/AD22028/AD22028_s002_Probabilities.h5\n",
      "Probabilities saved to /Volumes/ANNA_HD/ANALYSIS/QUINT/abeta-Tau/data/data_3xtgADMAS/new/AD22028/AD22028_s003_Probabilities.h5\n",
      "Probabilities saved to /Volumes/ANNA_HD/ANALYSIS/QUINT/abeta-Tau/data/data_3xtgADMAS/new/AD22028/AD22028_s004_Probabilities.h5\n",
      "Probabilities saved to /Volumes/ANNA_HD/ANALYSIS/QUINT/abeta-Tau/data/data_3xtgADMAS/new/AD22028/AD22028_s005_Probabilities.h5\n",
      "Probabilities saved to /Volumes/ANNA_HD/ANALYSIS/QUINT/abeta-Tau/data/data_3xtgADMAS/new/AD22028/AD22028_s006_Probabilities.h5\n",
      "Probabilities saved to /Volumes/ANNA_HD/ANALYSIS/QUINT/abeta-Tau/data/data_3xtgADMAS/new/AD22028/AD22028_s007_Probabilities.h5\n",
      "Probabilities saved to /Volumes/ANNA_HD/ANALYSIS/QUINT/abeta-Tau/data/data_3xtgADMAS/new/AD22028/AD22028_s008_Probabilities.h5\n",
      "Probabilities saved to /Volumes/ANNA_HD/ANALYSIS/QUINT/abeta-Tau/data/data_3xtgADMAS/new/AD22028/AD22028_s009_Probabilities.h5\n",
      "Probabilities saved to /Volumes/ANNA_HD/ANALYSIS/QUINT/abeta-Tau/data/data_3xtgADMAS/new/AD22028/AD22028_s010_Probabilities.h5\n",
      "Probabilities saved to /Volumes/ANNA_HD/ANALYSIS/QUINT/abeta-Tau/data/data_3xtgADMAS/new/AD22028/AD22028_s011_Probabilities.h5\n",
      "Probabilities saved to /Volumes/ANNA_HD/ANALYSIS/QUINT/abeta-Tau/data/data_3xtgADMAS/new/AD22028/AD22028_s012_Probabilities.h5\n",
      "Probabilities saved to /Volumes/ANNA_HD/ANALYSIS/QUINT/abeta-Tau/data/data_3xtgADMAS/new/AD22028-2/AD22028-2_s000_Probabilities.h5\n",
      "Probabilities saved to /Volumes/ANNA_HD/ANALYSIS/QUINT/abeta-Tau/data/data_3xtgADMAS/new/AD22028-2/AD22028-2_s001_Probabilities.h5\n",
      "Probabilities saved to /Volumes/ANNA_HD/ANALYSIS/QUINT/abeta-Tau/data/data_3xtgADMAS/new/AD22028-2/AD22028-2_s002_Probabilities.h5\n",
      "Probabilities saved to /Volumes/ANNA_HD/ANALYSIS/QUINT/abeta-Tau/data/data_3xtgADMAS/new/AD22028-2/AD22028-2_s003_Probabilities.h5\n",
      "Probabilities saved to /Volumes/ANNA_HD/ANALYSIS/QUINT/abeta-Tau/data/data_3xtgADMAS/new/AD22028-2/AD22028-2_s004_Probabilities.h5\n",
      "Probabilities saved to /Volumes/ANNA_HD/ANALYSIS/QUINT/abeta-Tau/data/data_3xtgADMAS/new/AD22028-2/AD22028-2_s005_Probabilities.h5\n",
      "Probabilities saved to /Volumes/ANNA_HD/ANALYSIS/QUINT/abeta-Tau/data/data_3xtgADMAS/new/AD22028-2/AD22028-2_s006_Probabilities.h5\n",
      "Probabilities saved to /Volumes/ANNA_HD/ANALYSIS/QUINT/abeta-Tau/data/data_3xtgADMAS/new/AD22028-2/AD22028-2_s007_Probabilities.h5\n",
      "Probabilities saved to /Volumes/ANNA_HD/ANALYSIS/QUINT/abeta-Tau/data/data_3xtgADMAS/new/AD22028-3/AD22028-3_s000_Probabilities.h5\n",
      "Probabilities saved to /Volumes/ANNA_HD/ANALYSIS/QUINT/abeta-Tau/data/data_3xtgADMAS/new/AD22028-3/AD22028-3_s001_Probabilities.h5\n",
      "Probabilities saved to /Volumes/ANNA_HD/ANALYSIS/QUINT/abeta-Tau/data/data_3xtgADMAS/new/AD22028-3/AD22028-3_s002_Probabilities.h5\n",
      "Probabilities saved to /Volumes/ANNA_HD/ANALYSIS/QUINT/abeta-Tau/data/data_3xtgADMAS/new/AD22028-3/AD22028-3_s003_Probabilities.h5\n",
      "Probabilities saved to /Volumes/ANNA_HD/ANALYSIS/QUINT/abeta-Tau/data/data_3xtgADMAS/new/AD22028-3/AD22028-3_s004_Probabilities.h5\n",
      "Probabilities saved to /Volumes/ANNA_HD/ANALYSIS/QUINT/abeta-Tau/data/data_3xtgADMAS/new/AD22028-3/AD22028-3_s005_Probabilities.h5\n",
      "Probabilities saved to /Volumes/ANNA_HD/ANALYSIS/QUINT/abeta-Tau/data/data_3xtgADMAS/new/AD22029-S1/AD22029-S1_s000_Probabilities.h5\n",
      "Probabilities saved to /Volumes/ANNA_HD/ANALYSIS/QUINT/abeta-Tau/data/data_3xtgADMAS/new/AD22029-S1/AD22029-S1_s001_Probabilities.h5\n",
      "Probabilities saved to /Volumes/ANNA_HD/ANALYSIS/QUINT/abeta-Tau/data/data_3xtgADMAS/new/AD22029-S1/AD22029-S1_s002_Probabilities.h5\n",
      "Probabilities saved to /Volumes/ANNA_HD/ANALYSIS/QUINT/abeta-Tau/data/data_3xtgADMAS/new/AD22029-S1/AD22029-S1_s003_Probabilities.h5\n",
      "Probabilities saved to /Volumes/ANNA_HD/ANALYSIS/QUINT/abeta-Tau/data/data_3xtgADMAS/new/AD22029-S1/AD22029-S1_s004_Probabilities.h5\n",
      "Probabilities saved to /Volumes/ANNA_HD/ANALYSIS/QUINT/abeta-Tau/data/data_3xtgADMAS/new/AD22029-S1/AD22029-S1_s005_Probabilities.h5\n",
      "Probabilities saved to /Volumes/ANNA_HD/ANALYSIS/QUINT/abeta-Tau/data/data_3xtgADMAS/new/AD22029-S1/AD22029-S1_s006_Probabilities.h5\n",
      "Probabilities saved to /Volumes/ANNA_HD/ANALYSIS/QUINT/abeta-Tau/data/data_3xtgADMAS/new/AD22029-S1/AD22029-S1_s007_Probabilities.h5\n",
      "Probabilities saved to /Volumes/ANNA_HD/ANALYSIS/QUINT/abeta-Tau/data/data_3xtgADMAS/new/AD22029-S1/AD22029-S1_s008_Probabilities.h5\n",
      "Probabilities saved to /Volumes/ANNA_HD/ANALYSIS/QUINT/abeta-Tau/data/data_3xtgADMAS/new/AD22029-S3/AD22029-S3_s000_Probabilities.h5\n",
      "Probabilities saved to /Volumes/ANNA_HD/ANALYSIS/QUINT/abeta-Tau/data/data_3xtgADMAS/new/AD22029-S3/AD22029-S3_s001_Probabilities.h5\n",
      "Probabilities saved to /Volumes/ANNA_HD/ANALYSIS/QUINT/abeta-Tau/data/data_3xtgADMAS/new/AD22029-S3/AD22029-S3_s002_Probabilities.h5\n",
      "Probabilities saved to /Volumes/ANNA_HD/ANALYSIS/QUINT/abeta-Tau/data/data_3xtgADMAS/new/AD22030-S1/AD22030-S1_s000_Probabilities.h5\n",
      "Probabilities saved to /Volumes/ANNA_HD/ANALYSIS/QUINT/abeta-Tau/data/data_3xtgADMAS/new/AD22030-S1/AD22030-S1_s001_Probabilities.h5\n",
      "Probabilities saved to /Volumes/ANNA_HD/ANALYSIS/QUINT/abeta-Tau/data/data_3xtgADMAS/new/AD22030-S1/AD22030-S1_s002_Probabilities.h5\n",
      "Probabilities saved to /Volumes/ANNA_HD/ANALYSIS/QUINT/abeta-Tau/data/data_3xtgADMAS/new/AD22030-S1/AD22030-S1_s003_Probabilities.h5\n",
      "Probabilities saved to /Volumes/ANNA_HD/ANALYSIS/QUINT/abeta-Tau/data/data_3xtgADMAS/new/AD22030-S1/AD22030-S1_s004_Probabilities.h5\n",
      "Probabilities saved to /Volumes/ANNA_HD/ANALYSIS/QUINT/abeta-Tau/data/data_3xtgADMAS/new/AD22030-S1/AD22030-S1_s005_Probabilities.h5\n",
      "Probabilities saved to /Volumes/ANNA_HD/ANALYSIS/QUINT/abeta-Tau/data/data_3xtgADMAS/new/AD22030-S1/AD22030-S1_s006_Probabilities.h5\n",
      "Probabilities saved to /Volumes/ANNA_HD/ANALYSIS/QUINT/abeta-Tau/data/data_3xtgADMAS/new/AD22030-S1/AD22030-S1_s007_Probabilities.h5\n",
      "Probabilities saved to /Volumes/ANNA_HD/ANALYSIS/QUINT/abeta-Tau/data/data_3xtgADMAS/new/AD22030-S1/AD22030-S1_s008_Probabilities.h5\n",
      "Probabilities saved to /Volumes/ANNA_HD/ANALYSIS/QUINT/abeta-Tau/data/data_3xtgADMAS/new/AD22030-S1/AD22030-S1_s009_Probabilities.h5\n",
      "Probabilities saved to /Volumes/ANNA_HD/ANALYSIS/QUINT/abeta-Tau/data/data_3xtgADMAS/new/AD22030-S1/AD22030-S1_s010_Probabilities.h5\n",
      "Probabilities saved to /Volumes/ANNA_HD/ANALYSIS/QUINT/abeta-Tau/data/data_3xtgADMAS/new/AD22030-S1/AD22030-S1_s011_Probabilities.h5\n",
      "Probabilities saved to /Volumes/ANNA_HD/ANALYSIS/QUINT/abeta-Tau/data/data_3xtgADMAS/new/AD22030-S1/AD22030-S1_s012_Probabilities.h5\n",
      "Probabilities saved to /Volumes/ANNA_HD/ANALYSIS/QUINT/abeta-Tau/data/data_3xtgADMAS/new/AD22030-S1/AD22030-S1_s013_Probabilities.h5\n",
      "Probabilities saved to /Volumes/ANNA_HD/ANALYSIS/QUINT/abeta-Tau/data/data_3xtgADMAS/new/AD22030-S2/AD22030-S2_s000_Probabilities.h5\n",
      "Probabilities saved to /Volumes/ANNA_HD/ANALYSIS/QUINT/abeta-Tau/data/data_3xtgADMAS/new/AD22030-S2/AD22030-S2_s001_Probabilities.h5\n",
      "Probabilities saved to /Volumes/ANNA_HD/ANALYSIS/QUINT/abeta-Tau/data/data_3xtgADMAS/new/AD22030-S2/AD22030-S2_s002_Probabilities.h5\n",
      "Probabilities saved to /Volumes/ANNA_HD/ANALYSIS/QUINT/abeta-Tau/data/data_3xtgADMAS/new/AD22030-S2/AD22030-S2_s003_Probabilities.h5\n",
      "Probabilities saved to /Volumes/ANNA_HD/ANALYSIS/QUINT/abeta-Tau/data/data_3xtgADMAS/new/AD22030-S2/AD22030-S2_s004_Probabilities.h5\n",
      "Probabilities saved to /Volumes/ANNA_HD/ANALYSIS/QUINT/abeta-Tau/data/data_3xtgADMAS/new/AD22030-S2/AD22030-S2_s005_Probabilities.h5\n",
      "Probabilities saved to /Volumes/ANNA_HD/ANALYSIS/QUINT/abeta-Tau/data/data_3xtgADMAS/new/AD22030-S2/AD22030-S2_s006_Probabilities.h5\n",
      "Probabilities saved to /Volumes/ANNA_HD/ANALYSIS/QUINT/abeta-Tau/data/data_3xtgADMAS/new/AD22030-S2/AD22030-S2_s007_Probabilities.h5\n",
      "Probabilities saved to /Volumes/ANNA_HD/ANALYSIS/QUINT/abeta-Tau/data/data_3xtgADMAS/new/AD22030-S2/AD22030-S2_s008_Probabilities.h5\n",
      "Probabilities saved to /Volumes/ANNA_HD/ANALYSIS/QUINT/abeta-Tau/data/data_3xtgADMAS/new/AD22030-S3/AD22030-S3_s000_Probabilities.h5\n",
      "Probabilities saved to /Volumes/ANNA_HD/ANALYSIS/QUINT/abeta-Tau/data/data_3xtgADMAS/new/AD22030-S3/AD22030-S3_s001_Probabilities.h5\n",
      "Probabilities saved to /Volumes/ANNA_HD/ANALYSIS/QUINT/abeta-Tau/data/data_3xtgADMAS/new/AD22030-S3/AD22030-S3_s002_Probabilities.h5\n",
      "Probabilities saved to /Volumes/ANNA_HD/ANALYSIS/QUINT/abeta-Tau/data/data_3xtgADMAS/new/AD22030-S3/AD22030-S3_s003_Probabilities.h5\n",
      "Probabilities saved to /Volumes/ANNA_HD/ANALYSIS/QUINT/abeta-Tau/data/data_3xtgADMAS/new/AD22030-S3/AD22030-S3_s004_Probabilities.h5\n",
      "Probabilities saved to /Volumes/ANNA_HD/ANALYSIS/QUINT/abeta-Tau/data/data_3xtgADMAS/new/AD22030-S3/AD22030-S3_s005_Probabilities.h5\n"
     ]
    }
   ],
   "source": [
    "batch_probabilities(dir='/Volumes/ANNA_HD/ANALYSIS/QUINT/abeta-Tau/data/data_3xtgADMAS/new', project='/Volumes/ANNA_HD/ANALYSIS/QUINT/abeta-Tau/abeta_tau_pc.ilp')"
   ]
  }
 ],
 "metadata": {
  "kernelspec": {
   "display_name": "ilastik",
   "language": "python",
   "name": "python3"
  },
  "language_info": {
   "codemirror_mode": {
    "name": "ipython",
    "version": 3
   },
   "file_extension": ".py",
   "mimetype": "text/x-python",
   "name": "python",
   "nbconvert_exporter": "python",
   "pygments_lexer": "ipython3",
   "version": "3.9.18"
  }
 },
 "nbformat": 4,
 "nbformat_minor": 2
}
