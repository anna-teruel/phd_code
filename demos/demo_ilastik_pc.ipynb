{
 "cells": [
  {
   "cell_type": "markdown",
   "metadata": {},
   "source": [
    "## Demo Notebook on Pixel Classification Batch Processing with Ilastik API\n",
    "\n",
    "This demo aims to show how to use Ilastik API to run batch processing for pixel classification"
   ]
  },
  {
   "cell_type": "code",
   "execution_count": 1,
   "metadata": {},
   "outputs": [],
   "source": [
    "import sys\n",
    "sys.path.append('/Users/annateruel/phd_code/')\n",
    "from quint.pixel_classifiaction import batch_probabilities"
   ]
  },
  {
   "cell_type": "markdown",
   "metadata": {},
   "source": [
    "You just need to specify a directory (`dir`) storing the input images and then a pixel classifiaction `project` that we created and trained using the GUI. "
   ]
  },
  {
   "cell_type": "code",
   "execution_count": 2,
   "metadata": {},
   "outputs": [
    {
     "name": "stdout",
     "output_type": "stream",
     "text": [
      "Probabilities saved to /Volumes/ANNA_HD/ANALYSIS/QUINT/abeta-Tau/data/data_B6129/new/AD23-129-2/AD23-129-2_s000_Probabilities.h5\n",
      "Probabilities saved to /Volumes/ANNA_HD/ANALYSIS/QUINT/abeta-Tau/data/data_B6129/new/AD23-129-2/AD23-129-2_s001_Probabilities.h5\n",
      "Probabilities saved to /Volumes/ANNA_HD/ANALYSIS/QUINT/abeta-Tau/data/data_B6129/new/AD23-129-2/AD23-129-2_s002_Probabilities.h5\n",
      "Probabilities saved to /Volumes/ANNA_HD/ANALYSIS/QUINT/abeta-Tau/data/data_B6129/new/AD23-129-2/AD23-129-2_s003_Probabilities.h5\n",
      "Probabilities saved to /Volumes/ANNA_HD/ANALYSIS/QUINT/abeta-Tau/data/data_B6129/new/AD23-129-2/AD23-129-2_s004_Probabilities.h5\n",
      "Probabilities saved to /Volumes/ANNA_HD/ANALYSIS/QUINT/abeta-Tau/data/data_B6129/new/AD23-129-2/AD23-129-2_s005_Probabilities.h5\n",
      "Probabilities saved to /Volumes/ANNA_HD/ANALYSIS/QUINT/abeta-Tau/data/data_B6129/new/AD23-129-2/AD23-129-2_s006_Probabilities.h5\n",
      "Probabilities saved to /Volumes/ANNA_HD/ANALYSIS/QUINT/abeta-Tau/data/data_B6129/new/AD23-129-2/AD23-129-2_s007_Probabilities.h5\n",
      "Probabilities saved to /Volumes/ANNA_HD/ANALYSIS/QUINT/abeta-Tau/data/data_B6129/new/AD23-129-2/AD23-129-2_s008_Probabilities.h5\n",
      "Probabilities saved to /Volumes/ANNA_HD/ANALYSIS/QUINT/abeta-Tau/data/data_B6129/new/AD23-129-2/AD23-129-2_s009_Probabilities.h5\n",
      "Probabilities saved to /Volumes/ANNA_HD/ANALYSIS/QUINT/abeta-Tau/data/data_B6129/new/AD23-129-3/AD23-129-3_s000_Probabilities.h5\n",
      "Probabilities saved to /Volumes/ANNA_HD/ANALYSIS/QUINT/abeta-Tau/data/data_B6129/new/AD23-129-3/AD23-129-3_s001_Probabilities.h5\n",
      "Probabilities saved to /Volumes/ANNA_HD/ANALYSIS/QUINT/abeta-Tau/data/data_B6129/new/AD23-129-3/AD23-129-3_s002_Probabilities.h5\n",
      "Probabilities saved to /Volumes/ANNA_HD/ANALYSIS/QUINT/abeta-Tau/data/data_B6129/new/AD23-129-3/AD23-129-3_s003_Probabilities.h5\n",
      "Probabilities saved to /Volumes/ANNA_HD/ANALYSIS/QUINT/abeta-Tau/data/data_B6129/new/AD23-129-3/AD23-129-3_s004_Probabilities.h5\n"
     ]
    }
   ],
   "source": [
    "batch_probabilities(dir='/Volumes/ANNA_HD/ANALYSIS/QUINT/abeta-Tau/data/data_B6129/new', project='/Volumes/ANNA_HD/ANALYSIS/QUINT/abeta-Tau/abeta_tau_pc.ilp')"
   ]
  }
 ],
 "metadata": {
  "kernelspec": {
   "display_name": "ilastik",
   "language": "python",
   "name": "python3"
  },
  "language_info": {
   "codemirror_mode": {
    "name": "ipython",
    "version": 3
   },
   "file_extension": ".py",
   "mimetype": "text/x-python",
   "name": "python",
   "nbconvert_exporter": "python",
   "pygments_lexer": "ipython3",
   "version": "3.9.18"
  }
 },
 "nbformat": 4,
 "nbformat_minor": 2
}
