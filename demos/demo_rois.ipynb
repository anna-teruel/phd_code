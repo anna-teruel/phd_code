{
 "cells": [
  {
   "cell_type": "code",
   "execution_count": null,
   "metadata": {},
   "outputs": [],
   "source": [
    "import sys\n",
    "dlc_dir = '/Users/annateruel/phd_code/'\n",
    "if dlc_dir not in sys.path:\n",
    "    sys.path.append(dlc_dir)\n"
   ]
  },
  {
   "cell_type": "code",
   "execution_count": null,
   "metadata": {},
   "outputs": [],
   "source": [
    "import os\n",
    "import pandas as pd\n",
    "import dlc.analysis.time_roi as time_roi\n",
    "from dlc.analysis.time_roi import ROIDrawer\n",
    "from dlc.data import Concatenate, Centroid"
   ]
  },
  {
   "cell_type": "markdown",
   "metadata": {},
   "source": [
    "Concatenate your data from h5 and video files (for data recorded with Miniscope Software)"
   ]
  },
  {
   "cell_type": "code",
   "execution_count": null,
   "metadata": {},
   "outputs": [],
   "source": [
    "dir = '/Volumes/ANNA_HD/ANALYSIS/EXPERIMENTS/2024/24-02-ca2+img/AD23-097/control'\n",
    "concatenator = Concatenate(dir)\n",
    "h5_concat= concatenator.concatenate_h5()\n",
    "video_concat = concatenator.concatenate_videos('.avi')"
   ]
  },
  {
   "cell_type": "code",
   "execution_count": null,
   "metadata": {},
   "outputs": [],
   "source": [
    "root_dir = '/Volumes/ANNA_HD/ANALYSIS/EXPERIMENTS/2024/24-02-ca2+img'\n",
    "\n",
    "for subdir in os.listdir(root_dir):\n",
    "    subdir_path = os.path.join(root_dir, subdir)\n",
    "    if os.path.isdir(subdir_path):\n",
    "        for condition in ['control', 'anosmic']:\n",
    "            condition_dir = os.path.join(subdir_path, condition)\n",
    "            \n",
    "            if os.path.exists(condition_dir):\n",
    "                concatenator = Concatenate(condition_dir)\n",
    "                h5_concat = concatenator.concatenate_h5()\n",
    "                video_concat = concatenator.concatenate_videos('.avi')"
   ]
  },
  {
   "cell_type": "markdown",
   "metadata": {},
   "source": [
    "1. Drawing ROIS with ROIdrawer tool"
   ]
  },
  {
   "cell_type": "code",
   "execution_count": null,
   "metadata": {},
   "outputs": [],
   "source": [
    "video = '/Volumes/ANNA_HD/ANALYSIS/EXPERIMENTS/2024/22-09-sr/dlc/AD21-087-HAB1_bw.mp4'\n",
    "savedir = os.path.dirname(video)\n",
    "roi_drawer = ROIDrawer(video_path=video,save_dir=savedir, num_rois=2)\n",
    "r = roi_drawer.draw_rois()"
   ]
  },
  {
   "cell_type": "markdown",
   "metadata": {},
   "source": [
    "2. Time in ROIs\n",
    "\n",
    "Before calculating time ina region of interest, we will begin by getting the centroid of x bodyparts"
   ]
  },
  {
   "cell_type": "code",
   "execution_count": null,
   "metadata": {},
   "outputs": [],
   "source": [
    "dir = '/Volumes/ANNA_HD/ANALYSIS/EXPERIMENTS/2024/22-09-sr/dlc/'\n",
    "bodyparts = [\"nose\", \"rightear\", \"leftear\", \"head\", \"spine1\"] "
   ]
  },
  {
   "cell_type": "code",
   "execution_count": null,
   "metadata": {},
   "outputs": [],
   "source": [
    "centroid = Centroid(minutes = 10)\n",
    "result = centroid.get_centroid(dir, bodyparts, save = True)"
   ]
  },
  {
   "cell_type": "code",
   "execution_count": null,
   "metadata": {},
   "outputs": [],
   "source": [
    "for key, df in result.items():\n",
    "        df.to_hdf(os.path.join(dir, f\"{key}_centroid.h5\"), key='df', mode='w')"
   ]
  },
  {
   "cell_type": "markdown",
   "metadata": {},
   "source": [
    "Now we have our centoid, is time to get time in the regions of interest we have defined!"
   ]
  },
  {
   "cell_type": "code",
   "execution_count": null,
   "metadata": {},
   "outputs": [],
   "source": [
    "video_dir = '/Volumes/ANNA_HD/ANALYSIS/EXPERIMENTS/2024/22-09-sr/dlc/'\n",
    "scorer = 'DLC_resnet50_conductaJan11shuffle1_600000' #should take it from DLC multiindex dataframe\n",
    "bodypart = 'centroid'"
   ]
  },
  {
   "cell_type": "code",
   "execution_count": null,
   "metadata": {},
   "outputs": [],
   "source": [
    "roi_ellipse = {}\n",
    "for file in os.listdir(video_dir):\n",
    "    if file.endswith('roi.h5') and not file.startswith('._'):\n",
    "        roi_file_path = os.path.join(video_dir, file)\n",
    "        print(f\"Processing ROI file: {file}\")\n",
    "\n",
    "        try:\n",
    "            roi_data = pd.read_hdf(roi_file_path)\n",
    "            roi_groups = roi_data.groupby(['index', 'shape-type'])\n",
    "            ellipse, _ = time_roi.EllipseROI.extract_ellipses(roi_groups)\n",
    "            key = file.replace('_roi.h5', '')\n",
    "            roi_ellipse[key] = ellipse\n",
    "            print(f\"Extracted ellipses from {file}: {len(ellipse)}\")\n",
    "        except Exception as e:\n",
    "            print(f\"Error processing {file}: {e}\")"
   ]
  },
  {
   "cell_type": "code",
   "execution_count": null,
   "metadata": {},
   "outputs": [],
   "source": [
    "frames_with_zero_rois = []\n",
    "for key, ellipses in roi_ellipse.items():\n",
    "    if len(ellipses) == 0:\n",
    "        frames_with_zero_rois.append(key)\n",
    "print(\"Frames with 0 ROIs:\")\n",
    "\n",
    "for frame in frames_with_zero_rois:\n",
    "    print(frame)\n"
   ]
  },
  {
   "cell_type": "markdown",
   "metadata": {},
   "source": [
    "In case you want to check the coords for each roi, you can use following cell to print it"
   ]
  },
  {
   "cell_type": "code",
   "execution_count": null,
   "metadata": {},
   "outputs": [],
   "source": [
    "print(\"\\nContents of roi_ellipse dictionary:\")\n",
    "for key, ellipses in roi_ellipse.items():\n",
    "    print(f\"Key: {key}, Number of ROIs: {len(ellipses)}\")\n",
    "    for i, ellipse in enumerate(ellipses):\n",
    "        print(f\"  ROI {i}: Center={ellipse.center}, Radii={ellipse.rad}\")\n",
    "        "
   ]
  },
  {
   "cell_type": "code",
   "execution_count": null,
   "metadata": {},
   "outputs": [],
   "source": [
    "rois = roi_ellipse['AD23-097-s1-anosmic_concatenated']\n",
    "time_in_roi = time_roi.TimeinRoi(fps=60)\n",
    "file_path = '/Volumes/ANNA_HD/ANALYSIS/EXPERIMENTS/2024/24-02-ca2+img/AD23-097/anosmic/concatenated_files/AD23-097-s1-anosmic_concatenated.h5'\n",
    "\n",
    "for roi in rois:\n",
    "    time_in_roi.add_roi(roi)\n",
    "\n",
    "tracking_data = time_in_roi.extract_tracking_data(file_path, scorer, bodypart)\n",
    "time_in_rois = time_in_roi.time_in_rois(tracking_data)\n",
    "print(time_in_rois)"
   ]
  },
  {
   "cell_type": "markdown",
   "metadata": {},
   "source": [
    "Because each video might have slightly different fps, let's get a specific value for each video\n"
   ]
  },
  {
   "cell_type": "code",
   "execution_count": null,
   "metadata": {},
   "outputs": [],
   "source": [
    "time_in_roi = time_roi.TimeinRoi(fps=None)\n",
    "results_df = time_in_roi.time_in_rois_dir(directory=video_dir, \n",
    "                                          rois=roi_ellipse, \n",
    "                                          scorer=scorer, \n",
    "                                          body_part=bodypart, \n",
    "                                          file_endswith='_filtered.h5_centroid.h5', \n",
    "                                          filename_replace = 'DLC_resnet50_conductaJan11shuffle1_600000_filtered.h5_centroid.h5')\n",
    "results_df.to_hdf('/Volumes/ANNA_HD/ANALYSIS/EXPERIMENTS/2024/22-09-sr/results.h5', key='df', mode='w')\n",
    "print(results_df)"
   ]
  }
 ],
 "metadata": {
  "kernelspec": {
   "display_name": "dlc_analysis",
   "language": "python",
   "name": "python3"
  },
  "language_info": {
   "codemirror_mode": {
    "name": "ipython",
    "version": 3
   },
   "file_extension": ".py",
   "mimetype": "text/x-python",
   "name": "python",
   "nbconvert_exporter": "python",
   "pygments_lexer": "ipython3",
   "version": "3.10.9"
  }
 },
 "nbformat": 4,
 "nbformat_minor": 2
}
