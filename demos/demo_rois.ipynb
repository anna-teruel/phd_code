{
 "cells": [
  {
   "cell_type": "code",
   "execution_count": 1,
   "metadata": {},
   "outputs": [],
   "source": [
    "import sys\n",
    "dlc_dir = '/Users/annateruel/phd_code/'\n",
    "if dlc_dir not in sys.path:\n",
    "    sys.path.append(dlc_dir)\n"
   ]
  },
  {
   "cell_type": "code",
   "execution_count": 2,
   "metadata": {},
   "outputs": [],
   "source": [
    "from dlc.analysis.time_roi import ROIDrawer\n",
    "import pandas as pd\n",
    "import dlc.analysis.time_roi as time_roi\n",
    "import os"
   ]
  },
  {
   "cell_type": "markdown",
   "metadata": {},
   "source": [
    "1. Drawing ROIS with ROIdrawer tool"
   ]
  },
  {
   "cell_type": "code",
   "execution_count": 3,
   "metadata": {},
   "outputs": [
    {
     "name": "stdout",
     "output_type": "stream",
     "text": [
      "Drawing ROIs for video: /Users/annateruel/Desktop/0_test2.avi\n"
     ]
    },
    {
     "name": "stderr",
     "output_type": "stream",
     "text": [
      "Traceback (most recent call last):\n",
      "  File \"/Users/annateruel/phd_code/dlc/analysis/time_roi.py\", line 125, in on_save_button_clicked\n",
      "    roi_dataframe.to_hdf(h5_file_path, key='coordinates', mode='w')\n",
      "  File \"/Users/annateruel/miniconda3/envs/dlc_analysis/lib/python3.10/site-packages/pandas/core/generic.py\", line 2799, in to_hdf\n",
      "    pytables.to_hdf(\n",
      "  File \"/Users/annateruel/miniconda3/envs/dlc_analysis/lib/python3.10/site-packages/pandas/io/pytables.py\", line 298, in to_hdf\n",
      "    with HDFStore(\n",
      "  File \"/Users/annateruel/miniconda3/envs/dlc_analysis/lib/python3.10/site-packages/pandas/io/pytables.py\", line 578, in __init__\n",
      "    self.open(mode=mode, **kwargs)\n",
      "  File \"/Users/annateruel/miniconda3/envs/dlc_analysis/lib/python3.10/site-packages/pandas/io/pytables.py\", line 737, in open\n",
      "    self._handle = tables.open_file(self._path, self._mode, **kwargs)\n",
      "  File \"/Users/annateruel/miniconda3/envs/dlc_analysis/lib/python3.10/site-packages/tables/file.py\", line 300, in open_file\n",
      "    return File(filename, mode, title, root_uep, filters, **kwargs)\n",
      "  File \"/Users/annateruel/miniconda3/envs/dlc_analysis/lib/python3.10/site-packages/tables/file.py\", line 750, in __init__\n",
      "    self._g_new(filename, mode, **params)\n",
      "  File \"tables/hdf5extension.pyx\", line 366, in tables.hdf5extension.File._g_new\n",
      "  File \"/Users/annateruel/miniconda3/envs/dlc_analysis/lib/python3.10/site-packages/tables/utils.py\", line 157, in check_file_access\n",
      "    raise FileNotFoundError(f\"``{path.parent}`` does not exist\")\n",
      "FileNotFoundError: ``/Users/annateruel/Desktop/videos`` does not exist\n"
     ]
    },
    {
     "ename": "",
     "evalue": "",
     "output_type": "error",
     "traceback": [
      "\u001b[1;31mThe Kernel crashed while executing code in the current cell or a previous cell. \n",
      "\u001b[1;31mPlease review the code in the cell(s) to identify a possible cause of the failure. \n",
      "\u001b[1;31mClick <a href='https://aka.ms/vscodeJupyterKernelCrash'>here</a> for more info. \n",
      "\u001b[1;31mView Jupyter <a href='command:jupyter.viewOutput'>log</a> for further details."
     ]
    }
   ],
   "source": [
    "roi_drawer = ROIDrawer(video_path='/Users/annateruel/Desktop/0_test2.avi',save_dir='/Users/annateruel/Desktop/videos/', num_rois=4)\n",
    "r = roi_drawer.draw_rois()"
   ]
  },
  {
   "cell_type": "markdown",
   "metadata": {},
   "source": [
    "2. Time in ROIs"
   ]
  },
  {
   "cell_type": "code",
   "execution_count": null,
   "metadata": {},
   "outputs": [],
   "source": [
    "video_dir = '/Users/annateruel/Desktop/videos/'"
   ]
  },
  {
   "cell_type": "code",
   "execution_count": null,
   "metadata": {},
   "outputs": [],
   "source": [
    "roi_polygons = {}\n",
    "for file in os.listdir(video_dir):\n",
    "    if file.endswith('roi.h5'):\n",
    "        roi_file_path = os.path.join(video_dir, file)\n",
    "        print(f\"Processing ROI file: {file}\")\n",
    "\n",
    "        try:\n",
    "            roi_data = pd.read_hdf(roi_file_path)\n",
    "            roi_groups = roi_data.groupby(['index', 'shape-type'])\n",
    "            polygons, _ = time_roi.PolygonROI.extract_polygons(roi_groups)\n",
    "            # Create the key by removing '_roi.h5' from the file name\n",
    "            key = file.replace('_roi.h5', '')\n",
    "            roi_polygons[key] = polygons  # Store polygons with the modified key\n",
    "            print(f\"Extracted polygons from {file}: {len(polygons)}\")\n",
    "        except Exception as e:\n",
    "            print(f\"Error processing {file}: {e}\")"
   ]
  },
  {
   "cell_type": "code",
   "execution_count": null,
   "metadata": {},
   "outputs": [],
   "source": [
    "scorer = 'DLC_resnet50_capsaicin_malesOct20shuffle1_200000'\n",
    "bodypart = 'Neck'"
   ]
  },
  {
   "cell_type": "code",
   "execution_count": null,
   "metadata": {},
   "outputs": [],
   "source": [
    "time_in_roi = time_roi.TimeinRoi(fps=15)\n",
    "results_df = time_in_roi.time_in_rois_dir(directory=video_dir, rois=roi_polygons, scorer=scorer, body_part=bodypart)\n",
    "results_df    "
   ]
  }
 ],
 "metadata": {
  "kernelspec": {
   "display_name": "dlc_analysis",
   "language": "python",
   "name": "python3"
  },
  "language_info": {
   "codemirror_mode": {
    "name": "ipython",
    "version": 3
   },
   "file_extension": ".py",
   "mimetype": "text/x-python",
   "name": "python",
   "nbconvert_exporter": "python",
   "pygments_lexer": "ipython3",
   "version": "3.10.9"
  }
 },
 "nbformat": 4,
 "nbformat_minor": 2
}
