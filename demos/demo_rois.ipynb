{
 "cells": [
  {
   "cell_type": "code",
   "execution_count": 1,
   "metadata": {},
   "outputs": [],
   "source": [
    "import sys\n",
    "dlc_dir = '/Users/annateruel/phd_code/'\n",
    "if dlc_dir not in sys.path:\n",
    "    sys.path.append(dlc_dir)\n"
   ]
  },
  {
   "cell_type": "code",
   "execution_count": 2,
   "metadata": {},
   "outputs": [],
   "source": [
    "from dlc.analysis.time_roi import ROIDrawer\n",
    "import pandas as pd\n",
    "import dlc.analysis.time_roi as time_roi\n",
    "import os"
   ]
  },
  {
   "cell_type": "markdown",
   "metadata": {},
   "source": [
    "1. Drawing ROIS with ROIdrawer tool"
   ]
  },
  {
   "cell_type": "code",
   "execution_count": 4,
   "metadata": {},
   "outputs": [
    {
     "name": "stdout",
     "output_type": "stream",
     "text": [
      "Drawing ROIs for video: /Users/annateruel/Desktop/0_test2.avi\n"
     ]
    }
   ],
   "source": [
    "roi_drawer = ROIDrawer(video_path='/Users/annateruel/Desktop/0_test2.avi',save_dir='/Users/annateruel/Desktop/videos/', num_rois=4)\n",
    "r = roi_drawer.draw_rois()"
   ]
  },
  {
   "cell_type": "markdown",
   "metadata": {},
   "source": [
    "2. Time in ROIs"
   ]
  },
  {
   "cell_type": "code",
   "execution_count": null,
   "metadata": {},
   "outputs": [],
   "source": [
    "video_dir = '/Users/annateruel/Desktop/videos/'"
   ]
  },
  {
   "cell_type": "code",
   "execution_count": null,
   "metadata": {},
   "outputs": [],
   "source": [
    "roi_polygons = {}\n",
    "for file in os.listdir(video_dir):\n",
    "    if file.endswith('roi.h5'):\n",
    "        roi_file_path = os.path.join(video_dir, file)\n",
    "        print(f\"Processing ROI file: {file}\")\n",
    "\n",
    "        try:\n",
    "            roi_data = pd.read_hdf(roi_file_path)\n",
    "            roi_groups = roi_data.groupby(['index', 'shape-type'])\n",
    "            polygons, _ = time_roi.PolygonROI.extract_polygons(roi_groups)\n",
    "            # Create the key by removing '_roi.h5' from the file name\n",
    "            key = file.replace('_roi.h5', '')\n",
    "            roi_polygons[key] = polygons  # Store polygons with the modified key\n",
    "            print(f\"Extracted polygons from {file}: {len(polygons)}\")\n",
    "        except Exception as e:\n",
    "            print(f\"Error processing {file}: {e}\")"
   ]
  },
  {
   "cell_type": "code",
   "execution_count": null,
   "metadata": {},
   "outputs": [],
   "source": [
    "scorer = 'DLC_resnet50_capsaicin_malesOct20shuffle1_200000'\n",
    "bodypart = 'Neck'"
   ]
  },
  {
   "cell_type": "code",
   "execution_count": null,
   "metadata": {},
   "outputs": [],
   "source": [
    "time_in_roi = time_roi.TimeinRoi(fps=15)\n",
    "results_df = time_in_roi.time_in_rois_dir(directory=video_dir, rois=roi_polygons, scorer=scorer, body_part=bodypart)\n",
    "results_df    "
   ]
  }
 ],
 "metadata": {
  "kernelspec": {
   "display_name": "dlc_analysis",
   "language": "python",
   "name": "python3"
  },
  "language_info": {
   "codemirror_mode": {
    "name": "ipython",
    "version": 3
   },
   "file_extension": ".py",
   "mimetype": "text/x-python",
   "name": "python",
   "nbconvert_exporter": "python",
   "pygments_lexer": "ipython3",
   "version": "3.10.9"
  }
 },
 "nbformat": 4,
 "nbformat_minor": 2
}
