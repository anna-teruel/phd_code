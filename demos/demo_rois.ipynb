{
 "cells": [
  {
   "cell_type": "code",
   "execution_count": 1,
   "metadata": {},
   "outputs": [],
   "source": [
    "import sys\n",
    "dlc_dir = '/Users/annateruel/phd_code/'\n",
    "if dlc_dir not in sys.path:\n",
    "    sys.path.append(dlc_dir)\n"
   ]
  },
  {
   "cell_type": "code",
   "execution_count": 3,
   "metadata": {},
   "outputs": [],
   "source": [
    "from dlc.analysis.time_roi import ROIDrawer\n",
    "import pandas as pd\n",
    "import dlc.analysis.time_roi as time_roi\n",
    "import os"
   ]
  },
  {
   "cell_type": "markdown",
   "metadata": {},
   "source": [
    "1. Drawing ROIS with ROIdrawer tool"
   ]
  },
  {
   "cell_type": "code",
   "execution_count": 5,
   "metadata": {},
   "outputs": [
    {
     "name": "stdout",
     "output_type": "stream",
     "text": [
      "Drawing ROIs for video: /Users/annateruel/Desktop/0_test2.avi\n"
     ]
    },
    {
     "name": "stdout",
     "output_type": "stream",
     "text": [
      "ROIs saved to /Users/annateruel/Desktop/videos/0_test2_roi.h5\n",
      "Frame saved to /Users/annateruel/Desktop/videos/0_test2_roi.png\n"
     ]
    }
   ],
   "source": [
    "roi_drawer = ROIDrawer(video_path='/Users/annateruel/Desktop/0_test2.avi',save_dir='/Users/annateruel/Desktop/videos/', num_rois=4)\n",
    "r = roi_drawer.draw_rois()"
   ]
  },
  {
   "cell_type": "markdown",
   "metadata": {},
   "source": [
    "2. Time in ROIs"
   ]
  }
 ],
 "metadata": {
  "kernelspec": {
   "display_name": "dlc_analysis",
   "language": "python",
   "name": "python3"
  },
  "language_info": {
   "codemirror_mode": {
    "name": "ipython",
    "version": 3
   },
   "file_extension": ".py",
   "mimetype": "text/x-python",
   "name": "python",
   "nbconvert_exporter": "python",
   "pygments_lexer": "ipython3",
   "version": "3.10.9"
  }
 },
 "nbformat": 4,
 "nbformat_minor": 2
}
