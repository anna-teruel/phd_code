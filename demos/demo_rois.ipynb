{
 "cells": [
  {
   "cell_type": "code",
   "execution_count": null,
   "metadata": {},
   "outputs": [],
   "source": [
    "import sys\n",
    "dlc_dir = '/Users/annateruel/phd_code/'\n",
    "if dlc_dir not in sys.path:\n",
    "    sys.path.append(dlc_dir)\n"
   ]
  },
  {
   "cell_type": "code",
   "execution_count": null,
   "metadata": {},
   "outputs": [],
   "source": [
    "import os\n",
    "import pandas as pd\n",
    "import dlc.analysis.time_roi as time_roi\n",
    "from dlc.analysis.time_roi import ROIDrawer\n",
    "from dlc.data import Concatenate"
   ]
  },
  {
   "cell_type": "markdown",
   "metadata": {},
   "source": [
    "Concatenate your data from h5 and video files"
   ]
  },
  {
   "cell_type": "code",
   "execution_count": null,
   "metadata": {},
   "outputs": [],
   "source": [
    "dir = '/Volumes/ANNA_HD/ANALYSIS/EXPERIMENTS/2024/24-02-ca2+img/AD23-097/control'\n",
    "concatenator = Concatenate(dir)\n",
    "h5_concat= concatenator.concatenate_h5()\n",
    "video_concat = concatenator.concatenate_videos('.avi')"
   ]
  },
  {
   "cell_type": "code",
   "execution_count": null,
   "metadata": {},
   "outputs": [],
   "source": [
    "root_dir = '/Volumes/ANNA_HD/ANALYSIS/EXPERIMENTS/2024/24-02-ca2+img'\n",
    "\n",
    "for subdir in os.listdir(root_dir):\n",
    "    subdir_path = os.path.join(root_dir, subdir)\n",
    "    if os.path.isdir(subdir_path):\n",
    "        for condition in ['control', 'anosmic']:\n",
    "            condition_dir = os.path.join(subdir_path, condition)\n",
    "            \n",
    "            if os.path.exists(condition_dir):\n",
    "                concatenator = Concatenate(condition_dir)\n",
    "                h5_concat = concatenator.concatenate_h5()\n",
    "                video_concat = concatenator.concatenate_videos('.avi')"
   ]
  },
  {
   "cell_type": "markdown",
   "metadata": {},
   "source": [
    "1. Drawing ROIS with ROIdrawer tool"
   ]
  },
  {
   "cell_type": "code",
   "execution_count": null,
   "metadata": {},
   "outputs": [],
   "source": [
    "video = '/Volumes/ANNA_HD/ANALYSIS/EXPERIMENTS/2024/24-02-ca2+img/AD23-097/anosmic/concatenated_files/AD23-097-s7-anosmic_concatenated.avi'\n",
    "savedir = os.path.dirname(video)\n",
    "\n",
    "roi_drawer = ROIDrawer(video_path=video,save_dir=savedir, num_rois=2)\n",
    "r = roi_drawer.draw_rois()"
   ]
  },
  {
   "cell_type": "markdown",
   "metadata": {},
   "source": [
    "2. Time in ROIs"
   ]
  },
  {
   "cell_type": "code",
   "execution_count": null,
   "metadata": {},
   "outputs": [],
   "source": [
    "video_dir = '/Volumes/ANNA_HD/ANALYSIS/EXPERIMENTS/2024/24-02-ca2+img/AD23-097/anosmic/concatenated_files'\n",
    "scorer = 'DLC_resnet50_sr-ca2+imgNov17shuffle1_250000'\n",
    "bodypart = 'head'"
   ]
  },
  {
   "cell_type": "code",
   "execution_count": null,
   "metadata": {},
   "outputs": [],
   "source": [
    "pd.read_hdf('/Volumes/ANNA_HD/ANALYSIS/EXPERIMENTS/2024/24-02-ca2+img/AD23-097/anosmic/concatenated_files/AD23-097-s5-anosmic_concatenated_roi.h5')"
   ]
  },
  {
   "cell_type": "code",
   "execution_count": null,
   "metadata": {},
   "outputs": [],
   "source": [
    "roi_ellipse = {}\n",
    "for file in os.listdir(video_dir):\n",
    "    if file.endswith('roi.h5'):\n",
    "        roi_file_path = os.path.join(video_dir, file)\n",
    "        print(f\"Processing ROI file: {file}\")\n",
    "\n",
    "        try:\n",
    "            roi_data = pd.read_hdf(roi_file_path)\n",
    "            roi_groups = roi_data.groupby(['index', 'shape-type'])\n",
    "            ellipse, _ = time_roi.EllipseROI.extract_ellipses(roi_groups)\n",
    "            key = file.replace('_roi.h5', '')\n",
    "            roi_ellipse[key] = ellipse\n",
    "            print(f\"Extracted ellipses from {file}: {len(ellipse)}\")\n",
    "        except Exception as e:\n",
    "            print(f\"Error processing {file}: {e}\")"
   ]
  },
  {
   "cell_type": "code",
   "execution_count": null,
   "metadata": {},
   "outputs": [],
   "source": [
    "print(\"\\nContents of roi_ellipse dictionary:\")\n",
    "for key, ellipses in roi_ellipse.items():\n",
    "    print(f\"Key: {key}, Number of ROIs: {len(ellipses)}\")\n",
    "    for i, ellipse in enumerate(ellipses):\n",
    "        print(f\"  ROI {i}: Center={ellipse.center}, Radii={ellipse.rad}\")\n",
    "        "
   ]
  },
  {
   "cell_type": "code",
   "execution_count": null,
   "metadata": {},
   "outputs": [],
   "source": [
    "rois = roi_ellipse['AD23-097-s1-anosmic_concatenated']\n",
    "time_in_roi = time_roi.TimeinRoi(fps=60)\n",
    "file_path = '/Volumes/ANNA_HD/ANALYSIS/EXPERIMENTS/2024/24-02-ca2+img/AD23-097/anosmic/concatenated_files/AD23-097-s1-anosmic_concatenated.h5'\n",
    "\n",
    "for roi in rois:\n",
    "    time_in_roi.add_roi(roi)\n",
    "\n",
    "tracking_data = time_in_roi.extract_tracking_data(file_path, scorer, bodypart)\n",
    "time_in_rois = time_in_roi.time_in_rois(tracking_data)\n",
    "print(time_in_rois)"
   ]
  },
  {
   "cell_type": "code",
   "execution_count": null,
   "metadata": {},
   "outputs": [],
   "source": [
    "time_in_roi = time_roi.TimeinRoi(fps=60)\n",
    "results_df = time_in_roi.time_in_rois_dir(directory=video_dir, \n",
    "                                          rois=roi_ellipse, \n",
    "                                          scorer=scorer, \n",
    "                                          body_part=bodypart, \n",
    "                                          file_endswith='concatenated.h5', \n",
    "                                          filename_replace = '.h5')\n",
    "print(results_df)"
   ]
  }
 ],
 "metadata": {
  "kernelspec": {
   "display_name": "dlc_analysis",
   "language": "python",
   "name": "python3"
  },
  "language_info": {
   "codemirror_mode": {
    "name": "ipython",
    "version": 3
   },
   "file_extension": ".py",
   "mimetype": "text/x-python",
   "name": "python",
   "nbconvert_exporter": "python",
   "pygments_lexer": "ipython3",
   "version": "3.1.undefined"
  }
 },
 "nbformat": 4,
 "nbformat_minor": 2
}
