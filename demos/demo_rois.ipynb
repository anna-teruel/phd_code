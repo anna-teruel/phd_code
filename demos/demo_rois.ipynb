{
 "cells": [
  {
   "cell_type": "markdown",
   "metadata": {},
   "source": [
    "# Time in ROI demo notebook"
   ]
  },
  {
   "cell_type": "code",
   "execution_count": 1,
   "metadata": {},
   "outputs": [],
   "source": [
    "import sys\n",
    "import numpy as np\n",
    "dlc_dir = '/Users/annateruel/phd_code/'\n",
    "if dlc_dir not in sys.path:\n",
    "    sys.path.append(dlc_dir)\n",
    "    \n",
    "import os\n",
    "import pandas as pd\n",
    "import dlc.analysis.time_roi as time_roi\n",
    "from dlc.analysis.time_roi import ROIDrawer, DynamicROI, TimeROIbins, map_videofile\n",
    "from dlc.data import Concatenate, Centroid, Interpolation\n",
    "from dlc.plotting import TrackingPlot, InterpolationPlot\n",
    "from dlc.load_data import DataLoader"
   ]
  },
  {
   "cell_type": "markdown",
   "metadata": {},
   "source": [
    "### Concatenate your videos\n",
    "Concatenate your data from h5 and video files (for data recorded with Miniscope Software)"
   ]
  },
  {
   "cell_type": "code",
   "execution_count": null,
   "metadata": {},
   "outputs": [],
   "source": [
    "dir = '/Users/annateruel/Desktop/poster_sfn/calcium/dlc'\n",
    "concatenator = Concatenate(dir)\n",
    "h5_concat= concatenator.concatenate_h5()\n",
    "video_concat = concatenator.concatenate_videos('.avi')"
   ]
  },
  {
   "cell_type": "code",
   "execution_count": 3,
   "metadata": {},
   "outputs": [],
   "source": [
    "root_dir = '/Users/annateruel/Desktop/poster_sfn/calcium/dlc'\n",
    "\n",
    "for subdir in os.listdir(root_dir):\n",
    "    subdir_path = os.path.join(root_dir, subdir)\n",
    "    if os.path.isdir(subdir_path):\n",
    "        for condition in ['control', 'anosmic']:\n",
    "            condition_dir = os.path.join(subdir_path, condition)\n",
    "            \n",
    "            if os.path.exists(condition_dir):\n",
    "                concatenator = Concatenate(condition_dir)\n",
    "                h5_concat = concatenator.concatenate_h5()\n",
    "                print(f\"h5 concatenation result: {h5_concat}\")\n",
    "                video_concat = concatenator.concatenate_videos('.avi')\n",
    "                print(f\"Video concatenation result: {video_concat}\")"
   ]
  },
  {
   "cell_type": "markdown",
   "metadata": {},
   "source": [
    "### ROI Drawer tool"
   ]
  },
  {
   "cell_type": "code",
   "execution_count": null,
   "metadata": {},
   "outputs": [],
   "source": [
    "video = '/Users/annateruel/Desktop/AD23-229-hab2-2.mp4'\n",
    "savedir = os.path.dirname(video)\n",
    "roi_drawer = ROIDrawer(video_path=video,save_dir=savedir, num_rois=2)\n",
    "r = roi_drawer.draw_rois()"
   ]
  },
  {
   "cell_type": "markdown",
   "metadata": {},
   "source": [
    "### Interpolate bodyparts\n",
    "\n",
    "Before calculating time in a region of interest, we will begin by interpolating all bodyparts to make sure that the tracking is fine-tuned"
   ]
  },
  {
   "cell_type": "code",
   "execution_count": null,
   "metadata": {},
   "outputs": [],
   "source": [
    "input_data = '/Users/annateruel/Desktop/h5s/raw/' #raw folders includes files without the inteprolation\n",
    "bodyparts = ['nose', \n",
    "             'rightear', \n",
    "             'leftear', \n",
    "             'head', \n",
    "             'spine1', \n",
    "             'spine2', \n",
    "             'basetail', \n",
    "             'lc', \n",
    "             'lr', \n",
    "             'rc', \n",
    "             'rr'] \n",
    "output_dir = '/Users/annateruel/Desktop/h5s/'\n",
    "interpolator = Interpolation(threshold=0.995, interpolation_method='linear')\n",
    "interpolated_data = interpolator.interpolate_data(input_data, bodyparts, output_dir=output_dir)"
   ]
  },
  {
   "cell_type": "markdown",
   "metadata": {},
   "source": [
    "### Plot interpolation\n",
    "\n",
    "We're going to plot comparison between before-after interpolation for each body part in our dataframe. "
   ]
  },
  {
   "cell_type": "code",
   "execution_count": null,
   "metadata": {},
   "outputs": [],
   "source": [
    "interpolator = Interpolation(threshold=0.995, interpolation_method='linear')\n",
    "plotter = InterpolationPlot(interpolator, style=\"light\", colormap=\"RdYlGn\", linewidth=0.5, alpha=0.90)\n",
    "\n",
    "input_dir = '/Users/annateruel/Desktop/h5s/raw/'\n",
    "output_dir = '/Users/annateruel/Desktop/h5s/plots/'\n",
    "plotter.plot_directory(input_dir, \n",
    "                       ['nose', \n",
    "                        'rightear', \n",
    "                        'leftear', \n",
    "                        'head', \n",
    "                        'spine1', \n",
    "                        'spine2', \n",
    "                        'basetail', \n",
    "                        'lc', \n",
    "                        'lr', \n",
    "                        'rc', \n",
    "                        'rr'],\n",
    "                        'Comparison of Interpolated Data', \n",
    "                        output_dir)"
   ]
  },
  {
   "cell_type": "markdown",
   "metadata": {},
   "source": [
    "### Calculate the centroid of your body parts\n",
    "\n",
    "Before calculating time ina region of interest, we will begin by getting the centroid of x bodyparts"
   ]
  },
  {
   "cell_type": "code",
   "execution_count": 3,
   "metadata": {},
   "outputs": [],
   "source": [
    "dir = '/Users/annateruel/Desktop/h5s/raw'\n",
    "bodyparts = [\"nose\", \"rightear\", \"leftear\", \"head\", \"spine1\", \"spine2\"] \n",
    "\n",
    "centroid = Centroid(minutes = 5)\n",
    "result = centroid.get_centroid(dir, bodyparts, save = True, suffix='filtered.h5')\n",
    "\n",
    "for key, df in result.items():\n",
    "        df.to_hdf(os.path.join(dir, f\"{key}_centroid.h5\"), key='df', mode='w')"
   ]
  },
  {
   "cell_type": "markdown",
   "metadata": {},
   "source": [
    "### Time in ROI"
   ]
  },
  {
   "cell_type": "code",
   "execution_count": null,
   "metadata": {},
   "outputs": [],
   "source": [
    "video_dir = '/Users/annateruel/Desktop/AD23-120/DLC'\n",
    "scorer = 'DLC_resnet50_sr-ca2+imgNov17shuffle1_250000' #should take it from DLC multiindex dataframe\n",
    "bodypart = 'centroid'"
   ]
  },
  {
   "cell_type": "code",
   "execution_count": null,
   "metadata": {},
   "outputs": [],
   "source": [
    "roi_ellipse = {}\n",
    "for file in os.listdir(video_dir):\n",
    "    if file.endswith('roi.h5') and not file.startswith('._'):\n",
    "        roi_file_path = os.path.join(video_dir, file)\n",
    "        print(f\"Processing ROI file: {file}\")\n",
    "\n",
    "        try:\n",
    "            roi_data = pd.read_hdf(roi_file_path)\n",
    "            roi_groups = roi_data.groupby(['index', 'shape-type'])\n",
    "            ellipse, _ = time_roi.EllipseROI.extract_ellipses(roi_groups)\n",
    "            key = file.replace('_roi.h5', '')\n",
    "            roi_ellipse[key] = ellipse\n",
    "            print(f\"Extracted ellipses from {file}: {len(ellipse)}\")\n",
    "        except Exception as e:\n",
    "            print(f\"Error processing {file}: {e}\")"
   ]
  },
  {
   "cell_type": "code",
   "execution_count": null,
   "metadata": {},
   "outputs": [],
   "source": [
    "frames_with_zero_rois = []\n",
    "for key, ellipses in roi_ellipse.items():\n",
    "    if len(ellipses) == 0:\n",
    "        frames_with_zero_rois.append(key)\n",
    "print(\"Frames with 0 ROIs:\")\n",
    "\n",
    "for frame in frames_with_zero_rois:\n",
    "    print(frame)\n"
   ]
  },
  {
   "cell_type": "markdown",
   "metadata": {},
   "source": [
    "In case you want to check the coords for each roi, you can use following cell to print it"
   ]
  },
  {
   "cell_type": "code",
   "execution_count": null,
   "metadata": {},
   "outputs": [],
   "source": [
    "print(\"\\nContents of roi_ellipse dictionary:\")\n",
    "for key, ellipses in roi_ellipse.items():\n",
    "    print(f\"Key: {key}, Number of ROIs: {len(ellipses)}\")\n",
    "    for i, ellipse in enumerate(ellipses):\n",
    "        print(f\"  ROI {i}: Center={ellipse.center}, Radii={ellipse.rad}\")\n",
    "        "
   ]
  },
  {
   "cell_type": "code",
   "execution_count": null,
   "metadata": {},
   "outputs": [],
   "source": [
    "rois = roi_ellipse['AD23-120-s2_concatenated']\n",
    "time_in_roi = time_roi.TimeinRoi(fps=60)\n",
    "file_path = '/Users/annateruel/Desktop/AD23-120/DLC/AD23-120-s2_centroid.h5'\n",
    "for roi in rois:\n",
    "    time_in_roi.add_roi(roi)\n",
    "\n",
    "tracking_data = time_in_roi.extract_tracking_data(file_path, scorer, bodypart)\n",
    "time_in_rois = time_in_roi.time_in_rois(tracking_data)\n",
    "print(time_in_rois)"
   ]
  },
  {
   "cell_type": "markdown",
   "metadata": {},
   "source": [
    "Because each video might have slightly different fps, let's get a specific value for each video\n"
   ]
  },
  {
   "cell_type": "code",
   "execution_count": null,
   "metadata": {},
   "outputs": [],
   "source": [
    "time_in_roi = time_roi.TimeinRoi(fps=60)\n",
    "results_df = time_in_roi.time_in_rois_dir(directory=video_dir, \n",
    "                                          rois=roi_ellipse, \n",
    "                                          scorer=scorer, \n",
    "                                          body_part=bodypart, \n",
    "                                          file_endswith='_centroid.h5', \n",
    "                                          filename_replace = 'filtered.h5_centroid.h5')\n",
    "results_df.to_hdf('/Users/annateruel/Desktop/results.h5', key='df', mode='w')\n",
    "print(results_df)"
   ]
  },
  {
   "cell_type": "markdown",
   "metadata": {},
   "source": [
    "### Time in dynamic ROI"
   ]
  },
  {
   "cell_type": "code",
   "execution_count": null,
   "metadata": {},
   "outputs": [],
   "source": [
    "import os\n",
    "import pandas as pd\n",
    "\n",
    "h5_directory = '/Users/annateruel/Desktop/h5s/centroid/'  \n",
    "video_directory = '/Users/annateruel/Desktop/h5s/centroid/'\n",
    "\n",
    "total_times = {}\n",
    "for h5_filename in os.listdir(h5_directory):\n",
    "    if h5_filename.endswith(\"centroid.h5\"):\n",
    "        h5_filepath = os.path.join(h5_directory, h5_filename)\n",
    "        roi = DynamicROI(c='lc', r='lr', video_dir=video_directory)\n",
    "        video_filepath = roi.map_videofile(h5_filename)\n",
    "        if video_filepath is None:\n",
    "            print(f\"No video file found for {h5_filename}\")\n",
    "            continue\n",
    "        \n",
    "        df = pd.read_hdf(h5_filepath)\n",
    "        total_time, frames_in_roi = roi.dynamic_time_in_roi(df, video_filepath, minutes=5)\n",
    "        total_times[h5_filename] = (total_time, frames_in_roi)\n",
    "\n",
    "results_df = pd.DataFrame(\n",
    "    [(filename, data[0], data[1]) for filename, data in total_times.items()],\n",
    "    columns=['filename', 'total_time_in_roi', 'frames_in_roi']\n",
    ")\n",
    "\n",
    "output_filepath = '/Users/annateruel/Desktop/results_left5.csv'\n",
    "results_df.to_csv(output_filepath, index=False)\n",
    "print(f\"Results saved to {output_filepath}\")"
   ]
  },
  {
   "cell_type": "markdown",
   "metadata": {},
   "source": [
    "### Heatmaps or Density plots"
   ]
  },
  {
   "cell_type": "code",
   "execution_count": null,
   "metadata": {},
   "outputs": [],
   "source": [
    "dir = '/Volumes/ANNA_HD/ANALYSIS/EXPERIMENTS/2024/24-02-ca2+img/AD23-097/control/'\n",
    "bodyparts = ['nose', 'rightear', 'leftear', 'head']"
   ]
  },
  {
   "cell_type": "code",
   "execution_count": null,
   "metadata": {},
   "outputs": [],
   "source": [
    "tracking_plot = TrackingPlot(style=\"light\")\n",
    "\n",
    "tracking_plot.plot_directory(\n",
    "    dir_path=dir,\n",
    "    bodyparts=bodyparts,\n",
    "    title='Density plot of head position',\n",
    "    plot_type='density',\n",
    "    save=True,\n",
    "    save_directory=dir,\n",
    "    cmap='summer',\n",
    "    width=11.34,\n",
    "    height=3.35)"
   ]
  },
  {
   "cell_type": "code",
   "execution_count": null,
   "metadata": {},
   "outputs": [],
   "source": [
    "import pandas as pd\n",
    "import seaborn as sns\n",
    "import matplotlib.pyplot as plt\n",
    "import glob\n",
    "import os\n",
    "\n",
    "# Define the directory containing the .h5 files\n",
    "input_directory = '/Volumes/ANNA_HD/ANALYSIS/EXPERIMENTS/2024/24-02-ca2+img/AD23-112/anosmic/concatenated_files'   # Replace with your actual input directory path\n",
    "\n",
    "# Get all .h5 files ending with 'filtered.h5' in the directory\n",
    "file_list = glob.glob(f'{input_directory}/*anosmic_concatenated.h5')\n",
    "\n",
    "# Loop through each file and generate a KDE plot\n",
    "for file in file_list:\n",
    "    # Extract the directory and filename without the extension\n",
    "    file_dir = os.path.dirname(file)\n",
    "    file_name = os.path.splitext(os.path.basename(file))[0]\n",
    "\n",
    "    # Create a density directory inside the file's directory\n",
    "    density_directory = os.path.join(file_dir, 'density')\n",
    "    os.makedirs(density_directory, exist_ok=True)\n",
    "\n",
    "    # Load the data\n",
    "    data = pd.read_hdf(file)\n",
    "    \n",
    "    # Extract the coordinates for the \"head\" body part\n",
    "    head_x = data.loc[:, (slice(None), \"spine1\", \"x\")].values.flatten()\n",
    "    head_y = data.loc[:, (slice(None), \"spine1\", \"y\")].values.flatten()\n",
    "\n",
    "    # Plot the density plot\n",
    "    plt.figure(figsize=(10, 6))\n",
    "    ax = sns.kdeplot(x=head_x, y=head_y, fill=True, cmap='summer', levels=10, alpha=0.9)\n",
    "\n",
    "    plt.xlabel('X Coordinate')\n",
    "    plt.ylabel('Y Coordinate')\n",
    "    plt.title(f'Density Plot for Head Coordinates - {file_name}')\n",
    "\n",
    "    # Save the plot as an SVG file\n",
    "    output_file_path = os.path.join(density_directory, f'{file_name}.svg')\n",
    "    plt.savefig(output_file_path, format='svg')\n",
    "\n",
    "    # Close the plot to free up memory\n",
    "    plt.close()\n",
    "\n",
    "print(f'Plots saved to \"density\" directories within {input_directory}')\n",
    "\n"
   ]
  },
  {
   "cell_type": "markdown",
   "metadata": {},
   "source": [
    "### Time in ROI bins \n"
   ]
  },
  {
   "cell_type": "code",
   "execution_count": null,
   "metadata": {},
   "outputs": [],
   "source": [
    "h5_directory = '/Users/annateruel/Desktop/h5s/centroid/'  \n",
    "video_directory = '/Users/annateruel/Desktop/h5s/centroid/'\n",
    "output_directory = '/Users/annateruel/Desktop/h5s/'\n",
    "\n",
    "os.makedirs(output_directory, exist_ok=True)\n",
    "\n",
    "roi_params_dynamic = {'c': 'lc', 'r': 'lr', 'video_dir': video_directory}\n",
    "\n",
    "for h5_filename in os.listdir(h5_directory):\n",
    "    if h5_filename.endswith(\"centroid.h5\"):\n",
    "        h5_filepath = os.path.join(h5_directory, h5_filename)\n",
    "        df = pd.read_hdf(h5_filepath)\n",
    "        time_roi_bins = TimeROIbins(df, bodypart='centroid', roi_type='dynamic', roi_params=roi_params_dynamic)\n",
    "        \n",
    "        video_filepath = map_videofile(h5_filename, video_directory)\n",
    "        if video_filepath is None:\n",
    "            print(f\"No video file found for {h5_filename}\")\n",
    "            continue\n",
    "        \n",
    "        bin_size_sec = 10  # Size of each bin in seconds\n",
    "        results_df = time_roi_bins.calculate_time_in_roi_bins(video_path=video_filepath, bin_size_sec=bin_size_sec)\n",
    "        \n",
    "        output_filepath = os.path.join(output_directory, f\"{h5_filename}_roi_bins.csv\")\n",
    "        results_df.to_csv(output_filepath, index=False)\n",
    "        print(f\"Results saved to {output_filepath}\")\n",
    "\n",
    "results_df = pd.read_csv(output_filepath)\n"
   ]
  }
 ],
 "metadata": {
  "kernelspec": {
   "display_name": "dlc_analysis",
   "language": "python",
   "name": "python3"
  },
  "language_info": {
   "codemirror_mode": {
    "name": "ipython",
    "version": 3
   },
   "file_extension": ".py",
   "mimetype": "text/x-python",
   "name": "python",
   "nbconvert_exporter": "python",
   "pygments_lexer": "ipython3",
   "version": "3.10.9"
  }
 },
 "nbformat": 4,
 "nbformat_minor": 2
}
