{
 "cells": [
  {
   "cell_type": "markdown",
   "metadata": {},
   "source": [
    "# Demo Notebook\n",
    "\n",
    "This notebook aims to represent the DeepLabCut output analysis, using example data. \n",
    "So we begin by importing our packages, called for now \"dlc\". "
   ]
  },
  {
   "cell_type": "code",
   "execution_count": 8,
   "metadata": {},
   "outputs": [],
   "source": [
    "import dlc"
   ]
  },
  {
   "cell_type": "markdown",
   "metadata": {},
   "source": [
    "#### Loading data\n",
    "As an example, we will first work on a single file. Later, we'll try batch processing. We define the path where our file is, and with the function\n",
    "`dlc.load_data.read_data` we will load our `.h5` file. "
   ]
  },
  {
   "cell_type": "code",
   "execution_count": null,
   "metadata": {},
   "outputs": [],
   "source": [
    "h5_path =  '/Users/annateruel/ca2+img-anna-2023-01-30/videos'\n",
    "data = dlc.load_data.read_data( ,'/Users/annateruel/ca2+img-anna-2023-01-30/videos/0_neutro2DLC_resnet50_ca2+imgJan30shuffle1_500000.h5' 5, 30)"
   ]
  },
  {
   "cell_type": "markdown",
   "metadata": {},
   "source": [
    "Since on this data file we have performed a tracking on the cage, we will define a list of bodyparts we want to work with. "
   ]
  },
  {
   "cell_type": "code",
   "execution_count": 3,
   "metadata": {},
   "outputs": [],
   "source": [
    "bodyparts = ['nose', 'rightear', 'leftear', 'head', 'sp1', 'sp2', 'tail']"
   ]
  },
  {
   "cell_type": "code",
   "execution_count": 4,
   "metadata": {},
   "outputs": [],
   "source": [
    "import pandas as pd \n",
    "data = pd.read_hdf('/Users/annateruel/ca2+img-anna-2023-01-30/videos/0_neutro2DLC_resnet50_ca2+imgJan30shuffle1_500000.h5')"
   ]
  },
  {
   "cell_type": "code",
   "execution_count": 5,
   "metadata": {},
   "outputs": [],
   "source": [
    "df2 = data.copy()"
   ]
  },
  {
   "cell_type": "markdown",
   "metadata": {},
   "source": [
    "#### Get centroid from a list of bodyparts\n",
    "\n",
    "One of the functions we can perform from the `data.py` file is to calculate the centroid of specified bodyparts in each dataframe. We can add this centroid coordinates (x,y) to our current dataframe. Let's try that!"
   ]
  },
  {
   "cell_type": "markdown",
   "metadata": {},
   "source": [
    "#### Calculate interpolation\n",
    "\n",
    "If the tracking of some bodyparts is not perfect, we can get the interpolation of those values with likelihood under a certain threshold. "
   ]
  },
  {
   "cell_type": "code",
   "execution_count": null,
   "metadata": {},
   "outputs": [],
   "source": [
    "df2 = data.copy() #we get a copy of the dataframe and work from there\n",
    "df2 = dlc.data.get_interpolation()"
   ]
  },
  {
   "cell_type": "code",
   "execution_count": null,
   "metadata": {},
   "outputs": [],
   "source": [
    "import numpy as np\n",
    "DLCscorer = df2.columns[0][0]\n",
    "threshold = 0.95\n",
    "likelihood_col = (DLCscorer, 'nose', 'likelihood')\n",
    "if df2[likelihood_col].lt(threshold).any():\n",
    "    mask = df2[likelihood_col] < threshold\n",
    "\n",
    "    df2.loc[mask, (DLCscorer, 'nose', 'x')] = np.nan\n",
    "    df2.loc[mask, (DLCscorer, 'nose', 'y')] = np.nan\n",
    "\n",
    "    df2[(DLCscorer, 'nose', 'x')] = df2[(DLCscorer, 'nose', 'x')].interpolate(method='linear')\n",
    "    df2[(DLCscorer, 'nose', 'y')] = df2[(DLCscorer, 'nose', 'y')].interpolate(method='linear')\n",
    "\n",
    "nose2 = df2.loc[:,(DLCscorer, 'nose', slice(None))]\n",
    "nose2"
   ]
  },
  {
   "cell_type": "code",
   "execution_count": null,
   "metadata": {},
   "outputs": [],
   "source": [
    "nose = data.loc[:, (slice(None), 'nose', slice(None))]\n",
    "nose.loc[:,(slice(None), slice(None), 'x')]"
   ]
  },
  {
   "cell_type": "code",
   "execution_count": null,
   "metadata": {},
   "outputs": [],
   "source": [
    "import numpy as np\n",
    "import matplotlib.pyplot as plt\n",
    "from matplotlib.collections import LineCollection\n",
    "\n",
    "fig, ax = plt.subplots(figsize=(10, 10))\n",
    "\n",
    "x = nose.loc[:, (slice(None), slice(None), 'x')].values\n",
    "y = nose.loc[:, (slice(None), slice(None), 'y')].values\n",
    "likelihood = nose.loc[:, (slice(None), slice(None), 'likelihood')].values.flatten()  # Flatten the array\n",
    "\n",
    "# Create segments for LineCollection\n",
    "points = np.array([x, y]).T.reshape(-1, 1, 2)\n",
    "segments = np.concatenate([points[:-1], points[1:]], axis=1)\n",
    "\n",
    "# Create a LineCollection object with segments and colormap\n",
    "colormap = plt.cm.RdYlGn\n",
    "lc = LineCollection(segments, cmap=colormap, norm=plt.Normalize(likelihood.min(), likelihood.max()), linewidth=0.5, alpha=0.5)\n",
    "lc.set_array(likelihood)\n",
    "\n",
    "ax.add_collection(lc)\n",
    "\n",
    "# Add a colorbar to the plot to show what each color represents\n",
    "cbar = plt.colorbar(lc, ax=ax)\n",
    "cbar.set_label('Likelihood Value')\n",
    "\n",
    "ax.set_xlim(x.min(), x.max())\n",
    "ax.set_ylim(y.min(), y.max())\n",
    "\n",
    "plt.show()\n",
    "\n"
   ]
  },
  {
   "cell_type": "code",
   "execution_count": null,
   "metadata": {},
   "outputs": [],
   "source": [
    "import numpy as np\n",
    "import matplotlib.pyplot as plt\n",
    "from matplotlib.collections import LineCollection\n",
    "\n",
    "def plot_data(ax, data, title):\n",
    "    x = data.loc[:, (slice(None), slice(None), 'x')].values\n",
    "    y = data.loc[:, (slice(None), slice(None), 'y')].values\n",
    "    likelihood = data.loc[:, (slice(None), slice(None), 'likelihood')].values.flatten()\n",
    "\n",
    "    # Create segments for LineCollection\n",
    "    points = np.array([x, y]).T.reshape(-1, 1, 2)\n",
    "    segments = np.concatenate([points[:-1], points[1:]], axis=1)\n",
    "\n",
    "    # Create a LineCollection object with segments and colormap\n",
    "    colormap = plt.cm.RdYlGn\n",
    "    lc = LineCollection(segments, cmap=colormap, norm=plt.Normalize(likelihood.min(), likelihood.max()), linewidth=0.5, alpha=0.5)\n",
    "    lc.set_array(likelihood)\n",
    "\n",
    "    ax.add_collection(lc)\n",
    "    ax.set_xlim(x.min(), x.max())\n",
    "    ax.set_ylim(y.min(), y.max())\n",
    "    ax.set_title(title)\n",
    "    \n",
    "    return lc\n",
    "\n",
    "fig, (ax1, ax2) = plt.subplots(1, 2, figsize=(20, 10))\n",
    "\n",
    "lc1 = plot_data(ax1, nose, \"Before Interpolation\")\n",
    "lc2 = plot_data(ax2, nose2, \"After Interpolation\")\n",
    "\n",
    "cbar_ax = fig.add_axes([0.92, 0.15, 0.02, 0.7])\n",
    "cbar = fig.colorbar(lc2, cax=cbar_ax)\n",
    "cbar.set_label('Likelihood Value')\n",
    "\n",
    "plt.tight_layout()\n",
    "plt.show()\n"
   ]
  },
  {
   "cell_type": "code",
   "execution_count": null,
   "metadata": {},
   "outputs": [],
   "source": [
    "fig, (ax1, ax2) = plt.subplots(1, 2, figsize=(20, 10))\n",
    "lc1 = plot_data(ax1, nose, \"Before Interpolation\")\n",
    "lc2 = plot_data(ax2, nose2, \"After Interpolation\")"
   ]
  },
  {
   "cell_type": "markdown",
   "metadata": {},
   "source": [
    "## ROI Drawer\n",
    "\n",
    "Testing ROI Drawer"
   ]
  },
  {
   "cell_type": "code",
   "execution_count": 1,
   "metadata": {},
   "outputs": [],
   "source": [
    "from dlc.analysis.time_roi import ROIDrawer\n",
    "import pandas as pd"
   ]
  },
  {
   "cell_type": "code",
   "execution_count": 4,
   "metadata": {},
   "outputs": [
    {
     "name": "stderr",
     "output_type": "stream",
     "text": [
      "ERROR:root:An error occurred while drawing ROIs\n",
      "ERROR:root:Traceback (most recent call last):\n",
      "  File \"/Users/annateruel/phd_code/dlc/analysis/time_roi.py\", line 109, in draw_rois\n",
      "    return self.h5_file_path, frame_path\n",
      "NameError: name 'frame_path' is not defined\n",
      "\n"
     ]
    },
    {
     "name": "stdout",
     "output_type": "stream",
     "text": [
      "Button clicked, processing ROIs...\n",
      "ROI DataFrame saved to: /Users/annateruel/Desktop/7_WIN_20231010_094516_1_20231220_171659.h5\n",
      "Frame with ROIs saved to: /Users/annateruel/Desktop/7_WIN_20231010_094516_1_20231220_171659.png\n"
     ]
    }
   ],
   "source": [
    "video_path = '/Users/annateruel/Desktop/videos/7_WIN_20231010_094516_1.mp4'\n",
    "out_dir = '/Users/annateruel/Desktop/'\n",
    "roi_drawer = ROIDrawer(video_path, save_dir = out_dir, num_rois=2)\n",
    "r = roi_drawer.draw_rois()"
   ]
  },
  {
   "cell_type": "code",
   "execution_count": 3,
   "metadata": {},
   "outputs": [],
   "source": [
    "save_dir = '/Users/annateruel/Desktop/videos/'\n",
    "video_dir = '/Users/annateruel/Desktop/videos/'\n",
    "roi_drawer = ROIDrawer(video_path = None, save_dir=save_dir)\n",
    "roi_drawer.batch_processing(directory=video_dir, file_format='labeled.mp4')"
   ]
  },
  {
   "cell_type": "markdown",
   "metadata": {},
   "source": [
    "## Testing time in ROI\n",
    "\n",
    "1. Define ROIs"
   ]
  },
  {
   "cell_type": "code",
   "execution_count": null,
   "metadata": {},
   "outputs": [],
   "source": [
    "import dlc.analysis.time_roi as time_roi\n",
    "import pandas as pd\n",
    "r = pd.read_hdf('/Users/annateruel/Desktop/coord_poly.h5')\n",
    "roi_groups = r.groupby(['index', 'shape-type'])\n",
    "\n",
    "polygons, _ = time_roi.PolygonROI.extract_polygons(roi_groups)"
   ]
  },
  {
   "cell_type": "markdown",
   "metadata": {},
   "source": [
    "2. Get time (s) in each ROI for a given dataframe"
   ]
  },
  {
   "cell_type": "code",
   "execution_count": 2,
   "metadata": {},
   "outputs": [],
   "source": [
    "time_in_roi = time_roi.TimeinRoi()\n",
    "for poly in polygons:\n",
    "    time_in_roi.add_roi(poly)"
   ]
  },
  {
   "cell_type": "code",
   "execution_count": 3,
   "metadata": {},
   "outputs": [],
   "source": [
    "file_path = '/Users/annateruel/Desktop/videos/7_WIN_20231010_094516_1DLC_resnet50_capsaicin_malesOct20shuffle1_200000_filtered.h5'\n",
    "directory = '/Users/annateruel/Desktop/videos/'"
   ]
  },
  {
   "cell_type": "code",
   "execution_count": 4,
   "metadata": {},
   "outputs": [],
   "source": [
    "scorer = 'DLC_resnet50_capsaicin_malesOct20shuffle1_200000'\n",
    "bodypart = 'Neck'\n",
    "\n",
    "#tracking_data = time_in_roi.extract_tracking_data(file_path, scorer, bodypart)"
   ]
  },
  {
   "cell_type": "code",
   "execution_count": 5,
   "metadata": {},
   "outputs": [],
   "source": [
    "time_spent = time_in_roi.time_in_rois_dir(directory, scorer, bodypart)"
   ]
  },
  {
   "cell_type": "code",
   "execution_count": 6,
   "metadata": {},
   "outputs": [
    {
     "data": {
      "text/html": [
       "<div>\n",
       "<style scoped>\n",
       "    .dataframe tbody tr th:only-of-type {\n",
       "        vertical-align: middle;\n",
       "    }\n",
       "\n",
       "    .dataframe tbody tr th {\n",
       "        vertical-align: top;\n",
       "    }\n",
       "\n",
       "    .dataframe thead th {\n",
       "        text-align: right;\n",
       "    }\n",
       "</style>\n",
       "<table border=\"1\" class=\"dataframe\">\n",
       "  <thead>\n",
       "    <tr style=\"text-align: right;\">\n",
       "      <th></th>\n",
       "      <th>file</th>\n",
       "      <th>roi_index</th>\n",
       "      <th>time_in_roi</th>\n",
       "    </tr>\n",
       "  </thead>\n",
       "  <tbody>\n",
       "    <tr>\n",
       "      <th>0</th>\n",
       "      <td>42_WIN_20231010_112657_1DLC_resnet50_capsaicin...</td>\n",
       "      <td>0</td>\n",
       "      <td>0</td>\n",
       "    </tr>\n",
       "    <tr>\n",
       "      <th>1</th>\n",
       "      <td>42_WIN_20231010_112657_1DLC_resnet50_capsaicin...</td>\n",
       "      <td>1</td>\n",
       "      <td>220</td>\n",
       "    </tr>\n",
       "    <tr>\n",
       "      <th>2</th>\n",
       "      <td>42_WIN_20231010_112657_1DLC_resnet50_capsaicin...</td>\n",
       "      <td>2</td>\n",
       "      <td>315</td>\n",
       "    </tr>\n",
       "    <tr>\n",
       "      <th>3</th>\n",
       "      <td>42_WIN_20231010_112657_1DLC_resnet50_capsaicin...</td>\n",
       "      <td>3</td>\n",
       "      <td>3123</td>\n",
       "    </tr>\n",
       "    <tr>\n",
       "      <th>4</th>\n",
       "      <td>73_WIN_20231117_102609DLC_resnet50_capsaicin_m...</td>\n",
       "      <td>0</td>\n",
       "      <td>0</td>\n",
       "    </tr>\n",
       "    <tr>\n",
       "      <th>...</th>\n",
       "      <td>...</td>\n",
       "      <td>...</td>\n",
       "      <td>...</td>\n",
       "    </tr>\n",
       "    <tr>\n",
       "      <th>83</th>\n",
       "      <td>57_WIN_20231010_093126_1DLC_resnet50_capsaicin...</td>\n",
       "      <td>3</td>\n",
       "      <td>1693</td>\n",
       "    </tr>\n",
       "    <tr>\n",
       "      <th>84</th>\n",
       "      <td>8_WIN_20231117_100458DLC_resnet50_capsaicin_ma...</td>\n",
       "      <td>0</td>\n",
       "      <td>0</td>\n",
       "    </tr>\n",
       "    <tr>\n",
       "      <th>85</th>\n",
       "      <td>8_WIN_20231117_100458DLC_resnet50_capsaicin_ma...</td>\n",
       "      <td>1</td>\n",
       "      <td>1</td>\n",
       "    </tr>\n",
       "    <tr>\n",
       "      <th>86</th>\n",
       "      <td>8_WIN_20231117_100458DLC_resnet50_capsaicin_ma...</td>\n",
       "      <td>2</td>\n",
       "      <td>565</td>\n",
       "    </tr>\n",
       "    <tr>\n",
       "      <th>87</th>\n",
       "      <td>8_WIN_20231117_100458DLC_resnet50_capsaicin_ma...</td>\n",
       "      <td>3</td>\n",
       "      <td>0</td>\n",
       "    </tr>\n",
       "  </tbody>\n",
       "</table>\n",
       "<p>88 rows × 3 columns</p>\n",
       "</div>"
      ],
      "text/plain": [
       "                                                 file  roi_index  time_in_roi\n",
       "0   42_WIN_20231010_112657_1DLC_resnet50_capsaicin...          0            0\n",
       "1   42_WIN_20231010_112657_1DLC_resnet50_capsaicin...          1          220\n",
       "2   42_WIN_20231010_112657_1DLC_resnet50_capsaicin...          2          315\n",
       "3   42_WIN_20231010_112657_1DLC_resnet50_capsaicin...          3         3123\n",
       "4   73_WIN_20231117_102609DLC_resnet50_capsaicin_m...          0            0\n",
       "..                                                ...        ...          ...\n",
       "83  57_WIN_20231010_093126_1DLC_resnet50_capsaicin...          3         1693\n",
       "84  8_WIN_20231117_100458DLC_resnet50_capsaicin_ma...          0            0\n",
       "85  8_WIN_20231117_100458DLC_resnet50_capsaicin_ma...          1            1\n",
       "86  8_WIN_20231117_100458DLC_resnet50_capsaicin_ma...          2          565\n",
       "87  8_WIN_20231117_100458DLC_resnet50_capsaicin_ma...          3            0\n",
       "\n",
       "[88 rows x 3 columns]"
      ]
     },
     "execution_count": 6,
     "metadata": {},
     "output_type": "execute_result"
    }
   ],
   "source": [
    "time_spent"
   ]
  },
  {
   "cell_type": "code",
   "execution_count": 10,
   "metadata": {},
   "outputs": [
    {
     "data": {
      "text/html": [
       "<div>\n",
       "<style scoped>\n",
       "    .dataframe tbody tr th:only-of-type {\n",
       "        vertical-align: middle;\n",
       "    }\n",
       "\n",
       "    .dataframe tbody tr th {\n",
       "        vertical-align: top;\n",
       "    }\n",
       "\n",
       "    .dataframe thead tr th {\n",
       "        text-align: left;\n",
       "    }\n",
       "</style>\n",
       "<table border=\"1\" class=\"dataframe\">\n",
       "  <thead>\n",
       "    <tr>\n",
       "      <th>scorer</th>\n",
       "      <th colspan=\"21\" halign=\"left\">DLC_resnet50_capsaicin_malesOct20shuffle1_200000</th>\n",
       "    </tr>\n",
       "    <tr>\n",
       "      <th>bodyparts</th>\n",
       "      <th colspan=\"3\" halign=\"left\">Nose</th>\n",
       "      <th colspan=\"3\" halign=\"left\">Ear_left</th>\n",
       "      <th colspan=\"3\" halign=\"left\">Ear_right</th>\n",
       "      <th colspan=\"3\" halign=\"left\">Neck</th>\n",
       "      <th colspan=\"3\" halign=\"left\">Spine_1</th>\n",
       "      <th colspan=\"3\" halign=\"left\">Spine_2</th>\n",
       "      <th colspan=\"3\" halign=\"left\">Base_tail</th>\n",
       "    </tr>\n",
       "    <tr>\n",
       "      <th>coords</th>\n",
       "      <th>x</th>\n",
       "      <th>y</th>\n",
       "      <th>likelihood</th>\n",
       "      <th>x</th>\n",
       "      <th>y</th>\n",
       "      <th>likelihood</th>\n",
       "      <th>x</th>\n",
       "      <th>y</th>\n",
       "      <th>likelihood</th>\n",
       "      <th>x</th>\n",
       "      <th>...</th>\n",
       "      <th>likelihood</th>\n",
       "      <th>x</th>\n",
       "      <th>y</th>\n",
       "      <th>likelihood</th>\n",
       "      <th>x</th>\n",
       "      <th>y</th>\n",
       "      <th>likelihood</th>\n",
       "      <th>x</th>\n",
       "      <th>y</th>\n",
       "      <th>likelihood</th>\n",
       "    </tr>\n",
       "  </thead>\n",
       "  <tbody>\n",
       "    <tr>\n",
       "      <th>0</th>\n",
       "      <td>366.328339</td>\n",
       "      <td>428.636353</td>\n",
       "      <td>0.840062</td>\n",
       "      <td>375.823853</td>\n",
       "      <td>426.417389</td>\n",
       "      <td>0.998564</td>\n",
       "      <td>361.153931</td>\n",
       "      <td>422.438995</td>\n",
       "      <td>0.999727</td>\n",
       "      <td>368.837433</td>\n",
       "      <td>...</td>\n",
       "      <td>0.999749</td>\n",
       "      <td>369.228973</td>\n",
       "      <td>404.943512</td>\n",
       "      <td>0.999802</td>\n",
       "      <td>366.294342</td>\n",
       "      <td>389.338989</td>\n",
       "      <td>0.999918</td>\n",
       "      <td>367.301361</td>\n",
       "      <td>378.338623</td>\n",
       "      <td>0.999945</td>\n",
       "    </tr>\n",
       "    <tr>\n",
       "      <th>1</th>\n",
       "      <td>366.287106</td>\n",
       "      <td>428.580673</td>\n",
       "      <td>0.849857</td>\n",
       "      <td>375.823823</td>\n",
       "      <td>426.275109</td>\n",
       "      <td>0.998079</td>\n",
       "      <td>361.143226</td>\n",
       "      <td>422.330315</td>\n",
       "      <td>0.999383</td>\n",
       "      <td>368.818177</td>\n",
       "      <td>...</td>\n",
       "      <td>0.999438</td>\n",
       "      <td>369.210896</td>\n",
       "      <td>404.933059</td>\n",
       "      <td>0.999598</td>\n",
       "      <td>366.259083</td>\n",
       "      <td>389.308734</td>\n",
       "      <td>0.999868</td>\n",
       "      <td>367.297690</td>\n",
       "      <td>378.224495</td>\n",
       "      <td>0.999916</td>\n",
       "    </tr>\n",
       "    <tr>\n",
       "      <th>2</th>\n",
       "      <td>366.489343</td>\n",
       "      <td>429.014635</td>\n",
       "      <td>0.806229</td>\n",
       "      <td>375.798223</td>\n",
       "      <td>422.421831</td>\n",
       "      <td>0.999098</td>\n",
       "      <td>363.422194</td>\n",
       "      <td>421.831344</td>\n",
       "      <td>0.999529</td>\n",
       "      <td>369.204875</td>\n",
       "      <td>...</td>\n",
       "      <td>0.999498</td>\n",
       "      <td>369.450111</td>\n",
       "      <td>404.730961</td>\n",
       "      <td>0.999716</td>\n",
       "      <td>367.223822</td>\n",
       "      <td>389.387803</td>\n",
       "      <td>0.999874</td>\n",
       "      <td>367.511062</td>\n",
       "      <td>378.575128</td>\n",
       "      <td>0.999945</td>\n",
       "    </tr>\n",
       "    <tr>\n",
       "      <th>3</th>\n",
       "      <td>367.936515</td>\n",
       "      <td>430.618056</td>\n",
       "      <td>0.786909</td>\n",
       "      <td>376.388900</td>\n",
       "      <td>421.822635</td>\n",
       "      <td>0.999189</td>\n",
       "      <td>362.376729</td>\n",
       "      <td>424.157720</td>\n",
       "      <td>0.999529</td>\n",
       "      <td>369.281633</td>\n",
       "      <td>...</td>\n",
       "      <td>0.999542</td>\n",
       "      <td>369.196936</td>\n",
       "      <td>406.245084</td>\n",
       "      <td>0.999827</td>\n",
       "      <td>366.870639</td>\n",
       "      <td>390.867344</td>\n",
       "      <td>0.999874</td>\n",
       "      <td>367.613768</td>\n",
       "      <td>379.026191</td>\n",
       "      <td>0.999961</td>\n",
       "    </tr>\n",
       "    <tr>\n",
       "      <th>4</th>\n",
       "      <td>368.409275</td>\n",
       "      <td>431.674520</td>\n",
       "      <td>0.855027</td>\n",
       "      <td>376.710931</td>\n",
       "      <td>422.414322</td>\n",
       "      <td>0.999442</td>\n",
       "      <td>361.671340</td>\n",
       "      <td>424.811275</td>\n",
       "      <td>0.999573</td>\n",
       "      <td>369.347102</td>\n",
       "      <td>...</td>\n",
       "      <td>0.999600</td>\n",
       "      <td>369.449953</td>\n",
       "      <td>406.836850</td>\n",
       "      <td>0.999734</td>\n",
       "      <td>366.281594</td>\n",
       "      <td>392.175492</td>\n",
       "      <td>0.999845</td>\n",
       "      <td>367.143096</td>\n",
       "      <td>380.113182</td>\n",
       "      <td>0.999958</td>\n",
       "    </tr>\n",
       "    <tr>\n",
       "      <th>...</th>\n",
       "      <td>...</td>\n",
       "      <td>...</td>\n",
       "      <td>...</td>\n",
       "      <td>...</td>\n",
       "      <td>...</td>\n",
       "      <td>...</td>\n",
       "      <td>...</td>\n",
       "      <td>...</td>\n",
       "      <td>...</td>\n",
       "      <td>...</td>\n",
       "      <td>...</td>\n",
       "      <td>...</td>\n",
       "      <td>...</td>\n",
       "      <td>...</td>\n",
       "      <td>...</td>\n",
       "      <td>...</td>\n",
       "      <td>...</td>\n",
       "      <td>...</td>\n",
       "      <td>...</td>\n",
       "      <td>...</td>\n",
       "      <td>...</td>\n",
       "    </tr>\n",
       "    <tr>\n",
       "      <th>17990</th>\n",
       "      <td>384.850441</td>\n",
       "      <td>327.976451</td>\n",
       "      <td>0.999871</td>\n",
       "      <td>381.565254</td>\n",
       "      <td>320.432923</td>\n",
       "      <td>0.999967</td>\n",
       "      <td>373.113982</td>\n",
       "      <td>325.332151</td>\n",
       "      <td>0.999988</td>\n",
       "      <td>375.578669</td>\n",
       "      <td>...</td>\n",
       "      <td>0.999981</td>\n",
       "      <td>371.728620</td>\n",
       "      <td>311.468407</td>\n",
       "      <td>0.999994</td>\n",
       "      <td>363.029934</td>\n",
       "      <td>298.015765</td>\n",
       "      <td>0.999961</td>\n",
       "      <td>362.391790</td>\n",
       "      <td>289.129450</td>\n",
       "      <td>0.999967</td>\n",
       "    </tr>\n",
       "    <tr>\n",
       "      <th>17991</th>\n",
       "      <td>385.054334</td>\n",
       "      <td>327.104269</td>\n",
       "      <td>0.999829</td>\n",
       "      <td>381.517484</td>\n",
       "      <td>320.270205</td>\n",
       "      <td>0.999958</td>\n",
       "      <td>373.084709</td>\n",
       "      <td>324.835066</td>\n",
       "      <td>0.999984</td>\n",
       "      <td>375.282893</td>\n",
       "      <td>...</td>\n",
       "      <td>0.999978</td>\n",
       "      <td>371.047415</td>\n",
       "      <td>310.812587</td>\n",
       "      <td>0.999994</td>\n",
       "      <td>365.393977</td>\n",
       "      <td>297.844108</td>\n",
       "      <td>0.999956</td>\n",
       "      <td>362.441711</td>\n",
       "      <td>288.735387</td>\n",
       "      <td>0.999966</td>\n",
       "    </tr>\n",
       "    <tr>\n",
       "      <th>17992</th>\n",
       "      <td>385.133755</td>\n",
       "      <td>326.554367</td>\n",
       "      <td>0.999810</td>\n",
       "      <td>381.499523</td>\n",
       "      <td>320.069990</td>\n",
       "      <td>0.999963</td>\n",
       "      <td>373.221653</td>\n",
       "      <td>324.392853</td>\n",
       "      <td>0.999980</td>\n",
       "      <td>375.547917</td>\n",
       "      <td>...</td>\n",
       "      <td>0.999979</td>\n",
       "      <td>371.485638</td>\n",
       "      <td>310.425374</td>\n",
       "      <td>0.999993</td>\n",
       "      <td>363.153509</td>\n",
       "      <td>297.530074</td>\n",
       "      <td>0.999950</td>\n",
       "      <td>362.548942</td>\n",
       "      <td>288.642710</td>\n",
       "      <td>0.999967</td>\n",
       "    </tr>\n",
       "    <tr>\n",
       "      <th>17993</th>\n",
       "      <td>385.167561</td>\n",
       "      <td>326.437755</td>\n",
       "      <td>0.999856</td>\n",
       "      <td>381.056071</td>\n",
       "      <td>320.535240</td>\n",
       "      <td>0.999976</td>\n",
       "      <td>373.236630</td>\n",
       "      <td>325.109538</td>\n",
       "      <td>0.999985</td>\n",
       "      <td>375.143836</td>\n",
       "      <td>...</td>\n",
       "      <td>0.999985</td>\n",
       "      <td>370.860187</td>\n",
       "      <td>310.727414</td>\n",
       "      <td>0.999996</td>\n",
       "      <td>362.876867</td>\n",
       "      <td>297.438216</td>\n",
       "      <td>0.999959</td>\n",
       "      <td>362.468085</td>\n",
       "      <td>288.684653</td>\n",
       "      <td>0.999962</td>\n",
       "    </tr>\n",
       "    <tr>\n",
       "      <th>17994</th>\n",
       "      <td>385.480187</td>\n",
       "      <td>326.545639</td>\n",
       "      <td>0.999846</td>\n",
       "      <td>380.631645</td>\n",
       "      <td>320.740594</td>\n",
       "      <td>0.999965</td>\n",
       "      <td>373.510338</td>\n",
       "      <td>325.276587</td>\n",
       "      <td>0.999984</td>\n",
       "      <td>375.055042</td>\n",
       "      <td>...</td>\n",
       "      <td>0.999982</td>\n",
       "      <td>370.703247</td>\n",
       "      <td>311.401611</td>\n",
       "      <td>0.999995</td>\n",
       "      <td>363.309096</td>\n",
       "      <td>297.187773</td>\n",
       "      <td>0.999956</td>\n",
       "      <td>362.510934</td>\n",
       "      <td>288.659494</td>\n",
       "      <td>0.999960</td>\n",
       "    </tr>\n",
       "  </tbody>\n",
       "</table>\n",
       "<p>17995 rows × 21 columns</p>\n",
       "</div>"
      ],
      "text/plain": [
       "scorer    DLC_resnet50_capsaicin_malesOct20shuffle1_200000              \\\n",
       "bodyparts                                             Nose               \n",
       "coords                                                   x           y   \n",
       "0                                               366.328339  428.636353   \n",
       "1                                               366.287106  428.580673   \n",
       "2                                               366.489343  429.014635   \n",
       "3                                               367.936515  430.618056   \n",
       "4                                               368.409275  431.674520   \n",
       "...                                                    ...         ...   \n",
       "17990                                           384.850441  327.976451   \n",
       "17991                                           385.054334  327.104269   \n",
       "17992                                           385.133755  326.554367   \n",
       "17993                                           385.167561  326.437755   \n",
       "17994                                           385.480187  326.545639   \n",
       "\n",
       "scorer                                                               \\\n",
       "bodyparts               Ear_left                          Ear_right   \n",
       "coords    likelihood           x           y likelihood           x   \n",
       "0           0.840062  375.823853  426.417389   0.998564  361.153931   \n",
       "1           0.849857  375.823823  426.275109   0.998079  361.143226   \n",
       "2           0.806229  375.798223  422.421831   0.999098  363.422194   \n",
       "3           0.786909  376.388900  421.822635   0.999189  362.376729   \n",
       "4           0.855027  376.710931  422.414322   0.999442  361.671340   \n",
       "...              ...         ...         ...        ...         ...   \n",
       "17990       0.999871  381.565254  320.432923   0.999967  373.113982   \n",
       "17991       0.999829  381.517484  320.270205   0.999958  373.084709   \n",
       "17992       0.999810  381.499523  320.069990   0.999963  373.221653   \n",
       "17993       0.999856  381.056071  320.535240   0.999976  373.236630   \n",
       "17994       0.999846  380.631645  320.740594   0.999965  373.510338   \n",
       "\n",
       "scorer                                        ...                         \\\n",
       "bodyparts                               Neck  ...                Spine_1   \n",
       "coords              y likelihood           x  ... likelihood           x   \n",
       "0          422.438995   0.999727  368.837433  ...   0.999749  369.228973   \n",
       "1          422.330315   0.999383  368.818177  ...   0.999438  369.210896   \n",
       "2          421.831344   0.999529  369.204875  ...   0.999498  369.450111   \n",
       "3          424.157720   0.999529  369.281633  ...   0.999542  369.196936   \n",
       "4          424.811275   0.999573  369.347102  ...   0.999600  369.449953   \n",
       "...               ...        ...         ...  ...        ...         ...   \n",
       "17990      325.332151   0.999988  375.578669  ...   0.999981  371.728620   \n",
       "17991      324.835066   0.999984  375.282893  ...   0.999978  371.047415   \n",
       "17992      324.392853   0.999980  375.547917  ...   0.999979  371.485638   \n",
       "17993      325.109538   0.999985  375.143836  ...   0.999985  370.860187   \n",
       "17994      325.276587   0.999984  375.055042  ...   0.999982  370.703247   \n",
       "\n",
       "scorer                                                               \\\n",
       "bodyparts                            Spine_2                          \n",
       "coords              y likelihood           x           y likelihood   \n",
       "0          404.943512   0.999802  366.294342  389.338989   0.999918   \n",
       "1          404.933059   0.999598  366.259083  389.308734   0.999868   \n",
       "2          404.730961   0.999716  367.223822  389.387803   0.999874   \n",
       "3          406.245084   0.999827  366.870639  390.867344   0.999874   \n",
       "4          406.836850   0.999734  366.281594  392.175492   0.999845   \n",
       "...               ...        ...         ...         ...        ...   \n",
       "17990      311.468407   0.999994  363.029934  298.015765   0.999961   \n",
       "17991      310.812587   0.999994  365.393977  297.844108   0.999956   \n",
       "17992      310.425374   0.999993  363.153509  297.530074   0.999950   \n",
       "17993      310.727414   0.999996  362.876867  297.438216   0.999959   \n",
       "17994      311.401611   0.999995  363.309096  297.187773   0.999956   \n",
       "\n",
       "scorer                                        \n",
       "bodyparts   Base_tail                         \n",
       "coords              x           y likelihood  \n",
       "0          367.301361  378.338623   0.999945  \n",
       "1          367.297690  378.224495   0.999916  \n",
       "2          367.511062  378.575128   0.999945  \n",
       "3          367.613768  379.026191   0.999961  \n",
       "4          367.143096  380.113182   0.999958  \n",
       "...               ...         ...        ...  \n",
       "17990      362.391790  289.129450   0.999967  \n",
       "17991      362.441711  288.735387   0.999966  \n",
       "17992      362.548942  288.642710   0.999967  \n",
       "17993      362.468085  288.684653   0.999962  \n",
       "17994      362.510934  288.659494   0.999960  \n",
       "\n",
       "[17995 rows x 21 columns]"
      ]
     },
     "execution_count": 10,
     "metadata": {},
     "output_type": "execute_result"
    }
   ],
   "source": [
    "dlc_df"
   ]
  },
  {
   "cell_type": "markdown",
   "metadata": {},
   "source": [
    "## TRIALS\n",
    "\n",
    "Testing some functions here: "
   ]
  },
  {
   "cell_type": "code",
   "execution_count": 5,
   "metadata": {},
   "outputs": [],
   "source": [
    "import dlc"
   ]
  },
  {
   "cell_type": "code",
   "execution_count": 6,
   "metadata": {},
   "outputs": [],
   "source": [
    "bodyparts = ['nose', 'rightear', 'leftear', 'head']\n",
    "file_path = '/Users/annateruel/sr-ca2+img-anna-2023-11-17/videos/AD22-56-neutro2-1DLC_dlcrnetms5_sr-ca2+imgNov17shuffle1_500000_filtered.h5'\n",
    "title = 'Demo Plot'\n",
    "path = '/Users/annateruel/sr-ca2+img-anna-2023-11-17/videos/'  "
   ]
  },
  {
   "cell_type": "code",
   "execution_count": 9,
   "metadata": {},
   "outputs": [],
   "source": [
    "density_plot = dlc.plotting.TrackingPlot(style='light')\n"
   ]
  },
  {
   "cell_type": "code",
   "execution_count": null,
   "metadata": {},
   "outputs": [],
   "source": [
    "density_plot.plot_directory(path, bodyparts, title)\n"
   ]
  },
  {
   "cell_type": "markdown",
   "metadata": {},
   "source": [
    "## Video clustering for labelling\n",
    "\n",
    "I want to create a function that can analyze a set of videos, perform a form of dimensionality reduction or clustering on them, and then identify which videos are most distinct from each other. This process will involve comparing videos based on the similarity of their pixel values, possibly in grayscale, to group similar videos into clusters. From each cluster, you can then select one representative video for labeling in your DeepLabCut model.\n",
    "\n",
    "This is a test code to do that. "
   ]
  },
  {
   "cell_type": "code",
   "execution_count": 11,
   "metadata": {},
   "outputs": [],
   "source": [
    "import cv2\n",
    "import numpy as np\n",
    "import os\n",
    "from sklearn.decomposition import PCA\n",
    "from sklearn.cluster import KMeans\n",
    "from scipy.spatial.distance import cdist\n",
    "import matplotlib.pyplot as plt"
   ]
  },
  {
   "cell_type": "code",
   "execution_count": 12,
   "metadata": {},
   "outputs": [],
   "source": [
    "def load_and_preprocess_video(video_path, frame_count=100):\n",
    "    \"\"\"\n",
    "    This function takes a video path and extracts a fixed number of frames, converts them to grayscale, resizes, and flattens them.\n",
    "    \"\"\"    \n",
    "    cap = cv2.VideoCapture(video_path)\n",
    "    frames = []\n",
    "    try:\n",
    "        while True:\n",
    "            ret, frame = cap.read()\n",
    "            if not ret:\n",
    "                break\n",
    "            gray_frame = cv2.cvtColor(frame, cv2.COLOR_BGR2GRAY)\n",
    "            gray_frame = cv2.resize(gray_frame, (100, 100))  # Resize for consistency\n",
    "            frames.append(gray_frame.flatten())\n",
    "            if len(frames) == frame_count:\n",
    "                break\n",
    "    finally:\n",
    "        cap.release()\n",
    "    return np.array(frames)"
   ]
  },
  {
   "cell_type": "markdown",
   "metadata": {},
   "source": [
    " The function load_and_preprocess_video you have is designed to process a single video. To create the video_features array that is needed for the rest of the PCA and clustering steps, you will need to call this function on each video in your directory and then average the frames to get a single feature vector for each video.\n",
    "\n",
    "Here's how you can create a function to load and preprocess features for all videos in a directory, using your existing function:"
   ]
  },
  {
   "cell_type": "code",
   "execution_count": 13,
   "metadata": {},
   "outputs": [],
   "source": [
    "def load_video_features_from_directory(video_directory, frame_count=100):\n",
    "    \"\"\"\n",
    "    Loads and preprocesses video features for all videos in a directory.\n",
    "    \n",
    "    :param video_directory: The path to the directory containing the videos.\n",
    "    :param frame_count: The number of frames to extract from each video.\n",
    "    :return: A tuple of an array of video features and a list of video paths.\n",
    "    \"\"\"\n",
    "    video_paths = [os.path.join(video_directory, f) for f in os.listdir(video_directory) if f.endswith('.mp4')]\n",
    "    video_features = []\n",
    "\n",
    "    for video_path in video_paths:\n",
    "        # Use the provided function to load and preprocess the video\n",
    "        preprocessed_frames = load_and_preprocess_video(video_path, frame_count)\n",
    "        # Calculate the mean across all frames to get a single feature vector per video\n",
    "        video_feature = np.mean(preprocessed_frames, axis=0)\n",
    "        video_features.append(video_feature)\n",
    "\n",
    "    return np.array(video_features), video_paths\n"
   ]
  },
  {
   "cell_type": "code",
   "execution_count": 18,
   "metadata": {},
   "outputs": [],
   "source": [
    "video_directory = \"/Users/annateruel/sdt_videos/\"\n",
    "video_features, video_paths = load_video_features_from_directory(video_directory)"
   ]
  },
  {
   "cell_type": "markdown",
   "metadata": {},
   "source": [
    "The choice of setting the number of clusters to 5 was arbitrary and provided as a starting point for the example. In practice, the optimal number of clusters depends on the specific characteristics and distribution of your data.\n",
    "\n",
    "To determine the most appropriate number of clusters, you can use several methods:\n",
    "\n",
    "1. *Elbow Method*: Plot the sum of squared distances of samples to their closest cluster center for a range of number of clusters. Look for the “elbow” where the rate of decrease sharply changes, which can be considered an indicator of the optimal number of clusters.\n",
    "2. *Silhouette Score*: Calculate the mean silhouette coefficient over all samples. This gives a perspective into the density and separation of the formed clusters. The silhouette score ranges from -1 to 1, where a high value indicates that the object is well matched to its own cluster and poorly matched to neighboring clusters.\n",
    "3. *Gap Statistic*: Compares the total within intra-cluster variation for different values of k with their expected values under null reference distribution of the data. The optimal k is the one that maximizes the gap statistic.\n",
    "4. *Domain Knowledge*: Sometimes the optimal number of clusters is suggested by the context of the problem or domain expertise.\n",
    "\n",
    "Determining the best number of clusters for a dataset without domain knowledge can be challenging because it often depends on the context of the data and the goal of the clustering. However, there are several statistical methods that can help you decide. I will outline two of the most commonly used methods:\n",
    "\n",
    "1. **The elbow method**: This method involves plotting the explained variance as a function of the number of clusters, and picking the elbow of the curve as the number of clusters to use. The idea is to choose a small value of k that still has a low sum of squared distances (inertia).\n",
    "\n",
    "2. **The shilhouette method**: The silhouette value measures how similar an object is to its own cluster (cohesion) compared to other clusters (separation). The silhouette ranges from -1 to +1, where a high value indicates that the object is well matched to its own cluster and poorly matched to neighboring clusters. If many points have a high value, the clustering configuration is appropriate. If many points have a low or negative value, the clustering configuration may have too many or too few clusters."
   ]
  },
  {
   "cell_type": "code",
   "execution_count": null,
   "metadata": {},
   "outputs": [],
   "source": [
    "from sklearn.metrics import silhouette_score\n",
    "import matplotlib.pyplot as plt\n",
    "\n",
    "# Function to calculate the Sum of Squared Distances (SSD) for different values of k\n",
    "def calculate_ssd_for_k(reduced_features, k_range):\n",
    "    ssd = []\n",
    "    for k in k_range:\n",
    "        kmeans = KMeans(n_clusters=k, random_state=42).fit(reduced_features)\n",
    "        ssd.append(kmeans.inertia_)\n",
    "    return ssd\n",
    "\n",
    "# Function to calculate silhouette scores for different values of k\n",
    "def calculate_silhouette_for_k(reduced_features, k_range):\n",
    "    silhouette_scores = []\n",
    "    for k in k_range:\n",
    "        kmeans = KMeans(n_clusters=k, random_state=42).fit(reduced_features)\n",
    "        score = silhouette_score(reduced_features, kmeans.labels_)\n",
    "        silhouette_scores.append(score)\n",
    "    return silhouette_scores\n",
    "\n",
    "# Define the range of k you want to test\n",
    "k_range = range(2, 11)\n",
    "\n",
    "# Calculate SSD and silhouette scores\n",
    "ssd = calculate_ssd_for_k(reduced_features, k_range)\n",
    "silhouette_scores = calculate_silhouette_for_k(reduced_features, k_range)\n",
    "\n",
    "# Plotting the Elbow Method\n",
    "plt.figure(figsize=(10, 5))\n",
    "plt.subplot(1, 2, 1)\n",
    "plt.plot(k_range, ssd, 'bx-')\n",
    "plt.xlabel('k')\n",
    "plt.ylabel('Sum of squared distances')\n",
    "plt.title('Elbow Method For Optimal k')\n",
    "\n",
    "# Plotting the Silhouette Method\n",
    "plt.subplot(1, 2, 2)\n",
    "plt.plot(k_range, silhouette_scores, 'bx-')\n",
    "plt.xlabel('k')\n",
    "plt.ylabel('Silhouette score')\n",
    "plt.title('Silhouette Method For Optimal k')\n",
    "plt.tight_layout()\n",
    "plt.show()\n"
   ]
  },
  {
   "cell_type": "code",
   "execution_count": 19,
   "metadata": {},
   "outputs": [
    {
     "name": "stderr",
     "output_type": "stream",
     "text": [
      "/Users/annateruel/miniconda3/envs/dlc_analysis/lib/python3.10/site-packages/sklearn/cluster/_kmeans.py:1412: FutureWarning:\n",
      "\n",
      "The default value of `n_init` will change from 10 to 'auto' in 1.4. Set the value of `n_init` explicitly to suppress the warning\n",
      "\n"
     ]
    },
    {
     "data": {
      "application/vnd.plotly.v1+json": {
       "config": {
        "plotlyServerURL": "https://plot.ly"
       },
       "data": [
        {
         "hoverinfo": "text",
         "hovertemplate": "PCA Component 1=%{x}<br>PCA Component 2=%{y}<br>PCA Component 3=%{z}<br>color=%{marker.color}<extra></extra>",
         "legendgroup": "",
         "marker": {
          "color": [
           1,
           0,
           7,
           7,
           14,
           10,
           2,
           4,
           1,
           11,
           13,
           14,
           7,
           3,
           9,
           1,
           8,
           7,
           10,
           1,
           8,
           3,
           7,
           0,
           10,
           2,
           5,
           11,
           0,
           14,
           12,
           0,
           1,
           5,
           1,
           2,
           1,
           12,
           4,
           1,
           8,
           6,
           1,
           2,
           10,
           1,
           9,
           0,
           2,
           1,
           4,
           0,
           11,
           13,
           14,
           3,
           3,
           4,
           14,
           1,
           1,
           7,
           8,
           5,
           10,
           6,
           5,
           0,
           9,
           1,
           7,
           1,
           11,
           5,
           10,
           3,
           7,
           9,
           10,
           10,
           7,
           2,
           3,
           1,
           9,
           11,
           2,
           10,
           2,
           12,
           7,
           12,
           0,
           7,
           9,
           1,
           3,
           13,
           7,
           1,
           13,
           1,
           8,
           13,
           4
          ],
          "coloraxis": "coloraxis",
          "size": 8,
          "symbol": "circle"
         },
         "mode": "markers",
         "name": "",
         "scene": "scene",
         "showlegend": false,
         "text": [
          "AD23-054_S1_bw_batch2.mp4",
          "AD23-081-S1_3_bw_batch1.mp4",
          "AD23-053-S2_3_bw_batch1.mp4",
          "AD23-101-S1_3_bw_batch1.mp4",
          "AD23-054_S5_bw_batch2.mp4",
          "AD22-128-S3_3_bw_batch1.mp4",
          "AD23-085-S2_3_bw_batch1.mp4",
          "AD23-081-S3_3__bw_batch1.mp4",
          "AD23-087_S1_bw_batch2.mp4",
          "AD23-100_S3_bw_batch2.mp4",
          "AD23-080-S3_3__bw_batch1.mp4",
          "AD23-087_S5_bw_batch2.mp4",
          "AD23-079-S1_3_bw_batch1.mp4",
          "AD23-086-S3_3__bw_batch1.mp4",
          "AD23-100_S4_bw_batch2.mp4",
          "AD23-087_S2_bw_batch2.mp4",
          "AD22-130-S2_3_bw_batch1.mp4",
          "AD22-129-S1_3_bw_batch1.mp4",
          "AD23-100-S3_3__bw_batch1.mp4",
          "AD23-054_S2_bw_batch2.mp4",
          "AD23-087_S3_2_bw_batch2.mp4",
          "AD23-086-S2_3_bw_batch1.mp4",
          "AD23-092-S1_3_bw_batch1.mp4",
          "AD23-054-S1_3_bw_batch1.mp4",
          "AD23-085-S3_3__bw_batch1.mp4",
          "AD23-050-S2_3_bw_batch1.mp4",
          "AD23-080-S2_3_bw_batch1.mp4",
          "AD23-092_S1_bw_batch2.mp4",
          "AD23-052-S1_3_bw_batch1.mp4",
          "AD23-055_S5_bw_batch2.mp4",
          "AD23-092_S5_bw_batch2.mp4",
          "AD23-084-S1_3_bw_batch1.mp4",
          "AD23-054_S4_2_bw_batch2.mp4",
          "AD23-100-S2_3_bw_batch1.mp4",
          "AD23-101_S3_2_bw_batch2.mp4",
          "AD23-055_S1_bw_batch2.mp4",
          "AD23-092_S4_2_bw_batch2.mp4",
          "AD23-086_S5_bw_batch2.mp4",
          "AD23-079-S3_3__bw_batch1.mp4",
          "AD23-101_S3_bw_batch2.mp4",
          "AD23-085_S3_bw_batch2.mp4",
          "AD23-87-S2_3_bw_batch1.mp4",
          "AD23-086_S1_bw_batch2.mp4",
          "AD23-086_S2_bw_batch2.mp4",
          "AD22-128-S2_3_bw_batch1.mp4",
          "AD23-101_S4_bw_batch2.mp4",
          "AD23-085_S4_bw_batch2.mp4",
          "AD23-087-S1_3_bw_batch1.mp4",
          "AD23-055-S2_3_bw_batch1.mp4",
          "AD23-092_S2_bw_batch2.mp4",
          "AD22-130-S3_3__bw_batch1.mp4",
          "AD23-051-S1_3_bw_batch1.mp4",
          "AD23-055_S2_bw_batch2.mp4",
          "AD22-130-S1_3_bw_batch1.mp4",
          "AD23-085_S5_bw_batch2.mp4",
          "AD23-084-S3_3_bw_batch1.mp4",
          "AD22-129-S2_3_bw_batch1.mp4",
          "AD23-054-S2_3_1_batch1.mp4",
          "AD23-101_S5_bw_batch2.mp4",
          "AD23-086_S3_bw_batch2.mp4",
          "AD23-085_S1_bw_batch2.mp4",
          "AD23-055-S3_3__bw_batch1.mp4",
          "AD23-101_S1_bw_batch2.mp4",
          "AD23-079-S2_3_bw_batch1.mp4",
          "AD23-050-S1_3_bw_batch1.mp4",
          "AD23-055_S3_bw_batch2.mp4",
          "AD23-092-S2_3_bw_batch1.mp4",
          "AD23-086-S1_3_bw_batch1.mp4",
          "AD23-100_S4_2_bw_batch2.mp4",
          "AD23-092_S3_bw_batch2.mp4",
          "AD23-085-S1_3_bw_batch1.mp4",
          "AD23-092_S4_bw_batch2.mp4",
          "AD23-100_S3_2_bw_batch2.mp4",
          "AD23-101-S2_3_bw_batch1.mp4",
          "AD23-051-S3_3__bw_batch1.mp4",
          "AD23-081-S2_3_bw_batch1.mp4",
          "AD23-053-S1_3_bw_batch1.mp4",
          "AD23-055_S4_bw_batch2.mp4",
          "AD23-050-S3_3__bw_batch1.mp4",
          "AD23-053-S3_3__bw_batch1.mp4",
          "AD23-087-S3_3_bw_batch1.mp4",
          "AD23-085_S2_bw_batch2.mp4",
          "AD23-052-S3_3__bw_batch1.mp4",
          "AD23-101_S2_bw_batch2.mp4",
          "AD23-086_S4_bw_batch2.mp4",
          "AD23-100_S1_bw_batch2.mp4",
          "AD23-101-S3_3_bw_batch1.mp4",
          "AD22-128-S1_3_bw_batch1.mp4",
          "AD23-087_S3_bw_batch2.mp4",
          "AD23-100_S5_bw_batch2.mp4",
          "AD23-051-S2_3_bw_batch1.mp4",
          "AD23-054_S3_bw_batch2.mp4",
          "AD23-055-S1_3_bw_batch1.mp4",
          "AD23-100-S1_3_bw_batch1.mp4",
          "AD23-086_S4_2_bw_batch2.mp4",
          "AD23-054_S4_bw_batch2.mp4",
          "AD23-084-S2_3_bw_batch1.mp4",
          "AD22-129-S3_3_bw_batch1.mp4",
          "AD23-080-S1_3_bw_batch1.mp4",
          "AD23-086_S3_1_bw_batch2.mp4",
          "AD23-052-S2_3_bw_batch1.mp4",
          "AD23-087_S4_bw_batch2.mp4",
          "AD23-100_S2_bw_batch2.mp4",
          "AD23-092-S3_3_bw_batch1.mp4",
          "AD23-054-S3_3_bw_batch1.mp4"
         ],
         "type": "scatter3d",
         "x": [
          5376.752748823752,
          -2537.079462360795,
          -1926.946756730366,
          -1663.6776779167537,
          6591.433766601307,
          -3089.901353059174,
          -481.9178784703933,
          -4580.930247057205,
          4542.571850183632,
          -4625.364279399827,
          -3244.2358919171,
          6734.747013986192,
          -1469.072320388057,
          -1708.1640844463116,
          2710.1313818779176,
          4697.788790637575,
          -964.6917775351196,
          -1285.444869153662,
          -4603.116308238724,
          4717.817453899894,
          -1550.6232630819432,
          -1415.1614411205765,
          -1419.0725476275309,
          -4843.127930678985,
          -2973.416769241281,
          152.19032557653026,
          1963.930774920341,
          -4073.4622680008424,
          -2817.965155366861,
          5916.150316312478,
          6988.949141463371,
          -2052.6201443554824,
          4785.272732557183,
          343.35610020111704,
          5368.560349488817,
          -354.05065683294987,
          5426.252102581415,
          6832.762342293843,
          -4328.882697153717,
          5120.29916990244,
          -412.93356268122733,
          -6783.839428218502,
          4444.044081924753,
          -362.3781516167533,
          -3699.1341734228986,
          5294.772022969203,
          3144.5416690450447,
          -3879.701432235351,
          -370.89313640206393,
          4943.237619636131,
          -4248.93195120294,
          -2869.5970186267837,
          -4241.868788391173,
          -2858.9806373106667,
          6572.801174384918,
          -1103.6224681089575,
          -2624.6483257165632,
          -5226.812463038203,
          6323.573680023059,
          5313.298218709046,
          4410.134169508319,
          -2370.9016663653792,
          -1460.1465713139185,
          1185.1771018774932,
          -3183.0954798304942,
          -7063.6507844015105,
          977.2007869114766,
          -3462.682000935804,
          2028.5160912611607,
          4928.828873093349,
          -1245.0195984392562,
          4901.2834546757185,
          -3806.4132648670693,
          784.4694622610955,
          -3316.5695276904453,
          -873.1425980313061,
          -2332.418103985683,
          2312.9377314484614,
          -4499.4330866310665,
          -3820.6296829093876,
          -528.5977628962812,
          -1211.9080553322337,
          -872.3681775997624,
          4819.566653273979,
          1039.2911224219547,
          -5041.301224436049,
          -1242.8106890550478,
          -3822.517506076877,
          -450.80059018662723,
          7542.0211398667,
          -1114.589219884747,
          6284.123279921652,
          -4629.213237342748,
          -1754.0543866811468,
          1754.7637483437559,
          4121.92983991171,
          -2355.646745667328,
          -1984.1743723982934,
          471.7586681961264,
          5012.463310616463,
          -3664.882447180801,
          4702.204275512323,
          -1874.0848128543807,
          -1981.826241363517,
          -4926.759385638792
         ],
         "y": [
          -594.5984013952109,
          -1162.2751907071415,
          -704.0395059333237,
          -1459.4443427491135,
          463.7036830033256,
          -585.2140889877188,
          807.8236593059133,
          -1695.2948750489647,
          -306.79160536627353,
          4851.098193410676,
          -2596.623343777452,
          18.85059840890823,
          -1046.5210460393698,
          -3671.407916859134,
          3601.220758477944,
          -854.8164517096765,
          5051.979979212979,
          -1904.7515078982262,
          -243.77077459719686,
          -644.9721464067459,
          4387.602257514306,
          -3383.13032314782,
          -932.7902428781515,
          -745.3003720172507,
          -396.4285468229258,
          2635.4457598348718,
          -4640.364945690202,
          4435.339200363351,
          -551.3543422444134,
          2063.186868553816,
          -667.770372589642,
          -1343.0082924708672,
          84.12170170770189,
          -3653.7776743892314,
          -371.97832333987,
          3083.357436262664,
          209.1391494351535,
          -406.594680800688,
          -1796.543364313982,
          -292.25992462216703,
          4026.649640682954,
          1124.2386260534088,
          -255.80046651830895,
          3339.6680490012186,
          -1019.102661570249,
          100.12759200668388,
          3275.5009788207885,
          338.1565670855411,
          1951.0772002817514,
          -333.0904590212709,
          -1510.7869280839393,
          -916.9502048047241,
          4592.994486083146,
          -3242.0072913115923,
          662.1961430445463,
          -3133.2833943500164,
          -3481.7534205883235,
          -390.36664610925277,
          906.3244653896563,
          -698.0878145925784,
          -714.9433313585888,
          -1115.2800061833032,
          4261.499584758916,
          -4958.411801887069,
          -872.3677845880158,
          771.8027001414929,
          -3981.2689200350387,
          -1783.139424125735,
          3482.4590583938575,
          -434.9879575716131,
          -1521.4682542650198,
          937.1174989573725,
          5214.614060393093,
          -2842.8670447790014,
          -273.25398689324436,
          -3805.5253934145185,
          -1162.0055885939169,
          5195.848604165498,
          -401.9302099428684,
          -566.8187422116682,
          -437.86891196665186,
          2148.1648175949235,
          -3633.4290083426235,
          -792.2068734043787,
          5644.032581485481,
          3602.2552732146587,
          2123.2317640464903,
          -1603.0413782574647,
          3525.8074331912594,
          -3462.5771923737307,
          692.0544217282423,
          -1852.217724733277,
          -358.9759970114803,
          -2397.891315649079,
          4962.86251786979,
          807.4278100808898,
          -2447.9532617895024,
          -1303.4637199122533,
          -2443.0453699032305,
          -502.0853433564112,
          -2865.5590140135396,
          1029.0296960482076,
          5520.486792430696,
          -772.2519236685846,
          -988.6102384573505
         ],
         "z": [
          69.81649700923971,
          3166.5688745593625,
          1984.4607093006834,
          3020.3643609196824,
          -248.60356799512596,
          -309.77483233343696,
          1198.3020745517877,
          -1660.860786803463,
          261.6454916607038,
          -1093.7337667621548,
          -1658.9580003268604,
          -219.00270105727625,
          1420.7108898406982,
          -2471.5969169602818,
          -841.245558705013,
          597.7026384270221,
          -438.8296370405381,
          2493.35368979736,
          950.1258280928428,
          374.7346866231669,
          -595.4370376118375,
          -3396.7641707579887,
          2456.418546037136,
          2257.8339645138353,
          751.6315901570018,
          458.13057335272043,
          -1965.5423175858814,
          -896.2306765929196,
          2596.786449204002,
          -881.2317614638804,
          -5.266571881469827,
          3496.7098981740774,
          808.5182672517019,
          -1440.9939187798668,
          335.472814282631,
          274.5974838644635,
          103.54729934438619,
          -81.38547930074968,
          -1121.6371126456604,
          322.8181902380762,
          -1144.0627317791175,
          109.72688030819343,
          189.9416414833527,
          261.4540918786065,
          1391.7901173793318,
          414.22563576093165,
          -910.9579993251866,
          2567.3940842959983,
          951.4026708301658,
          253.69424488377308,
          -352.87612158218934,
          3200.1782291849513,
          -540.1917433867995,
          -715.1628803255527,
          -397.83106691032987,
          -2190.2459092842,
          -2216.0735500357523,
          -1247.230687208826,
          -438.3870890449559,
          403.2101496341354,
          401.24492868728663,
          1690.031380275457,
          -80.69381285826579,
          -2386.9251820167306,
          834.2158930794137,
          -2425.2193107987223,
          -2423.3886488317175,
          4106.041198128136,
          -520.5416929514083,
          530.3198227407122,
          1853.6061468434866,
          -208.4976550942919,
          -1186.3117550417207,
          -802.1016144856078,
          753.5026020337799,
          -1491.2057505913538,
          2204.794748583156,
          -1615.073869397015,
          289.6151737228421,
          479.32103808377457,
          920.2681533883975,
          518.8807534276025,
          -3114.0414771303886,
          481.8410122894228,
          -1632.135379420407,
          -527.4371321011291,
          37.486287545991814,
          1044.4145734718882,
          -436.67413735516885,
          1017.8177164359673,
          1329.862790320984,
          649.3136027527092,
          3477.2724149419814,
          1226.7924597952672,
          -1295.24073585057,
          567.4913272315118,
          -3539.3939583557944,
          -620.8361598459609,
          1582.862743289436,
          381.7760858521518,
          -3298.568846855756,
          54.1401357321044,
          -1124.0108576098487,
          -3318.650413906779,
          -4049.1185675095426
         ]
        }
       ],
       "layout": {
        "coloraxis": {
         "colorbar": {
          "title": {
           "text": "color"
          }
         },
         "colorscale": [
          [
           0,
           "#0d0887"
          ],
          [
           0.1111111111111111,
           "#46039f"
          ],
          [
           0.2222222222222222,
           "#7201a8"
          ],
          [
           0.3333333333333333,
           "#9c179e"
          ],
          [
           0.4444444444444444,
           "#bd3786"
          ],
          [
           0.5555555555555556,
           "#d8576b"
          ],
          [
           0.6666666666666666,
           "#ed7953"
          ],
          [
           0.7777777777777778,
           "#fb9f3a"
          ],
          [
           0.8888888888888888,
           "#fdca26"
          ],
          [
           1,
           "#f0f921"
          ]
         ]
        },
        "legend": {
         "tracegroupgap": 0
        },
        "scene": {
         "domain": {
          "x": [
           0,
           1
          ],
          "y": [
           0,
           1
          ]
         },
         "xaxis": {
          "title": {
           "text": "PCA Component 1"
          }
         },
         "yaxis": {
          "title": {
           "text": "PCA Component 2"
          }
         },
         "zaxis": {
          "title": {
           "text": "PCA Component 3"
          }
         }
        },
        "template": {
         "data": {
          "bar": [
           {
            "error_x": {
             "color": "#2a3f5f"
            },
            "error_y": {
             "color": "#2a3f5f"
            },
            "marker": {
             "line": {
              "color": "#E5ECF6",
              "width": 0.5
             },
             "pattern": {
              "fillmode": "overlay",
              "size": 10,
              "solidity": 0.2
             }
            },
            "type": "bar"
           }
          ],
          "barpolar": [
           {
            "marker": {
             "line": {
              "color": "#E5ECF6",
              "width": 0.5
             },
             "pattern": {
              "fillmode": "overlay",
              "size": 10,
              "solidity": 0.2
             }
            },
            "type": "barpolar"
           }
          ],
          "carpet": [
           {
            "aaxis": {
             "endlinecolor": "#2a3f5f",
             "gridcolor": "white",
             "linecolor": "white",
             "minorgridcolor": "white",
             "startlinecolor": "#2a3f5f"
            },
            "baxis": {
             "endlinecolor": "#2a3f5f",
             "gridcolor": "white",
             "linecolor": "white",
             "minorgridcolor": "white",
             "startlinecolor": "#2a3f5f"
            },
            "type": "carpet"
           }
          ],
          "choropleth": [
           {
            "colorbar": {
             "outlinewidth": 0,
             "ticks": ""
            },
            "type": "choropleth"
           }
          ],
          "contour": [
           {
            "colorbar": {
             "outlinewidth": 0,
             "ticks": ""
            },
            "colorscale": [
             [
              0,
              "#0d0887"
             ],
             [
              0.1111111111111111,
              "#46039f"
             ],
             [
              0.2222222222222222,
              "#7201a8"
             ],
             [
              0.3333333333333333,
              "#9c179e"
             ],
             [
              0.4444444444444444,
              "#bd3786"
             ],
             [
              0.5555555555555556,
              "#d8576b"
             ],
             [
              0.6666666666666666,
              "#ed7953"
             ],
             [
              0.7777777777777778,
              "#fb9f3a"
             ],
             [
              0.8888888888888888,
              "#fdca26"
             ],
             [
              1,
              "#f0f921"
             ]
            ],
            "type": "contour"
           }
          ],
          "contourcarpet": [
           {
            "colorbar": {
             "outlinewidth": 0,
             "ticks": ""
            },
            "type": "contourcarpet"
           }
          ],
          "heatmap": [
           {
            "colorbar": {
             "outlinewidth": 0,
             "ticks": ""
            },
            "colorscale": [
             [
              0,
              "#0d0887"
             ],
             [
              0.1111111111111111,
              "#46039f"
             ],
             [
              0.2222222222222222,
              "#7201a8"
             ],
             [
              0.3333333333333333,
              "#9c179e"
             ],
             [
              0.4444444444444444,
              "#bd3786"
             ],
             [
              0.5555555555555556,
              "#d8576b"
             ],
             [
              0.6666666666666666,
              "#ed7953"
             ],
             [
              0.7777777777777778,
              "#fb9f3a"
             ],
             [
              0.8888888888888888,
              "#fdca26"
             ],
             [
              1,
              "#f0f921"
             ]
            ],
            "type": "heatmap"
           }
          ],
          "heatmapgl": [
           {
            "colorbar": {
             "outlinewidth": 0,
             "ticks": ""
            },
            "colorscale": [
             [
              0,
              "#0d0887"
             ],
             [
              0.1111111111111111,
              "#46039f"
             ],
             [
              0.2222222222222222,
              "#7201a8"
             ],
             [
              0.3333333333333333,
              "#9c179e"
             ],
             [
              0.4444444444444444,
              "#bd3786"
             ],
             [
              0.5555555555555556,
              "#d8576b"
             ],
             [
              0.6666666666666666,
              "#ed7953"
             ],
             [
              0.7777777777777778,
              "#fb9f3a"
             ],
             [
              0.8888888888888888,
              "#fdca26"
             ],
             [
              1,
              "#f0f921"
             ]
            ],
            "type": "heatmapgl"
           }
          ],
          "histogram": [
           {
            "marker": {
             "pattern": {
              "fillmode": "overlay",
              "size": 10,
              "solidity": 0.2
             }
            },
            "type": "histogram"
           }
          ],
          "histogram2d": [
           {
            "colorbar": {
             "outlinewidth": 0,
             "ticks": ""
            },
            "colorscale": [
             [
              0,
              "#0d0887"
             ],
             [
              0.1111111111111111,
              "#46039f"
             ],
             [
              0.2222222222222222,
              "#7201a8"
             ],
             [
              0.3333333333333333,
              "#9c179e"
             ],
             [
              0.4444444444444444,
              "#bd3786"
             ],
             [
              0.5555555555555556,
              "#d8576b"
             ],
             [
              0.6666666666666666,
              "#ed7953"
             ],
             [
              0.7777777777777778,
              "#fb9f3a"
             ],
             [
              0.8888888888888888,
              "#fdca26"
             ],
             [
              1,
              "#f0f921"
             ]
            ],
            "type": "histogram2d"
           }
          ],
          "histogram2dcontour": [
           {
            "colorbar": {
             "outlinewidth": 0,
             "ticks": ""
            },
            "colorscale": [
             [
              0,
              "#0d0887"
             ],
             [
              0.1111111111111111,
              "#46039f"
             ],
             [
              0.2222222222222222,
              "#7201a8"
             ],
             [
              0.3333333333333333,
              "#9c179e"
             ],
             [
              0.4444444444444444,
              "#bd3786"
             ],
             [
              0.5555555555555556,
              "#d8576b"
             ],
             [
              0.6666666666666666,
              "#ed7953"
             ],
             [
              0.7777777777777778,
              "#fb9f3a"
             ],
             [
              0.8888888888888888,
              "#fdca26"
             ],
             [
              1,
              "#f0f921"
             ]
            ],
            "type": "histogram2dcontour"
           }
          ],
          "mesh3d": [
           {
            "colorbar": {
             "outlinewidth": 0,
             "ticks": ""
            },
            "type": "mesh3d"
           }
          ],
          "parcoords": [
           {
            "line": {
             "colorbar": {
              "outlinewidth": 0,
              "ticks": ""
             }
            },
            "type": "parcoords"
           }
          ],
          "pie": [
           {
            "automargin": true,
            "type": "pie"
           }
          ],
          "scatter": [
           {
            "fillpattern": {
             "fillmode": "overlay",
             "size": 10,
             "solidity": 0.2
            },
            "type": "scatter"
           }
          ],
          "scatter3d": [
           {
            "line": {
             "colorbar": {
              "outlinewidth": 0,
              "ticks": ""
             }
            },
            "marker": {
             "colorbar": {
              "outlinewidth": 0,
              "ticks": ""
             }
            },
            "type": "scatter3d"
           }
          ],
          "scattercarpet": [
           {
            "marker": {
             "colorbar": {
              "outlinewidth": 0,
              "ticks": ""
             }
            },
            "type": "scattercarpet"
           }
          ],
          "scattergeo": [
           {
            "marker": {
             "colorbar": {
              "outlinewidth": 0,
              "ticks": ""
             }
            },
            "type": "scattergeo"
           }
          ],
          "scattergl": [
           {
            "marker": {
             "colorbar": {
              "outlinewidth": 0,
              "ticks": ""
             }
            },
            "type": "scattergl"
           }
          ],
          "scattermapbox": [
           {
            "marker": {
             "colorbar": {
              "outlinewidth": 0,
              "ticks": ""
             }
            },
            "type": "scattermapbox"
           }
          ],
          "scatterpolar": [
           {
            "marker": {
             "colorbar": {
              "outlinewidth": 0,
              "ticks": ""
             }
            },
            "type": "scatterpolar"
           }
          ],
          "scatterpolargl": [
           {
            "marker": {
             "colorbar": {
              "outlinewidth": 0,
              "ticks": ""
             }
            },
            "type": "scatterpolargl"
           }
          ],
          "scatterternary": [
           {
            "marker": {
             "colorbar": {
              "outlinewidth": 0,
              "ticks": ""
             }
            },
            "type": "scatterternary"
           }
          ],
          "surface": [
           {
            "colorbar": {
             "outlinewidth": 0,
             "ticks": ""
            },
            "colorscale": [
             [
              0,
              "#0d0887"
             ],
             [
              0.1111111111111111,
              "#46039f"
             ],
             [
              0.2222222222222222,
              "#7201a8"
             ],
             [
              0.3333333333333333,
              "#9c179e"
             ],
             [
              0.4444444444444444,
              "#bd3786"
             ],
             [
              0.5555555555555556,
              "#d8576b"
             ],
             [
              0.6666666666666666,
              "#ed7953"
             ],
             [
              0.7777777777777778,
              "#fb9f3a"
             ],
             [
              0.8888888888888888,
              "#fdca26"
             ],
             [
              1,
              "#f0f921"
             ]
            ],
            "type": "surface"
           }
          ],
          "table": [
           {
            "cells": {
             "fill": {
              "color": "#EBF0F8"
             },
             "line": {
              "color": "white"
             }
            },
            "header": {
             "fill": {
              "color": "#C8D4E3"
             },
             "line": {
              "color": "white"
             }
            },
            "type": "table"
           }
          ]
         },
         "layout": {
          "annotationdefaults": {
           "arrowcolor": "#2a3f5f",
           "arrowhead": 0,
           "arrowwidth": 1
          },
          "autotypenumbers": "strict",
          "coloraxis": {
           "colorbar": {
            "outlinewidth": 0,
            "ticks": ""
           }
          },
          "colorscale": {
           "diverging": [
            [
             0,
             "#8e0152"
            ],
            [
             0.1,
             "#c51b7d"
            ],
            [
             0.2,
             "#de77ae"
            ],
            [
             0.3,
             "#f1b6da"
            ],
            [
             0.4,
             "#fde0ef"
            ],
            [
             0.5,
             "#f7f7f7"
            ],
            [
             0.6,
             "#e6f5d0"
            ],
            [
             0.7,
             "#b8e186"
            ],
            [
             0.8,
             "#7fbc41"
            ],
            [
             0.9,
             "#4d9221"
            ],
            [
             1,
             "#276419"
            ]
           ],
           "sequential": [
            [
             0,
             "#0d0887"
            ],
            [
             0.1111111111111111,
             "#46039f"
            ],
            [
             0.2222222222222222,
             "#7201a8"
            ],
            [
             0.3333333333333333,
             "#9c179e"
            ],
            [
             0.4444444444444444,
             "#bd3786"
            ],
            [
             0.5555555555555556,
             "#d8576b"
            ],
            [
             0.6666666666666666,
             "#ed7953"
            ],
            [
             0.7777777777777778,
             "#fb9f3a"
            ],
            [
             0.8888888888888888,
             "#fdca26"
            ],
            [
             1,
             "#f0f921"
            ]
           ],
           "sequentialminus": [
            [
             0,
             "#0d0887"
            ],
            [
             0.1111111111111111,
             "#46039f"
            ],
            [
             0.2222222222222222,
             "#7201a8"
            ],
            [
             0.3333333333333333,
             "#9c179e"
            ],
            [
             0.4444444444444444,
             "#bd3786"
            ],
            [
             0.5555555555555556,
             "#d8576b"
            ],
            [
             0.6666666666666666,
             "#ed7953"
            ],
            [
             0.7777777777777778,
             "#fb9f3a"
            ],
            [
             0.8888888888888888,
             "#fdca26"
            ],
            [
             1,
             "#f0f921"
            ]
           ]
          },
          "colorway": [
           "#636efa",
           "#EF553B",
           "#00cc96",
           "#ab63fa",
           "#FFA15A",
           "#19d3f3",
           "#FF6692",
           "#B6E880",
           "#FF97FF",
           "#FECB52"
          ],
          "font": {
           "color": "#2a3f5f"
          },
          "geo": {
           "bgcolor": "white",
           "lakecolor": "white",
           "landcolor": "#E5ECF6",
           "showlakes": true,
           "showland": true,
           "subunitcolor": "white"
          },
          "hoverlabel": {
           "align": "left"
          },
          "hovermode": "closest",
          "mapbox": {
           "style": "light"
          },
          "paper_bgcolor": "white",
          "plot_bgcolor": "#E5ECF6",
          "polar": {
           "angularaxis": {
            "gridcolor": "white",
            "linecolor": "white",
            "ticks": ""
           },
           "bgcolor": "#E5ECF6",
           "radialaxis": {
            "gridcolor": "white",
            "linecolor": "white",
            "ticks": ""
           }
          },
          "scene": {
           "xaxis": {
            "backgroundcolor": "#E5ECF6",
            "gridcolor": "white",
            "gridwidth": 2,
            "linecolor": "white",
            "showbackground": true,
            "ticks": "",
            "zerolinecolor": "white"
           },
           "yaxis": {
            "backgroundcolor": "#E5ECF6",
            "gridcolor": "white",
            "gridwidth": 2,
            "linecolor": "white",
            "showbackground": true,
            "ticks": "",
            "zerolinecolor": "white"
           },
           "zaxis": {
            "backgroundcolor": "#E5ECF6",
            "gridcolor": "white",
            "gridwidth": 2,
            "linecolor": "white",
            "showbackground": true,
            "ticks": "",
            "zerolinecolor": "white"
           }
          },
          "shapedefaults": {
           "line": {
            "color": "#2a3f5f"
           }
          },
          "ternary": {
           "aaxis": {
            "gridcolor": "white",
            "linecolor": "white",
            "ticks": ""
           },
           "baxis": {
            "gridcolor": "white",
            "linecolor": "white",
            "ticks": ""
           },
           "bgcolor": "#E5ECF6",
           "caxis": {
            "gridcolor": "white",
            "linecolor": "white",
            "ticks": ""
           }
          },
          "title": {
           "x": 0.05
          },
          "xaxis": {
           "automargin": true,
           "gridcolor": "white",
           "linecolor": "white",
           "ticks": "",
           "title": {
            "standoff": 15
           },
           "zerolinecolor": "white",
           "zerolinewidth": 2
          },
          "yaxis": {
           "automargin": true,
           "gridcolor": "white",
           "linecolor": "white",
           "ticks": "",
           "title": {
            "standoff": 15
           },
           "zerolinecolor": "white",
           "zerolinewidth": 2
          }
         }
        },
        "title": {
         "text": "PCA Clustering of Videos"
        }
       }
      }
     },
     "metadata": {},
     "output_type": "display_data"
    },
    {
     "name": "stdout",
     "output_type": "stream",
     "text": [
      "Representative Videos: ['/Users/annateruel/sdt_videos/AD23-081-S1_3_bw_batch1.mp4', '/Users/annateruel/sdt_videos/AD23-054_S1_bw_batch2.mp4', '/Users/annateruel/sdt_videos/AD23-085-S2_3_bw_batch1.mp4', '/Users/annateruel/sdt_videos/AD23-086-S3_3__bw_batch1.mp4', '/Users/annateruel/sdt_videos/AD23-081-S3_3__bw_batch1.mp4', '/Users/annateruel/sdt_videos/AD23-080-S2_3_bw_batch1.mp4', '/Users/annateruel/sdt_videos/AD23-87-S2_3_bw_batch1.mp4', '/Users/annateruel/sdt_videos/AD23-053-S2_3_bw_batch1.mp4', '/Users/annateruel/sdt_videos/AD22-130-S2_3_bw_batch1.mp4', '/Users/annateruel/sdt_videos/AD23-100_S4_bw_batch2.mp4', '/Users/annateruel/sdt_videos/AD22-128-S3_3_bw_batch1.mp4', '/Users/annateruel/sdt_videos/AD23-100_S3_bw_batch2.mp4', '/Users/annateruel/sdt_videos/AD23-092_S5_bw_batch2.mp4', '/Users/annateruel/sdt_videos/AD23-080-S3_3__bw_batch1.mp4', '/Users/annateruel/sdt_videos/AD23-054_S5_bw_batch2.mp4']\n"
     ]
    }
   ],
   "source": [
    "import plotly.express as px \n",
    "\n",
    "def main(video_directory, n_clusters=15):\n",
    "    video_paths = [os.path.join(video_directory, f) for f in os.listdir(video_directory) if f.endswith('.mp4')]\n",
    "    video_features = []\n",
    "\n",
    "    for video_path in video_paths:\n",
    "        features = load_and_preprocess_video(video_path)\n",
    "        video_features.append(np.mean(features, axis=0))  # Mean of frames as the video feature\n",
    "\n",
    "    video_features = np.array(video_features)\n",
    "\n",
    "    # Use 3 PCA components for 3D visualization\n",
    "    pca = PCA(n_components=3)\n",
    "    reduced_features = pca.fit_transform(video_features)\n",
    "\n",
    "    # KMeans clustering\n",
    "    kmeans = KMeans(n_clusters=n_clusters)\n",
    "    kmeans.fit(reduced_features)\n",
    "    labels = kmeans.labels_\n",
    "\n",
    "    # Create a 3D scatter plot using Plotly\n",
    "    fig = px.scatter_3d(\n",
    "        reduced_features, x=0, y=1, z=2,\n",
    "        color=labels,\n",
    "        labels={'0': 'PCA Component 1', '1': 'PCA Component 2', '2': 'PCA Component 3'},\n",
    "        title='PCA Clustering of Videos'\n",
    "    )\n",
    "\n",
    "    # Customize the plotly figure to display video names on hover\n",
    "    hover_texts = [os.path.basename(video_path) for video_path in video_paths]\n",
    "    fig.update_traces(marker_size=8, hoverinfo='text', text=hover_texts)\n",
    "\n",
    "    fig.show()\n",
    "\n",
    "    # Select one video from each cluster\n",
    "    representative_videos = []\n",
    "    for i in range(n_clusters):\n",
    "        cluster_indices = np.where(labels == i)[0]\n",
    "        representative_videos.append(video_paths[cluster_indices[0]])  # Select the first video of each cluster for simplicity\n",
    "\n",
    "    print(\"Representative Videos:\", representative_videos)\n",
    "\n",
    "if __name__ == \"__main__\":\n",
    "    main(\"/Users/annateruel/sdt_videos/\")\n"
   ]
  },
  {
   "cell_type": "markdown",
   "metadata": {},
   "source": [
    "## trying lr and loss plotting"
   ]
  },
  {
   "cell_type": "code",
   "execution_count": 3,
   "metadata": {},
   "outputs": [],
   "source": [
    "import pandas as pd\n",
    "import matplotlib.pyplot as plt"
   ]
  },
  {
   "cell_type": "code",
   "execution_count": 4,
   "metadata": {},
   "outputs": [
    {
     "data": {
      "text/html": [
       "<div>\n",
       "<style scoped>\n",
       "    .dataframe tbody tr th:only-of-type {\n",
       "        vertical-align: middle;\n",
       "    }\n",
       "\n",
       "    .dataframe tbody tr th {\n",
       "        vertical-align: top;\n",
       "    }\n",
       "\n",
       "    .dataframe thead th {\n",
       "        text-align: right;\n",
       "    }\n",
       "</style>\n",
       "<table border=\"1\" class=\"dataframe\">\n",
       "  <thead>\n",
       "    <tr style=\"text-align: right;\">\n",
       "      <th></th>\n",
       "      <th>iterations</th>\n",
       "      <th>loss</th>\n",
       "      <th>lr</th>\n",
       "    </tr>\n",
       "  </thead>\n",
       "  <tbody>\n",
       "    <tr>\n",
       "      <th>0</th>\n",
       "      <td>1000</td>\n",
       "      <td>0.02260</td>\n",
       "      <td>0.0100</td>\n",
       "    </tr>\n",
       "    <tr>\n",
       "      <th>1</th>\n",
       "      <td>2000</td>\n",
       "      <td>0.01550</td>\n",
       "      <td>0.0100</td>\n",
       "    </tr>\n",
       "    <tr>\n",
       "      <th>2</th>\n",
       "      <td>3000</td>\n",
       "      <td>0.01400</td>\n",
       "      <td>0.0100</td>\n",
       "    </tr>\n",
       "    <tr>\n",
       "      <th>3</th>\n",
       "      <td>4000</td>\n",
       "      <td>0.01310</td>\n",
       "      <td>0.0100</td>\n",
       "    </tr>\n",
       "    <tr>\n",
       "      <th>4</th>\n",
       "      <td>5000</td>\n",
       "      <td>0.01270</td>\n",
       "      <td>0.0100</td>\n",
       "    </tr>\n",
       "    <tr>\n",
       "      <th>...</th>\n",
       "      <td>...</td>\n",
       "      <td>...</td>\n",
       "      <td>...</td>\n",
       "    </tr>\n",
       "    <tr>\n",
       "      <th>363</th>\n",
       "      <td>414000</td>\n",
       "      <td>0.00322</td>\n",
       "      <td>0.0005</td>\n",
       "    </tr>\n",
       "    <tr>\n",
       "      <th>364</th>\n",
       "      <td>415000</td>\n",
       "      <td>0.00312</td>\n",
       "      <td>0.0005</td>\n",
       "    </tr>\n",
       "    <tr>\n",
       "      <th>365</th>\n",
       "      <td>416000</td>\n",
       "      <td>0.00325</td>\n",
       "      <td>0.0005</td>\n",
       "    </tr>\n",
       "    <tr>\n",
       "      <th>366</th>\n",
       "      <td>417000</td>\n",
       "      <td>0.00330</td>\n",
       "      <td>0.0005</td>\n",
       "    </tr>\n",
       "    <tr>\n",
       "      <th>367</th>\n",
       "      <td>418000</td>\n",
       "      <td>0.00313</td>\n",
       "      <td>0.0005</td>\n",
       "    </tr>\n",
       "  </tbody>\n",
       "</table>\n",
       "<p>368 rows × 3 columns</p>\n",
       "</div>"
      ],
      "text/plain": [
       "     iterations     loss      lr\n",
       "0          1000  0.02260  0.0100\n",
       "1          2000  0.01550  0.0100\n",
       "2          3000  0.01400  0.0100\n",
       "3          4000  0.01310  0.0100\n",
       "4          5000  0.01270  0.0100\n",
       "..          ...      ...     ...\n",
       "363      414000  0.00322  0.0005\n",
       "364      415000  0.00312  0.0005\n",
       "365      416000  0.00325  0.0005\n",
       "366      417000  0.00330  0.0005\n",
       "367      418000  0.00313  0.0005\n",
       "\n",
       "[368 rows x 3 columns]"
      ]
     },
     "execution_count": 4,
     "metadata": {},
     "output_type": "execute_result"
    }
   ],
   "source": [
    "data_path = '/Users/annateruel/Desktop/learning_stats2.csv' \n",
    "df = pd.read_csv(data_path, sep=';', decimal=',', engine='python')\n",
    "df"
   ]
  },
  {
   "cell_type": "code",
   "execution_count": 12,
   "metadata": {},
   "outputs": [
    {
     "data": {
      "image/png": "[encoded data removed]",
      "text/plain": [
       "<Figure size 640x480 with 2 Axes>"
      ]
     },
     "metadata": {},
     "output_type": "display_data"
    }
   ],
   "source": [
    "plt.style.use(\"dark_background\")\n",
    "\n",
    "# Create a figure and a set of subplots\n",
    "fig, ax1 = plt.subplots()\n",
    "\n",
    "# Plot the loss on the primary y-axis\n",
    "ax1.plot(df['iterations'], df['loss'], color='orange', label='Loss')\n",
    "ax1.set_xlabel('Iterations')\n",
    "ax1.set_ylabel('Loss', color='orange')\n",
    "ax1.tick_params(axis='y', labelcolor='orange')\n",
    "\n",
    "# Create a second y-axis for the learning rate\n",
    "ax2 = ax1.twinx()\n",
    "ax2.plot(df['iterations'], df['lr'], color='purple', label='Learning Rate')\n",
    "ax2.set_ylabel('Learning Rate', color='purple')\n",
    "ax2.tick_params(axis='y', labelcolor='purple')\n",
    "\n",
    "# Show the legend\n",
    "ax1.legend(loc='upper left')\n",
    "ax2.legend(loc='upper right')\n",
    "\n",
    "# Show the plot\n",
    "plt.title('Loss and Learning Rate Through Number of Iterations')\n",
    "plt.show()"
   ]
  },
  {
   "cell_type": "code",
   "execution_count": 1,
   "metadata": {},
   "outputs": [
    {
     "data": {
      "text/html": [
       "<div>\n",
       "<style scoped>\n",
       "    .dataframe tbody tr th:only-of-type {\n",
       "        vertical-align: middle;\n",
       "    }\n",
       "\n",
       "    .dataframe tbody tr th {\n",
       "        vertical-align: top;\n",
       "    }\n",
       "\n",
       "    .dataframe thead tr th {\n",
       "        text-align: left;\n",
       "    }\n",
       "</style>\n",
       "<table border=\"1\" class=\"dataframe\">\n",
       "  <thead>\n",
       "    <tr>\n",
       "      <th></th>\n",
       "      <th></th>\n",
       "      <th>scorer</th>\n",
       "      <th colspan=\"21\" halign=\"left\">Paola</th>\n",
       "    </tr>\n",
       "    <tr>\n",
       "      <th></th>\n",
       "      <th></th>\n",
       "      <th>individuals</th>\n",
       "      <th colspan=\"10\" halign=\"left\">individual1</th>\n",
       "      <th>...</th>\n",
       "      <th colspan=\"10\" halign=\"left\">individual2</th>\n",
       "    </tr>\n",
       "    <tr>\n",
       "      <th></th>\n",
       "      <th></th>\n",
       "      <th>bodyparts</th>\n",
       "      <th colspan=\"2\" halign=\"left\">beak</th>\n",
       "      <th colspan=\"2\" halign=\"left\">left flipper base</th>\n",
       "      <th colspan=\"2\" halign=\"left\">left flipper tip</th>\n",
       "      <th colspan=\"2\" halign=\"left\">right flipper base</th>\n",
       "      <th colspan=\"2\" halign=\"left\">right flipper tip</th>\n",
       "      <th>...</th>\n",
       "      <th colspan=\"2\" halign=\"left\">dorsal base</th>\n",
       "      <th colspan=\"2\" halign=\"left\">dorsal tip</th>\n",
       "      <th colspan=\"2\" halign=\"left\">tail</th>\n",
       "      <th colspan=\"2\" halign=\"left\">left fluke</th>\n",
       "      <th colspan=\"2\" halign=\"left\">right fluke</th>\n",
       "    </tr>\n",
       "    <tr>\n",
       "      <th></th>\n",
       "      <th></th>\n",
       "      <th>coords</th>\n",
       "      <th>x</th>\n",
       "      <th>y</th>\n",
       "      <th>x</th>\n",
       "      <th>y</th>\n",
       "      <th>x</th>\n",
       "      <th>y</th>\n",
       "      <th>x</th>\n",
       "      <th>y</th>\n",
       "      <th>x</th>\n",
       "      <th>y</th>\n",
       "      <th>...</th>\n",
       "      <th>x</th>\n",
       "      <th>y</th>\n",
       "      <th>x</th>\n",
       "      <th>y</th>\n",
       "      <th>x</th>\n",
       "      <th>y</th>\n",
       "      <th>x</th>\n",
       "      <th>y</th>\n",
       "      <th>x</th>\n",
       "      <th>y</th>\n",
       "    </tr>\n",
       "  </thead>\n",
       "  <tbody>\n",
       "    <tr>\n",
       "      <th rowspan=\"16\" valign=\"top\">labeled-data</th>\n",
       "      <th rowspan=\"16\" valign=\"top\">DJI_20231011121723_0076_D</th>\n",
       "      <th>img0056.png</th>\n",
       "      <td>1377.889896</td>\n",
       "      <td>1343.359701</td>\n",
       "      <td>1255.117834</td>\n",
       "      <td>1497.327944</td>\n",
       "      <td>1214.864698</td>\n",
       "      <td>1536.574751</td>\n",
       "      <td>1341.662075</td>\n",
       "      <td>1523.492482</td>\n",
       "      <td>1344.681060</td>\n",
       "      <td>1582.865857</td>\n",
       "      <td>...</td>\n",
       "      <td>1500.661959</td>\n",
       "      <td>1388.644478</td>\n",
       "      <td>1513.744228</td>\n",
       "      <td>1437.954569</td>\n",
       "      <td>1474.497421</td>\n",
       "      <td>1685.511352</td>\n",
       "      <td>1383.927867</td>\n",
       "      <td>1752.935354</td>\n",
       "      <td>1532.864468</td>\n",
       "      <td>1745.891055</td>\n",
       "    </tr>\n",
       "    <tr>\n",
       "      <th>img0082.png</th>\n",
       "      <td>1404.054496</td>\n",
       "      <td>1213.543339</td>\n",
       "      <td>1336.630494</td>\n",
       "      <td>1376.568538</td>\n",
       "      <td>1318.516583</td>\n",
       "      <td>1407.764718</td>\n",
       "      <td>NaN</td>\n",
       "      <td>NaN</td>\n",
       "      <td>1434.244347</td>\n",
       "      <td>1418.834330</td>\n",
       "      <td>...</td>\n",
       "      <td>1476.510140</td>\n",
       "      <td>1326.252118</td>\n",
       "      <td>1485.567095</td>\n",
       "      <td>1383.612836</td>\n",
       "      <td>1499.655692</td>\n",
       "      <td>1607.017738</td>\n",
       "      <td>1436.257004</td>\n",
       "      <td>1648.277202</td>\n",
       "      <td>1580.161963</td>\n",
       "      <td>1638.213918</td>\n",
       "    </tr>\n",
       "    <tr>\n",
       "      <th>img0096.png</th>\n",
       "      <td>1404.054496</td>\n",
       "      <td>1108.885187</td>\n",
       "      <td>NaN</td>\n",
       "      <td>NaN</td>\n",
       "      <td>NaN</td>\n",
       "      <td>NaN</td>\n",
       "      <td>NaN</td>\n",
       "      <td>NaN</td>\n",
       "      <td>NaN</td>\n",
       "      <td>NaN</td>\n",
       "      <td>...</td>\n",
       "      <td>1471.478498</td>\n",
       "      <td>1243.733191</td>\n",
       "      <td>1471.478498</td>\n",
       "      <td>1299.081252</td>\n",
       "      <td>1500.662021</td>\n",
       "      <td>1529.530452</td>\n",
       "      <td>1436.257004</td>\n",
       "      <td>1593.935469</td>\n",
       "      <td>1579.155635</td>\n",
       "      <td>1581.859528</td>\n",
       "    </tr>\n",
       "    <tr>\n",
       "      <th>img0117.png</th>\n",
       "      <td>1394.997540</td>\n",
       "      <td>924.727093</td>\n",
       "      <td>1372.858316</td>\n",
       "      <td>1075.676351</td>\n",
       "      <td>1361.788704</td>\n",
       "      <td>1126.999098</td>\n",
       "      <td>NaN</td>\n",
       "      <td>NaN</td>\n",
       "      <td>NaN</td>\n",
       "      <td>NaN</td>\n",
       "      <td>...</td>\n",
       "      <td>1491.605065</td>\n",
       "      <td>1148.131994</td>\n",
       "      <td>1488.586080</td>\n",
       "      <td>1206.499041</td>\n",
       "      <td>1495.630379</td>\n",
       "      <td>1383.612836</td>\n",
       "      <td>1412.105123</td>\n",
       "      <td>1429.903942</td>\n",
       "      <td>1560.035396</td>\n",
       "      <td>1416.821673</td>\n",
       "    </tr>\n",
       "    <tr>\n",
       "      <th>img0268.png</th>\n",
       "      <td>1355.750733</td>\n",
       "      <td>568.486845</td>\n",
       "      <td>1367.826674</td>\n",
       "      <td>707.360162</td>\n",
       "      <td>NaN</td>\n",
       "      <td>NaN</td>\n",
       "      <td>NaN</td>\n",
       "      <td>NaN</td>\n",
       "      <td>NaN</td>\n",
       "      <td>NaN</td>\n",
       "      <td>...</td>\n",
       "      <td>1419.149422</td>\n",
       "      <td>839.189180</td>\n",
       "      <td>1424.181064</td>\n",
       "      <td>893.530913</td>\n",
       "      <td>1438.269661</td>\n",
       "      <td>1050.518141</td>\n",
       "      <td>1385.940585</td>\n",
       "      <td>1106.872531</td>\n",
       "      <td>1529.845544</td>\n",
       "      <td>1086.745963</td>\n",
       "    </tr>\n",
       "    <tr>\n",
       "      <th>img0367.png</th>\n",
       "      <td>1330.592462</td>\n",
       "      <td>377.284436</td>\n",
       "      <td>1327.573477</td>\n",
       "      <td>517.164082</td>\n",
       "      <td>1303.421596</td>\n",
       "      <td>556.410889</td>\n",
       "      <td>NaN</td>\n",
       "      <td>NaN</td>\n",
       "      <td>NaN</td>\n",
       "      <td>NaN</td>\n",
       "      <td>...</td>\n",
       "      <td>1410.092405</td>\n",
       "      <td>598.676681</td>\n",
       "      <td>1411.098733</td>\n",
       "      <td>646.980443</td>\n",
       "      <td>1447.326555</td>\n",
       "      <td>838.182837</td>\n",
       "      <td>1381.915210</td>\n",
       "      <td>906.613167</td>\n",
       "      <td>1507.706258</td>\n",
       "      <td>884.473942</td>\n",
       "    </tr>\n",
       "    <tr>\n",
       "      <th>img0370.png</th>\n",
       "      <td>1335.624104</td>\n",
       "      <td>365.208496</td>\n",
       "      <td>NaN</td>\n",
       "      <td>NaN</td>\n",
       "      <td>1311.472223</td>\n",
       "      <td>539.303306</td>\n",
       "      <td>NaN</td>\n",
       "      <td>NaN</td>\n",
       "      <td>NaN</td>\n",
       "      <td>NaN</td>\n",
       "      <td>...</td>\n",
       "      <td>1410.092405</td>\n",
       "      <td>594.651367</td>\n",
       "      <td>1413.111390</td>\n",
       "      <td>635.910831</td>\n",
       "      <td>1434.244286</td>\n",
       "      <td>828.119553</td>\n",
       "      <td>1377.889896</td>\n",
       "      <td>897.556211</td>\n",
       "      <td>1505.693601</td>\n",
       "      <td>877.429644</td>\n",
       "    </tr>\n",
       "    <tr>\n",
       "      <th>img0433.png</th>\n",
       "      <td>1405.060824</td>\n",
       "      <td>206.208599</td>\n",
       "      <td>NaN</td>\n",
       "      <td>NaN</td>\n",
       "      <td>NaN</td>\n",
       "      <td>NaN</td>\n",
       "      <td>NaN</td>\n",
       "      <td>NaN</td>\n",
       "      <td>NaN</td>\n",
       "      <td>NaN</td>\n",
       "      <td>...</td>\n",
       "      <td>1465.440527</td>\n",
       "      <td>451.752725</td>\n",
       "      <td>1471.478498</td>\n",
       "      <td>489.993204</td>\n",
       "      <td>1501.668349</td>\n",
       "      <td>679.182940</td>\n",
       "      <td>1462.421542</td>\n",
       "      <td>740.568972</td>\n",
       "      <td>1562.048052</td>\n",
       "      <td>707.360135</td>\n",
       "    </tr>\n",
       "    <tr>\n",
       "      <th>img0518.png</th>\n",
       "      <td>1432.231691</td>\n",
       "      <td>97.525134</td>\n",
       "      <td>NaN</td>\n",
       "      <td>NaN</td>\n",
       "      <td>NaN</td>\n",
       "      <td>NaN</td>\n",
       "      <td>NaN</td>\n",
       "      <td>NaN</td>\n",
       "      <td>NaN</td>\n",
       "      <td>NaN</td>\n",
       "      <td>...</td>\n",
       "      <td>1496.636707</td>\n",
       "      <td>307.847766</td>\n",
       "      <td>1485.567095</td>\n",
       "      <td>358.164186</td>\n",
       "      <td>1518.775932</td>\n",
       "      <td>536.284310</td>\n",
       "      <td>1463.427871</td>\n",
       "      <td>579.556430</td>\n",
       "      <td>1580.161963</td>\n",
       "      <td>580.562759</td>\n",
       "    </tr>\n",
       "    <tr>\n",
       "      <th>img0590.png</th>\n",
       "      <td>1536.889843</td>\n",
       "      <td>106.582089</td>\n",
       "      <td>NaN</td>\n",
       "      <td>NaN</td>\n",
       "      <td>NaN</td>\n",
       "      <td>NaN</td>\n",
       "      <td>NaN</td>\n",
       "      <td>NaN</td>\n",
       "      <td>NaN</td>\n",
       "      <td>NaN</td>\n",
       "      <td>...</td>\n",
       "      <td>1545.946798</td>\n",
       "      <td>268.600959</td>\n",
       "      <td>1545.946798</td>\n",
       "      <td>302.816124</td>\n",
       "      <td>1582.174620</td>\n",
       "      <td>489.993204</td>\n",
       "      <td>1530.851872</td>\n",
       "      <td>556.410877</td>\n",
       "      <td>1637.522681</td>\n",
       "      <td>528.233683</td>\n",
       "    </tr>\n",
       "    <tr>\n",
       "      <th>img0780.png</th>\n",
       "      <td>1505.693663</td>\n",
       "      <td>354.138884</td>\n",
       "      <td>NaN</td>\n",
       "      <td>NaN</td>\n",
       "      <td>NaN</td>\n",
       "      <td>NaN</td>\n",
       "      <td>NaN</td>\n",
       "      <td>NaN</td>\n",
       "      <td>NaN</td>\n",
       "      <td>NaN</td>\n",
       "      <td>...</td>\n",
       "      <td>1600.288531</td>\n",
       "      <td>589.619726</td>\n",
       "      <td>1593.244232</td>\n",
       "      <td>639.936145</td>\n",
       "      <td>1604.313844</td>\n",
       "      <td>804.974000</td>\n",
       "      <td>1551.984768</td>\n",
       "      <td>852.271434</td>\n",
       "      <td>1652.617607</td>\n",
       "      <td>852.271434</td>\n",
       "    </tr>\n",
       "    <tr>\n",
       "      <th>img0805.png</th>\n",
       "      <td>1508.712648</td>\n",
       "      <td>343.069271</td>\n",
       "      <td>NaN</td>\n",
       "      <td>NaN</td>\n",
       "      <td>NaN</td>\n",
       "      <td>NaN</td>\n",
       "      <td>NaN</td>\n",
       "      <td>NaN</td>\n",
       "      <td>NaN</td>\n",
       "      <td>NaN</td>\n",
       "      <td>...</td>\n",
       "      <td>1586.199934</td>\n",
       "      <td>598.676681</td>\n",
       "      <td>1590.225247</td>\n",
       "      <td>651.005757</td>\n",
       "      <td>1624.440412</td>\n",
       "      <td>817.049940</td>\n",
       "      <td>1573.117665</td>\n",
       "      <td>873.404330</td>\n",
       "      <td>1678.782145</td>\n",
       "      <td>843.214478</td>\n",
       "    </tr>\n",
       "    <tr>\n",
       "      <th>img0934.png</th>\n",
       "      <td>1497.643036</td>\n",
       "      <td>261.556672</td>\n",
       "      <td>NaN</td>\n",
       "      <td>NaN</td>\n",
       "      <td>NaN</td>\n",
       "      <td>NaN</td>\n",
       "      <td>NaN</td>\n",
       "      <td>NaN</td>\n",
       "      <td>NaN</td>\n",
       "      <td>NaN</td>\n",
       "      <td>...</td>\n",
       "      <td>1588.212590</td>\n",
       "      <td>493.012201</td>\n",
       "      <td>1596.263217</td>\n",
       "      <td>532.259008</td>\n",
       "      <td>1613.370800</td>\n",
       "      <td>698.303191</td>\n",
       "      <td>1572.111336</td>\n",
       "      <td>754.657581</td>\n",
       "      <td>1665.699876</td>\n",
       "      <td>736.543670</td>\n",
       "    </tr>\n",
       "    <tr>\n",
       "      <th>img1000.png</th>\n",
       "      <td>1505.693663</td>\n",
       "      <td>73.373249</td>\n",
       "      <td>NaN</td>\n",
       "      <td>NaN</td>\n",
       "      <td>NaN</td>\n",
       "      <td>NaN</td>\n",
       "      <td>NaN</td>\n",
       "      <td>NaN</td>\n",
       "      <td>NaN</td>\n",
       "      <td>NaN</td>\n",
       "      <td>...</td>\n",
       "      <td>1545.946798</td>\n",
       "      <td>290.740180</td>\n",
       "      <td>1539.908828</td>\n",
       "      <td>335.018629</td>\n",
       "      <td>1574.123993</td>\n",
       "      <td>482.948901</td>\n",
       "      <td>1517.769603</td>\n",
       "      <td>556.410873</td>\n",
       "      <td>1642.554323</td>\n",
       "      <td>537.290634</td>\n",
       "    </tr>\n",
       "    <tr>\n",
       "      <th>img1036.png</th>\n",
       "      <td>NaN</td>\n",
       "      <td>NaN</td>\n",
       "      <td>NaN</td>\n",
       "      <td>NaN</td>\n",
       "      <td>NaN</td>\n",
       "      <td>NaN</td>\n",
       "      <td>NaN</td>\n",
       "      <td>NaN</td>\n",
       "      <td>NaN</td>\n",
       "      <td>NaN</td>\n",
       "      <td>...</td>\n",
       "      <td>1580.161963</td>\n",
       "      <td>133.752952</td>\n",
       "      <td>1571.105008</td>\n",
       "      <td>177.025072</td>\n",
       "      <td>1618.402442</td>\n",
       "      <td>356.151525</td>\n",
       "      <td>1583.180948</td>\n",
       "      <td>395.398332</td>\n",
       "      <td>1674.756831</td>\n",
       "      <td>402.442631</td>\n",
       "    </tr>\n",
       "    <tr>\n",
       "      <th>img1071.png</th>\n",
       "      <td>NaN</td>\n",
       "      <td>NaN</td>\n",
       "      <td>NaN</td>\n",
       "      <td>NaN</td>\n",
       "      <td>NaN</td>\n",
       "      <td>NaN</td>\n",
       "      <td>NaN</td>\n",
       "      <td>NaN</td>\n",
       "      <td>NaN</td>\n",
       "      <td>NaN</td>\n",
       "      <td>...</td>\n",
       "      <td>NaN</td>\n",
       "      <td>NaN</td>\n",
       "      <td>NaN</td>\n",
       "      <td>NaN</td>\n",
       "      <td>1636.516353</td>\n",
       "      <td>178.031401</td>\n",
       "      <td>1590.225247</td>\n",
       "      <td>218.284536</td>\n",
       "      <td>1697.902384</td>\n",
       "      <td>206.208596</td>\n",
       "    </tr>\n",
       "  </tbody>\n",
       "</table>\n",
       "<p>16 rows × 40 columns</p>\n",
       "</div>"
      ],
      "text/plain": [
       "scorer                                                    Paola               \\\n",
       "individuals                                         individual1                \n",
       "bodyparts                                                  beak                \n",
       "coords                                                        x            y   \n",
       "labeled-data DJI_20231011121723_0076_D img0056.png  1377.889896  1343.359701   \n",
       "                                       img0082.png  1404.054496  1213.543339   \n",
       "                                       img0096.png  1404.054496  1108.885187   \n",
       "                                       img0117.png  1394.997540   924.727093   \n",
       "                                       img0268.png  1355.750733   568.486845   \n",
       "                                       img0367.png  1330.592462   377.284436   \n",
       "                                       img0370.png  1335.624104   365.208496   \n",
       "                                       img0433.png  1405.060824   206.208599   \n",
       "                                       img0518.png  1432.231691    97.525134   \n",
       "                                       img0590.png  1536.889843   106.582089   \n",
       "                                       img0780.png  1505.693663   354.138884   \n",
       "                                       img0805.png  1508.712648   343.069271   \n",
       "                                       img0934.png  1497.643036   261.556672   \n",
       "                                       img1000.png  1505.693663    73.373249   \n",
       "                                       img1036.png          NaN          NaN   \n",
       "                                       img1071.png          NaN          NaN   \n",
       "\n",
       "scorer                                                                \\\n",
       "individuals                                                            \n",
       "bodyparts                                          left flipper base   \n",
       "coords                                                             x   \n",
       "labeled-data DJI_20231011121723_0076_D img0056.png       1255.117834   \n",
       "                                       img0082.png       1336.630494   \n",
       "                                       img0096.png               NaN   \n",
       "                                       img0117.png       1372.858316   \n",
       "                                       img0268.png       1367.826674   \n",
       "                                       img0367.png       1327.573477   \n",
       "                                       img0370.png               NaN   \n",
       "                                       img0433.png               NaN   \n",
       "                                       img0518.png               NaN   \n",
       "                                       img0590.png               NaN   \n",
       "                                       img0780.png               NaN   \n",
       "                                       img0805.png               NaN   \n",
       "                                       img0934.png               NaN   \n",
       "                                       img1000.png               NaN   \n",
       "                                       img1036.png               NaN   \n",
       "                                       img1071.png               NaN   \n",
       "\n",
       "scorer                                                           \\\n",
       "individuals                                                       \n",
       "bodyparts                                                         \n",
       "coords                                                        y   \n",
       "labeled-data DJI_20231011121723_0076_D img0056.png  1497.327944   \n",
       "                                       img0082.png  1376.568538   \n",
       "                                       img0096.png          NaN   \n",
       "                                       img0117.png  1075.676351   \n",
       "                                       img0268.png   707.360162   \n",
       "                                       img0367.png   517.164082   \n",
       "                                       img0370.png          NaN   \n",
       "                                       img0433.png          NaN   \n",
       "                                       img0518.png          NaN   \n",
       "                                       img0590.png          NaN   \n",
       "                                       img0780.png          NaN   \n",
       "                                       img0805.png          NaN   \n",
       "                                       img0934.png          NaN   \n",
       "                                       img1000.png          NaN   \n",
       "                                       img1036.png          NaN   \n",
       "                                       img1071.png          NaN   \n",
       "\n",
       "scorer                                                               \\\n",
       "individuals                                                           \n",
       "bodyparts                                          left flipper tip   \n",
       "coords                                                            x   \n",
       "labeled-data DJI_20231011121723_0076_D img0056.png      1214.864698   \n",
       "                                       img0082.png      1318.516583   \n",
       "                                       img0096.png              NaN   \n",
       "                                       img0117.png      1361.788704   \n",
       "                                       img0268.png              NaN   \n",
       "                                       img0367.png      1303.421596   \n",
       "                                       img0370.png      1311.472223   \n",
       "                                       img0433.png              NaN   \n",
       "                                       img0518.png              NaN   \n",
       "                                       img0590.png              NaN   \n",
       "                                       img0780.png              NaN   \n",
       "                                       img0805.png              NaN   \n",
       "                                       img0934.png              NaN   \n",
       "                                       img1000.png              NaN   \n",
       "                                       img1036.png              NaN   \n",
       "                                       img1071.png              NaN   \n",
       "\n",
       "scorer                                                           \\\n",
       "individuals                                                       \n",
       "bodyparts                                                         \n",
       "coords                                                        y   \n",
       "labeled-data DJI_20231011121723_0076_D img0056.png  1536.574751   \n",
       "                                       img0082.png  1407.764718   \n",
       "                                       img0096.png          NaN   \n",
       "                                       img0117.png  1126.999098   \n",
       "                                       img0268.png          NaN   \n",
       "                                       img0367.png   556.410889   \n",
       "                                       img0370.png   539.303306   \n",
       "                                       img0433.png          NaN   \n",
       "                                       img0518.png          NaN   \n",
       "                                       img0590.png          NaN   \n",
       "                                       img0780.png          NaN   \n",
       "                                       img0805.png          NaN   \n",
       "                                       img0934.png          NaN   \n",
       "                                       img1000.png          NaN   \n",
       "                                       img1036.png          NaN   \n",
       "                                       img1071.png          NaN   \n",
       "\n",
       "scorer                                                                 \\\n",
       "individuals                                                             \n",
       "bodyparts                                          right flipper base   \n",
       "coords                                                              x   \n",
       "labeled-data DJI_20231011121723_0076_D img0056.png        1341.662075   \n",
       "                                       img0082.png                NaN   \n",
       "                                       img0096.png                NaN   \n",
       "                                       img0117.png                NaN   \n",
       "                                       img0268.png                NaN   \n",
       "                                       img0367.png                NaN   \n",
       "                                       img0370.png                NaN   \n",
       "                                       img0433.png                NaN   \n",
       "                                       img0518.png                NaN   \n",
       "                                       img0590.png                NaN   \n",
       "                                       img0780.png                NaN   \n",
       "                                       img0805.png                NaN   \n",
       "                                       img0934.png                NaN   \n",
       "                                       img1000.png                NaN   \n",
       "                                       img1036.png                NaN   \n",
       "                                       img1071.png                NaN   \n",
       "\n",
       "scorer                                                           \\\n",
       "individuals                                                       \n",
       "bodyparts                                                         \n",
       "coords                                                        y   \n",
       "labeled-data DJI_20231011121723_0076_D img0056.png  1523.492482   \n",
       "                                       img0082.png          NaN   \n",
       "                                       img0096.png          NaN   \n",
       "                                       img0117.png          NaN   \n",
       "                                       img0268.png          NaN   \n",
       "                                       img0367.png          NaN   \n",
       "                                       img0370.png          NaN   \n",
       "                                       img0433.png          NaN   \n",
       "                                       img0518.png          NaN   \n",
       "                                       img0590.png          NaN   \n",
       "                                       img0780.png          NaN   \n",
       "                                       img0805.png          NaN   \n",
       "                                       img0934.png          NaN   \n",
       "                                       img1000.png          NaN   \n",
       "                                       img1036.png          NaN   \n",
       "                                       img1071.png          NaN   \n",
       "\n",
       "scorer                                                                \\\n",
       "individuals                                                            \n",
       "bodyparts                                          right flipper tip   \n",
       "coords                                                             x   \n",
       "labeled-data DJI_20231011121723_0076_D img0056.png       1344.681060   \n",
       "                                       img0082.png       1434.244347   \n",
       "                                       img0096.png               NaN   \n",
       "                                       img0117.png               NaN   \n",
       "                                       img0268.png               NaN   \n",
       "                                       img0367.png               NaN   \n",
       "                                       img0370.png               NaN   \n",
       "                                       img0433.png               NaN   \n",
       "                                       img0518.png               NaN   \n",
       "                                       img0590.png               NaN   \n",
       "                                       img0780.png               NaN   \n",
       "                                       img0805.png               NaN   \n",
       "                                       img0934.png               NaN   \n",
       "                                       img1000.png               NaN   \n",
       "                                       img1036.png               NaN   \n",
       "                                       img1071.png               NaN   \n",
       "\n",
       "scorer                                                           ...  \\\n",
       "individuals                                                      ...   \n",
       "bodyparts                                                        ...   \n",
       "coords                                                        y  ...   \n",
       "labeled-data DJI_20231011121723_0076_D img0056.png  1582.865857  ...   \n",
       "                                       img0082.png  1418.834330  ...   \n",
       "                                       img0096.png          NaN  ...   \n",
       "                                       img0117.png          NaN  ...   \n",
       "                                       img0268.png          NaN  ...   \n",
       "                                       img0367.png          NaN  ...   \n",
       "                                       img0370.png          NaN  ...   \n",
       "                                       img0433.png          NaN  ...   \n",
       "                                       img0518.png          NaN  ...   \n",
       "                                       img0590.png          NaN  ...   \n",
       "                                       img0780.png          NaN  ...   \n",
       "                                       img0805.png          NaN  ...   \n",
       "                                       img0934.png          NaN  ...   \n",
       "                                       img1000.png          NaN  ...   \n",
       "                                       img1036.png          NaN  ...   \n",
       "                                       img1071.png          NaN  ...   \n",
       "\n",
       "scorer                                                                        \\\n",
       "individuals                                         individual2                \n",
       "bodyparts                                           dorsal base                \n",
       "coords                                                        x            y   \n",
       "labeled-data DJI_20231011121723_0076_D img0056.png  1500.661959  1388.644478   \n",
       "                                       img0082.png  1476.510140  1326.252118   \n",
       "                                       img0096.png  1471.478498  1243.733191   \n",
       "                                       img0117.png  1491.605065  1148.131994   \n",
       "                                       img0268.png  1419.149422   839.189180   \n",
       "                                       img0367.png  1410.092405   598.676681   \n",
       "                                       img0370.png  1410.092405   594.651367   \n",
       "                                       img0433.png  1465.440527   451.752725   \n",
       "                                       img0518.png  1496.636707   307.847766   \n",
       "                                       img0590.png  1545.946798   268.600959   \n",
       "                                       img0780.png  1600.288531   589.619726   \n",
       "                                       img0805.png  1586.199934   598.676681   \n",
       "                                       img0934.png  1588.212590   493.012201   \n",
       "                                       img1000.png  1545.946798   290.740180   \n",
       "                                       img1036.png  1580.161963   133.752952   \n",
       "                                       img1071.png          NaN          NaN   \n",
       "\n",
       "scorer                                                                        \\\n",
       "individuals                                                                    \n",
       "bodyparts                                            dorsal tip                \n",
       "coords                                                        x            y   \n",
       "labeled-data DJI_20231011121723_0076_D img0056.png  1513.744228  1437.954569   \n",
       "                                       img0082.png  1485.567095  1383.612836   \n",
       "                                       img0096.png  1471.478498  1299.081252   \n",
       "                                       img0117.png  1488.586080  1206.499041   \n",
       "                                       img0268.png  1424.181064   893.530913   \n",
       "                                       img0367.png  1411.098733   646.980443   \n",
       "                                       img0370.png  1413.111390   635.910831   \n",
       "                                       img0433.png  1471.478498   489.993204   \n",
       "                                       img0518.png  1485.567095   358.164186   \n",
       "                                       img0590.png  1545.946798   302.816124   \n",
       "                                       img0780.png  1593.244232   639.936145   \n",
       "                                       img0805.png  1590.225247   651.005757   \n",
       "                                       img0934.png  1596.263217   532.259008   \n",
       "                                       img1000.png  1539.908828   335.018629   \n",
       "                                       img1036.png  1571.105008   177.025072   \n",
       "                                       img1071.png          NaN          NaN   \n",
       "\n",
       "scorer                                                                        \\\n",
       "individuals                                                                    \n",
       "bodyparts                                                  tail                \n",
       "coords                                                        x            y   \n",
       "labeled-data DJI_20231011121723_0076_D img0056.png  1474.497421  1685.511352   \n",
       "                                       img0082.png  1499.655692  1607.017738   \n",
       "                                       img0096.png  1500.662021  1529.530452   \n",
       "                                       img0117.png  1495.630379  1383.612836   \n",
       "                                       img0268.png  1438.269661  1050.518141   \n",
       "                                       img0367.png  1447.326555   838.182837   \n",
       "                                       img0370.png  1434.244286   828.119553   \n",
       "                                       img0433.png  1501.668349   679.182940   \n",
       "                                       img0518.png  1518.775932   536.284310   \n",
       "                                       img0590.png  1582.174620   489.993204   \n",
       "                                       img0780.png  1604.313844   804.974000   \n",
       "                                       img0805.png  1624.440412   817.049940   \n",
       "                                       img0934.png  1613.370800   698.303191   \n",
       "                                       img1000.png  1574.123993   482.948901   \n",
       "                                       img1036.png  1618.402442   356.151525   \n",
       "                                       img1071.png  1636.516353   178.031401   \n",
       "\n",
       "scorer                                                                        \\\n",
       "individuals                                                                    \n",
       "bodyparts                                            left fluke                \n",
       "coords                                                        x            y   \n",
       "labeled-data DJI_20231011121723_0076_D img0056.png  1383.927867  1752.935354   \n",
       "                                       img0082.png  1436.257004  1648.277202   \n",
       "                                       img0096.png  1436.257004  1593.935469   \n",
       "                                       img0117.png  1412.105123  1429.903942   \n",
       "                                       img0268.png  1385.940585  1106.872531   \n",
       "                                       img0367.png  1381.915210   906.613167   \n",
       "                                       img0370.png  1377.889896   897.556211   \n",
       "                                       img0433.png  1462.421542   740.568972   \n",
       "                                       img0518.png  1463.427871   579.556430   \n",
       "                                       img0590.png  1530.851872   556.410877   \n",
       "                                       img0780.png  1551.984768   852.271434   \n",
       "                                       img0805.png  1573.117665   873.404330   \n",
       "                                       img0934.png  1572.111336   754.657581   \n",
       "                                       img1000.png  1517.769603   556.410873   \n",
       "                                       img1036.png  1583.180948   395.398332   \n",
       "                                       img1071.png  1590.225247   218.284536   \n",
       "\n",
       "scorer                                                                        \n",
       "individuals                                                                   \n",
       "bodyparts                                           right fluke               \n",
       "coords                                                        x            y  \n",
       "labeled-data DJI_20231011121723_0076_D img0056.png  1532.864468  1745.891055  \n",
       "                                       img0082.png  1580.161963  1638.213918  \n",
       "                                       img0096.png  1579.155635  1581.859528  \n",
       "                                       img0117.png  1560.035396  1416.821673  \n",
       "                                       img0268.png  1529.845544  1086.745963  \n",
       "                                       img0367.png  1507.706258   884.473942  \n",
       "                                       img0370.png  1505.693601   877.429644  \n",
       "                                       img0433.png  1562.048052   707.360135  \n",
       "                                       img0518.png  1580.161963   580.562759  \n",
       "                                       img0590.png  1637.522681   528.233683  \n",
       "                                       img0780.png  1652.617607   852.271434  \n",
       "                                       img0805.png  1678.782145   843.214478  \n",
       "                                       img0934.png  1665.699876   736.543670  \n",
       "                                       img1000.png  1642.554323   537.290634  \n",
       "                                       img1036.png  1674.756831   402.442631  \n",
       "                                       img1071.png  1697.902384   206.208596  \n",
       "\n",
       "[16 rows x 40 columns]"
      ]
     },
     "execution_count": 1,
     "metadata": {},
     "output_type": "execute_result"
    }
   ],
   "source": [
    "import pandas as pd\n",
    "pd.read_hdf('/Users/annateruel/Downloads/CollectedData_Paola.h5')"
   ]
  }
 ],
 "metadata": {
  "kernelspec": {
   "display_name": "dlc_analysis",
   "language": "python",
   "name": "python3"
  },
  "language_info": {
   "codemirror_mode": {
    "name": "ipython",
    "version": 3
   },
   "file_extension": ".py",
   "mimetype": "text/x-python",
   "name": "python",
   "nbconvert_exporter": "python",
   "pygments_lexer": "ipython3",
   "version": "3.10.9"
  }
 },
 "nbformat": 4,
 "nbformat_minor": 2
}
