{
 "cells": [
  {
   "cell_type": "markdown",
   "metadata": {},
   "source": [
    "# Demo Notebook\n",
    "\n",
    "This notebook aims to represent the DeepLabCut output analysis, using example data. \n",
    "So we begin by importing our packages, called for now \"dlc\". "
   ]
  },
  {
   "cell_type": "code",
   "execution_count": 1,
   "metadata": {},
   "outputs": [],
   "source": [
    "import dlc"
   ]
  },
  {
   "cell_type": "markdown",
   "metadata": {},
   "source": [
    "#### Loading data\n",
    "As an example, we will first work on a single file. Later, we'll try batch processing. We define the path where our file is, and with the function\n",
    "`dlc.load_data.read_data` we will load our `.h5` file. "
   ]
  },
  {
   "cell_type": "code",
   "execution_count": 2,
   "metadata": {},
   "outputs": [],
   "source": [
    "h5_path =  '/Users/annateruel/ca2+img-anna-2023-01-30/videos'\n",
    "data = dlc.load_data.read_data( '/Users/annateruel/ca2+img-anna-2023-01-30/videos/0_neutro2DLC_resnet50_ca2+imgJan30shuffle1_500000.h5', 5, 30)"
   ]
  },
  {
   "cell_type": "markdown",
   "metadata": {},
   "source": [
    "Since on this data file we have performed a tracking on the cage, we will define a list of bodyparts we want to work with. "
   ]
  },
  {
   "cell_type": "code",
   "execution_count": 3,
   "metadata": {},
   "outputs": [],
   "source": [
    "bodyparts = ['nose', 'rightear', 'leftear', 'head', 'sp1', 'sp2', 'tail']"
   ]
  },
  {
   "cell_type": "code",
   "execution_count": 13,
   "metadata": {},
   "outputs": [],
   "source": [
    "df2 = data.copy()"
   ]
  },
  {
   "cell_type": "markdown",
   "metadata": {},
   "source": [
    "#### Get centroid from a list of bodyparts\n",
    "\n",
    "One of the functions we can perform from the `data.py` file is to calculate the centroid of specified bodyparts in each dataframe. We can add this centroid coordinates (x,y) to our current dataframe. Let's try that!"
   ]
  },
  {
   "cell_type": "markdown",
   "metadata": {},
   "source": [
    "#### Calculate interpolation\n",
    "\n",
    "If the tracking of some bodyparts is not perfect, we can get the interpolation of those values with likelihood under a certain threshold. "
   ]
  },
  {
   "cell_type": "code",
   "execution_count": null,
   "metadata": {},
   "outputs": [],
   "source": [
    "df2 = data.copy() #we get a copy of the dataframe and work from there\n",
    "df2 = dlc.data.get_interpolation()"
   ]
  },
  {
   "cell_type": "code",
   "execution_count": null,
   "metadata": {},
   "outputs": [],
   "source": [
    "DLCscorer = df2.columns[0][0]\n",
    "threshold = 0.95\n",
    "likelihood_col = (DLCscorer, 'nose', 'likelihood')\n",
    "if df2[likelihood_col].lt(threshold).any():\n",
    "    mask = df2[likelihood_col] < threshold\n",
    "\n",
    "    df2.loc[mask, (DLCscorer, 'nose', 'x')] = np.nan\n",
    "    df2.loc[mask, (DLCscorer, 'nose', 'y')] = np.nan\n",
    "\n",
    "    df2[(DLCscorer, 'nose', 'x')] = df2[(DLCscorer, 'nose', 'x')].interpolate(method='linear')\n",
    "    df2[(DLCscorer, 'nose', 'y')] = df2[(DLCscorer, 'nose', 'y')].interpolate(method='linear')\n",
    "\n",
    "nose2 = df2.loc[:,(DLCscorer, 'nose', slice(None))]\n",
    "nose2"
   ]
  },
  {
   "cell_type": "code",
   "execution_count": 3,
   "metadata": {},
   "outputs": [
    {
     "data": {
      "text/html": [
       "<div>\n",
       "<style scoped>\n",
       "    .dataframe tbody tr th:only-of-type {\n",
       "        vertical-align: middle;\n",
       "    }\n",
       "\n",
       "    .dataframe tbody tr th {\n",
       "        vertical-align: top;\n",
       "    }\n",
       "\n",
       "    .dataframe thead tr th {\n",
       "        text-align: left;\n",
       "    }\n",
       "</style>\n",
       "<table border=\"1\" class=\"dataframe\">\n",
       "  <thead>\n",
       "    <tr>\n",
       "      <th>scorer</th>\n",
       "      <th>DLC_resnet50_ca2+imgJan30shuffle1_500000</th>\n",
       "    </tr>\n",
       "    <tr>\n",
       "      <th>bodyparts</th>\n",
       "      <th>nose</th>\n",
       "    </tr>\n",
       "    <tr>\n",
       "      <th>coords</th>\n",
       "      <th>x</th>\n",
       "    </tr>\n",
       "  </thead>\n",
       "  <tbody>\n",
       "    <tr>\n",
       "      <th>0</th>\n",
       "      <td>527.124634</td>\n",
       "    </tr>\n",
       "    <tr>\n",
       "      <th>1</th>\n",
       "      <td>526.650269</td>\n",
       "    </tr>\n",
       "    <tr>\n",
       "      <th>2</th>\n",
       "      <td>527.668457</td>\n",
       "    </tr>\n",
       "    <tr>\n",
       "      <th>3</th>\n",
       "      <td>527.806580</td>\n",
       "    </tr>\n",
       "    <tr>\n",
       "      <th>4</th>\n",
       "      <td>527.867065</td>\n",
       "    </tr>\n",
       "    <tr>\n",
       "      <th>...</th>\n",
       "      <td>...</td>\n",
       "    </tr>\n",
       "    <tr>\n",
       "      <th>995</th>\n",
       "      <td>304.320038</td>\n",
       "    </tr>\n",
       "    <tr>\n",
       "      <th>996</th>\n",
       "      <td>304.502136</td>\n",
       "    </tr>\n",
       "    <tr>\n",
       "      <th>997</th>\n",
       "      <td>255.933182</td>\n",
       "    </tr>\n",
       "    <tr>\n",
       "      <th>998</th>\n",
       "      <td>253.350449</td>\n",
       "    </tr>\n",
       "    <tr>\n",
       "      <th>999</th>\n",
       "      <td>298.750793</td>\n",
       "    </tr>\n",
       "  </tbody>\n",
       "</table>\n",
       "<p>1000 rows × 1 columns</p>\n",
       "</div>"
      ],
      "text/plain": [
       "scorer    DLC_resnet50_ca2+imgJan30shuffle1_500000\n",
       "bodyparts                                     nose\n",
       "coords                                           x\n",
       "0                                       527.124634\n",
       "1                                       526.650269\n",
       "2                                       527.668457\n",
       "3                                       527.806580\n",
       "4                                       527.867065\n",
       "..                                             ...\n",
       "995                                     304.320038\n",
       "996                                     304.502136\n",
       "997                                     255.933182\n",
       "998                                     253.350449\n",
       "999                                     298.750793\n",
       "\n",
       "[1000 rows x 1 columns]"
      ]
     },
     "execution_count": 3,
     "metadata": {},
     "output_type": "execute_result"
    }
   ],
   "source": [
    "nose = data.loc[:, (slice(None), 'nose', slice(None))]\n",
    "nose.loc[:,(slice(None), slice(None), 'x')]"
   ]
  },
  {
   "cell_type": "code",
   "execution_count": 5,
   "metadata": {},
   "outputs": [
    {
     "name": "stderr",
     "output_type": "stream",
     "text": [
      "/Users/annateruel/phd_code/dlc/plotting.py:81: FutureWarning: \n",
      "\n",
      "`shade` is now deprecated in favor of `fill`; setting `fill=True`.\n",
      "This will become an error in seaborn v0.14.0; please update your code.\n",
      "\n",
      "  ax = sns.kdeplot(\n"
     ]
    },
    {
     "ename": "NameError",
     "evalue": "name 'plt' is not defined",
     "output_type": "error",
     "traceback": [
      "\u001b[0;31m---------------------------------------------------------------------------\u001b[0m",
      "\u001b[0;31mNameError\u001b[0m                                 Traceback (most recent call last)",
      "\u001b[1;32m/Users/annateruel/phd_code/pipeline.ipynb Cell 13\u001b[0m line \u001b[0;36m2\n\u001b[1;32m      <a href='vscode-notebook-cell:/Users/annateruel/phd_code/pipeline.ipynb#X36sZmlsZQ%3D%3D?line=0'>1</a>\u001b[0m dlc\u001b[39m.\u001b[39mplotting\u001b[39m.\u001b[39mdensity_plot(bodypart\u001b[39m=\u001b[39mnose, style\u001b[39m=\u001b[39m\u001b[39m'\u001b[39m\u001b[39mdark\u001b[39m\u001b[39m'\u001b[39m)\n\u001b[0;32m----> <a href='vscode-notebook-cell:/Users/annateruel/phd_code/pipeline.ipynb#X36sZmlsZQ%3D%3D?line=1'>2</a>\u001b[0m plt\u001b[39m.\u001b[39mshow()\n",
      "\u001b[0;31mNameError\u001b[0m: name 'plt' is not defined"
     ]
    },
    {
     "data": {
      "image/png": "[encoded data removed]",
      "text/plain": [
       "<Figure size 1000x1000 with 2 Axes>"
      ]
     },
     "metadata": {},
     "output_type": "display_data"
    }
   ],
   "source": [
    "dlc.plotting.density_plot(bodypart=nose, style='dark')\n",
    "plt.show()"
   ]
  },
  {
   "cell_type": "code",
   "execution_count": null,
   "metadata": {},
   "outputs": [],
   "source": [
    "import numpy as np\n",
    "import matplotlib.pyplot as plt\n",
    "from matplotlib.collections import LineCollection\n",
    "\n",
    "fig, ax = plt.subplots(figsize=(10, 10))\n",
    "\n",
    "x = nose.loc[:, (slice(None), slice(None), 'x')].values\n",
    "y = nose.loc[:, (slice(None), slice(None), 'y')].values\n",
    "likelihood = nose.loc[:, (slice(None), slice(None), 'likelihood')].values.flatten()  # Flatten the array\n",
    "\n",
    "# Create segments for LineCollection\n",
    "points = np.array([x, y]).T.reshape(-1, 1, 2)\n",
    "segments = np.concatenate([points[:-1], points[1:]], axis=1)\n",
    "\n",
    "# Create a LineCollection object with segments and colormap\n",
    "colormap = plt.cm.RdYlGn\n",
    "lc = LineCollection(segments, cmap=colormap, norm=plt.Normalize(likelihood.min(), likelihood.max()), linewidth=0.5, alpha=0.5)\n",
    "lc.set_array(likelihood)\n",
    "\n",
    "ax.add_collection(lc)\n",
    "\n",
    "# Add a colorbar to the plot to show what each color represents\n",
    "cbar = plt.colorbar(lc, ax=ax)\n",
    "cbar.set_label('Likelihood Value')\n",
    "\n",
    "ax.set_xlim(x.min(), x.max())\n",
    "ax.set_ylim(y.min(), y.max())\n",
    "\n",
    "plt.show()\n",
    "\n"
   ]
  },
  {
   "cell_type": "code",
   "execution_count": null,
   "metadata": {},
   "outputs": [],
   "source": [
    "import numpy as np\n",
    "import matplotlib.pyplot as plt\n",
    "from matplotlib.collections import LineCollection\n",
    "\n",
    "def plot_data(ax, data, title):\n",
    "    x = data.loc[:, (slice(None), slice(None), 'x')].values\n",
    "    y = data.loc[:, (slice(None), slice(None), 'y')].values\n",
    "    likelihood = data.loc[:, (slice(None), slice(None), 'likelihood')].values.flatten()\n",
    "\n",
    "    # Create segments for LineCollection\n",
    "    points = np.array([x, y]).T.reshape(-1, 1, 2)\n",
    "    segments = np.concatenate([points[:-1], points[1:]], axis=1)\n",
    "\n",
    "    # Create a LineCollection object with segments and colormap\n",
    "    colormap = plt.cm.RdYlGn\n",
    "    lc = LineCollection(segments, cmap=colormap, norm=plt.Normalize(likelihood.min(), likelihood.max()), linewidth=0.5, alpha=0.5)\n",
    "    lc.set_array(likelihood)\n",
    "\n",
    "    ax.add_collection(lc)\n",
    "    ax.set_xlim(x.min(), x.max())\n",
    "    ax.set_ylim(y.min(), y.max())\n",
    "    ax.set_title(title)\n",
    "    \n",
    "    return lc\n",
    "\n",
    "fig, (ax1, ax2) = plt.subplots(1, 2, figsize=(20, 10))\n",
    "\n",
    "lc1 = plot_data(ax1, nose, \"Before Interpolation\")\n",
    "lc2 = plot_data(ax2, nose2, \"After Interpolation\")\n",
    "\n",
    "cbar_ax = fig.add_axes([0.92, 0.15, 0.02, 0.7])\n",
    "cbar = fig.colorbar(lc2, cax=cbar_ax)\n",
    "cbar.set_label('Likelihood Value')\n",
    "\n",
    "plt.tight_layout()\n",
    "plt.show()\n"
   ]
  },
  {
   "cell_type": "code",
   "execution_count": 14,
   "metadata": {},
   "outputs": [
    {
     "ename": "AttributeError",
     "evalue": "'Series' object has no attribute 'columns'",
     "output_type": "error",
     "traceback": [
      "\u001b[0;31m---------------------------------------------------------------------------\u001b[0m",
      "\u001b[0;31mAttributeError\u001b[0m                            Traceback (most recent call last)",
      "\u001b[0;32m/var/folders/q4/d9bmvghd77x_l961kcngf8_c0000gn/T/ipykernel_28306/1886844687.py\u001b[0m in \u001b[0;36m?\u001b[0;34m()\u001b[0m\n\u001b[0;32m----> 1\u001b[0;31m \u001b[0mnose\u001b[0m \u001b[0;34m=\u001b[0m \u001b[0mdlc\u001b[0m\u001b[0;34m.\u001b[0m\u001b[0mdata\u001b[0m\u001b[0;34m.\u001b[0m\u001b[0mget_interpolation\u001b[0m\u001b[0;34m(\u001b[0m\u001b[0mdf2\u001b[0m\u001b[0;34m,\u001b[0m \u001b[0mbodyparts\u001b[0m\u001b[0;34m)\u001b[0m\u001b[0;34m\u001b[0m\u001b[0;34m\u001b[0m\u001b[0m\n\u001b[0m",
      "\u001b[0;32m~/phd_code/dlc/data.py\u001b[0m in \u001b[0;36m?\u001b[0;34m(data_dict, bodyparts, threshold, interpolation_method)\u001b[0m\n\u001b[1;32m     50\u001b[0m         \u001b[0mdict\u001b[0m\u001b[0;34m:\u001b[0m \u001b[0mDictionary\u001b[0m \u001b[0;32mwith\u001b[0m \u001b[0mDataFrames\u001b[0m \u001b[0mthat\u001b[0m \u001b[0mhave\u001b[0m \u001b[0minterpolated\u001b[0m \u001b[0mvalues\u001b[0m \u001b[0;32mfor\u001b[0m \u001b[0mthe\u001b[0m \u001b[0mspecified\u001b[0m \u001b[0mbody\u001b[0m \u001b[0mparts\u001b[0m\u001b[0;34m.\u001b[0m\u001b[0;34m\u001b[0m\u001b[0;34m\u001b[0m\u001b[0m\n\u001b[1;32m     51\u001b[0m     \"\"\"   \n\u001b[1;32m     52\u001b[0m     \u001b[0;32mfor\u001b[0m \u001b[0mkey\u001b[0m\u001b[0;34m,\u001b[0m \u001b[0mdf\u001b[0m \u001b[0;32min\u001b[0m \u001b[0mdata_dict\u001b[0m\u001b[0;34m.\u001b[0m\u001b[0mitems\u001b[0m\u001b[0;34m(\u001b[0m\u001b[0;34m)\u001b[0m\u001b[0;34m:\u001b[0m\u001b[0;34m\u001b[0m\u001b[0;34m\u001b[0m\u001b[0m\n\u001b[1;32m     53\u001b[0m         \u001b[0;32mfor\u001b[0m \u001b[0mbp\u001b[0m \u001b[0;32min\u001b[0m \u001b[0mbodyparts\u001b[0m\u001b[0;34m:\u001b[0m\u001b[0;34m\u001b[0m\u001b[0;34m\u001b[0m\u001b[0m\n\u001b[0;32m---> 54\u001b[0;31m             \u001b[0;32mif\u001b[0m \u001b[0mbp\u001b[0m \u001b[0;32min\u001b[0m \u001b[0mdf\u001b[0m\u001b[0;34m.\u001b[0m\u001b[0mcolumns\u001b[0m\u001b[0;34m.\u001b[0m\u001b[0mget_level_values\u001b[0m\u001b[0;34m(\u001b[0m\u001b[0;34m'bodyparts'\u001b[0m\u001b[0;34m)\u001b[0m\u001b[0;34m.\u001b[0m\u001b[0munique\u001b[0m\u001b[0;34m(\u001b[0m\u001b[0;34m)\u001b[0m\u001b[0;34m:\u001b[0m\u001b[0;34m\u001b[0m\u001b[0;34m\u001b[0m\u001b[0m\n\u001b[0m\u001b[1;32m     55\u001b[0m \u001b[0;34m\u001b[0m\u001b[0m\n\u001b[1;32m     56\u001b[0m                 \u001b[0mmask\u001b[0m \u001b[0;34m=\u001b[0m \u001b[0mdf\u001b[0m\u001b[0;34m.\u001b[0m\u001b[0mloc\u001b[0m\u001b[0;34m[\u001b[0m\u001b[0;34m:\u001b[0m\u001b[0;34m,\u001b[0m \u001b[0;34m(\u001b[0m\u001b[0mslice\u001b[0m\u001b[0;34m(\u001b[0m\u001b[0;32mNone\u001b[0m\u001b[0;34m)\u001b[0m\u001b[0;34m,\u001b[0m \u001b[0mbp\u001b[0m\u001b[0;34m,\u001b[0m \u001b[0;34m'likelihood'\u001b[0m\u001b[0;34m)\u001b[0m\u001b[0;34m]\u001b[0m \u001b[0;34m<\u001b[0m \u001b[0mthreshold\u001b[0m\u001b[0;34m\u001b[0m\u001b[0;34m\u001b[0m\u001b[0m\n\u001b[1;32m     57\u001b[0m \u001b[0;34m\u001b[0m\u001b[0m\n",
      "\u001b[0;32m~/miniconda3/envs/dlc_analysis/lib/python3.10/site-packages/pandas/core/generic.py\u001b[0m in \u001b[0;36m?\u001b[0;34m(self, name)\u001b[0m\n\u001b[1;32m   5898\u001b[0m             \u001b[0;32mand\u001b[0m \u001b[0mname\u001b[0m \u001b[0;32mnot\u001b[0m \u001b[0;32min\u001b[0m \u001b[0mself\u001b[0m\u001b[0;34m.\u001b[0m\u001b[0m_accessors\u001b[0m\u001b[0;34m\u001b[0m\u001b[0;34m\u001b[0m\u001b[0m\n\u001b[1;32m   5899\u001b[0m             \u001b[0;32mand\u001b[0m \u001b[0mself\u001b[0m\u001b[0;34m.\u001b[0m\u001b[0m_info_axis\u001b[0m\u001b[0;34m.\u001b[0m\u001b[0m_can_hold_identifiers_and_holds_name\u001b[0m\u001b[0;34m(\u001b[0m\u001b[0mname\u001b[0m\u001b[0;34m)\u001b[0m\u001b[0;34m\u001b[0m\u001b[0;34m\u001b[0m\u001b[0m\n\u001b[1;32m   5900\u001b[0m         ):\n\u001b[1;32m   5901\u001b[0m             \u001b[0;32mreturn\u001b[0m \u001b[0mself\u001b[0m\u001b[0;34m[\u001b[0m\u001b[0mname\u001b[0m\u001b[0;34m]\u001b[0m\u001b[0;34m\u001b[0m\u001b[0;34m\u001b[0m\u001b[0m\n\u001b[0;32m-> 5902\u001b[0;31m         \u001b[0;32mreturn\u001b[0m \u001b[0mobject\u001b[0m\u001b[0;34m.\u001b[0m\u001b[0m__getattribute__\u001b[0m\u001b[0;34m(\u001b[0m\u001b[0mself\u001b[0m\u001b[0;34m,\u001b[0m \u001b[0mname\u001b[0m\u001b[0;34m)\u001b[0m\u001b[0;34m\u001b[0m\u001b[0;34m\u001b[0m\u001b[0m\n\u001b[0m",
      "\u001b[0;31mAttributeError\u001b[0m: 'Series' object has no attribute 'columns'"
     ]
    }
   ],
   "source": [
    "nose = dlc.data.get_interpolation(df2, bodyparts)"
   ]
  },
  {
   "cell_type": "code",
   "execution_count": null,
   "metadata": {},
   "outputs": [],
   "source": [
    "fig, (ax1, ax2) = plt.subplots(1, 2, figsize=(20, 10))\n",
    "lc1 = plot_data(ax1, nose, \"Before Interpolation\")\n",
    "lc2 = plot_data(ax2, nose2, \"After Interpolation\")"
   ]
  },
  {
   "cell_type": "code",
   "execution_count": 7,
   "metadata": {},
   "outputs": [],
   "source": [
    "from dlc.analysis.time_roi import ROIDrawer\n",
    "import pandas as pd"
   ]
  },
  {
   "cell_type": "code",
   "execution_count": 9,
   "metadata": {},
   "outputs": [
    {
     "name": "stdout",
     "output_type": "stream",
     "text": [
      "Button clicked, processing ROIs...\n",
      "ROI DataFrame assigned:    index shape-type  vertex-index      axis-0      axis-1\n",
      "0      0     direct             0  133.240947  125.909605\n",
      "1      0     direct             1  133.240947  300.269954\n",
      "2      0     direct             2  471.902394  309.490934\n",
      "3      0     direct             3  464.357956  102.857155\n",
      "ROI DataFrame saved to: /Users/annateruel/coord_poly.h5\n"
     ]
    }
   ],
   "source": [
    "video_path = '/Users/annateruel/Desktop/0_test.avi'\n",
    "out_dir = '/Users/annateruel/coord_poly.h5'\n",
    "roi_drawer = ROIDrawer(video_path, save_dir = out_dir, num_rois=2)\n",
    "r = roi_drawer.draw_rois()\n",
    "r"
   ]
  },
  {
   "cell_type": "code",
   "execution_count": 6,
   "metadata": {},
   "outputs": [
    {
     "data": {
      "text/html": [
       "<div>\n",
       "<style scoped>\n",
       "    .dataframe tbody tr th:only-of-type {\n",
       "        vertical-align: middle;\n",
       "    }\n",
       "\n",
       "    .dataframe tbody tr th {\n",
       "        vertical-align: top;\n",
       "    }\n",
       "\n",
       "    .dataframe thead th {\n",
       "        text-align: right;\n",
       "    }\n",
       "</style>\n",
       "<table border=\"1\" class=\"dataframe\">\n",
       "  <thead>\n",
       "    <tr style=\"text-align: right;\">\n",
       "      <th></th>\n",
       "      <th>index</th>\n",
       "      <th>shape-type</th>\n",
       "      <th>vertex-index</th>\n",
       "      <th>axis-0</th>\n",
       "      <th>axis-1</th>\n",
       "    </tr>\n",
       "  </thead>\n",
       "  <tbody>\n",
       "    <tr>\n",
       "      <th>0</th>\n",
       "      <td>0</td>\n",
       "      <td>add_ellipse</td>\n",
       "      <td>0</td>\n",
       "      <td>118.413496</td>\n",
       "      <td>154.689339</td>\n",
       "    </tr>\n",
       "    <tr>\n",
       "      <th>1</th>\n",
       "      <td>0</td>\n",
       "      <td>add_ellipse</td>\n",
       "      <td>1</td>\n",
       "      <td>118.413496</td>\n",
       "      <td>278.667848</td>\n",
       "    </tr>\n",
       "    <tr>\n",
       "      <th>2</th>\n",
       "      <td>0</td>\n",
       "      <td>add_ellipse</td>\n",
       "      <td>2</td>\n",
       "      <td>234.845488</td>\n",
       "      <td>278.667848</td>\n",
       "    </tr>\n",
       "    <tr>\n",
       "      <th>3</th>\n",
       "      <td>0</td>\n",
       "      <td>add_ellipse</td>\n",
       "      <td>3</td>\n",
       "      <td>234.845488</td>\n",
       "      <td>154.689339</td>\n",
       "    </tr>\n",
       "    <tr>\n",
       "      <th>4</th>\n",
       "      <td>1</td>\n",
       "      <td>add_ellipse</td>\n",
       "      <td>0</td>\n",
       "      <td>340.496739</td>\n",
       "      <td>129.893637</td>\n",
       "    </tr>\n",
       "    <tr>\n",
       "      <th>5</th>\n",
       "      <td>1</td>\n",
       "      <td>add_ellipse</td>\n",
       "      <td>1</td>\n",
       "      <td>340.496739</td>\n",
       "      <td>279.745922</td>\n",
       "    </tr>\n",
       "    <tr>\n",
       "      <th>6</th>\n",
       "      <td>1</td>\n",
       "      <td>add_ellipse</td>\n",
       "      <td>2</td>\n",
       "      <td>460.162952</td>\n",
       "      <td>279.745922</td>\n",
       "    </tr>\n",
       "    <tr>\n",
       "      <th>7</th>\n",
       "      <td>1</td>\n",
       "      <td>add_ellipse</td>\n",
       "      <td>3</td>\n",
       "      <td>460.162952</td>\n",
       "      <td>129.893637</td>\n",
       "    </tr>\n",
       "  </tbody>\n",
       "</table>\n",
       "</div>"
      ],
      "text/plain": [
       "   index   shape-type  vertex-index      axis-0      axis-1\n",
       "0      0  add_ellipse             0  118.413496  154.689339\n",
       "1      0  add_ellipse             1  118.413496  278.667848\n",
       "2      0  add_ellipse             2  234.845488  278.667848\n",
       "3      0  add_ellipse             3  234.845488  154.689339\n",
       "4      1  add_ellipse             0  340.496739  129.893637\n",
       "5      1  add_ellipse             1  340.496739  279.745922\n",
       "6      1  add_ellipse             2  460.162952  279.745922\n",
       "7      1  add_ellipse             3  460.162952  129.893637"
      ]
     },
     "execution_count": 6,
     "metadata": {},
     "output_type": "execute_result"
    }
   ],
   "source": [
    "r = pd.read_hdf('/Users/annateruel/coord_poly.h5')\n",
    "r"
   ]
  },
  {
   "cell_type": "code",
   "execution_count": null,
   "metadata": {},
   "outputs": [],
   "source": [
    "# Example usage:\n",
    "time_in_roi = TimeInROI()\n",
    "time_in_roi.add_roi('ellipse', ((1, 1), (1, 2)))\n",
    "print(time_in_roi.is_point_inside_roi((1, 2), 0))  # True for ellipse\n",
    "\n",
    "time_in_roi.add_roi('polygon', [(0, 0), (0, 2), (2, 2), (2, 0)])\n",
    "print(time_in_roi.is_point_inside_roi((1, 1), 1))  # True for polygon\n",
    "\n",
    "time_in_roi.add_roi('rectangle', [(0, 0), (2, 2)])\n",
    "print(time_in_roi.is_point_inside_roi((1, 1), 2))  # True for rectangle\n"
   ]
  }
 ],
 "metadata": {
  "kernelspec": {
   "display_name": "dlc_analysis",
   "language": "python",
   "name": "python3"
  },
  "language_info": {
   "codemirror_mode": {
    "name": "ipython",
    "version": 3
   },
   "file_extension": ".py",
   "mimetype": "text/x-python",
   "name": "python",
   "nbconvert_exporter": "python",
   "pygments_lexer": "ipython3",
   "version": "3.10.9"
  }
 },
 "nbformat": 4,
 "nbformat_minor": 2
}
